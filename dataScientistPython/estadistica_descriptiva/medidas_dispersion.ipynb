{
 "cells": [
  {
   "cell_type": "markdown",
   "metadata": {},
   "source": [
    "Measures of dispersion are statistical tools used to describe the spread or variability of a dataset. They indicate how much the data points differ from the central value (such as the mean or median) and from each other. Common measures of dispersion include:\n",
    "\n",
    "- **Range**: The difference between the maximum and minimum values in the dataset.\n",
    "- **Variance**: The average of the squared differences between each data point and the mean.\n",
    "- **Standard Deviation**: The square root of the variance, representing the average distance of data points from the mean.\n",
    "- **Interquartile Range (IQR)**: The difference between the third quartile (Q3) and the first quartile (Q1), showing the spread of the middle 50% of the data.\n",
    "\n",
    "These measures help to understand the consistency, reliability, and variability of the data."
   ]
  },
  {
   "cell_type": "code",
   "execution_count": 1,
   "metadata": {},
   "outputs": [],
   "source": [
    "import pandas as pd\t\n",
    "import matplotlib.pyplot as plt\n",
    "import seaborn as sns\n",
    "\n",
    "# Load the dataset\n",
    "df = pd.read_csv('data.csv')"
   ]
  },
  {
   "cell_type": "markdown",
   "metadata": {},
   "source": [
    "The variable `df` is a Pandas DataFrame containing a dataset with 38,531 rows and 30 columns. Here's a summary of its structure and content:\n",
    "\n",
    "- **Rows**: 38,531 entries, indexed from 0 to 38,530.\n",
    "- **Columns**: 30 columns with various data types:\n",
    "    - **Object (string)**: 10 columns (e.g., `manufacturer_name`, `model_name`, `color`).\n",
    "    - **Integer (int64)**: 5 columns (e.g., `odometer_value`, `year_produced`).\n",
    "    - **Float (float64)**: 2 columns (e.g., `engine_capacity`, `price_usd`).\n",
    "    - **Boolean (bool)**: 13 columns (e.g., `engine_has_gas`, `has_warranty`).\n",
    "    \n",
    "### Key Columns:\n",
    "- **manufacturer_name**: Name of the car manufacturer.\n",
    "- **model_name**: Model of the car.\n",
    "- **transmission**: Type of transmission (e.g., automatic, mechanical).\n",
    "- **color**: Color of the car.\n",
    "- **odometer_value**: Distance the car has traveled (in kilometers).\n",
    "- **year_produced**: Year the car was manufactured.\n",
    "- **engine_fuel**: Type of fuel used by the engine (e.g., gasoline, diesel).\n",
    "- **engine_capacity**: Engine capacity in liters.\n",
    "- **body_type**: Type of car body (e.g., sedan, SUV).\n",
    "- **price_usd**: Price of the car in USD.\n",
    "- **duration_listed**: Number of days the car has been listed for sale.\n",
    "\n",
    "### Additional Details:\n",
    "- Some columns, like `engine_capacity`, have a few missing values.\n",
    "- The dataset includes categorical, numerical, and boolean data.\n",
    "- Memory usage: Approximately 5.5 MB.\n",
    "\n",
    "This dataset appears to be related to car listings, with details about the cars' specifications, conditions, and sale information.\n"
   ]
  },
  {
   "cell_type": "code",
   "execution_count": 2,
   "metadata": {},
   "outputs": [
    {
     "data": {
      "text/plain": [
       "np.float64(6428.1520182029035)"
      ]
     },
     "execution_count": 2,
     "metadata": {},
     "output_type": "execute_result"
    }
   ],
   "source": [
    "df['price_usd'].std()"
   ]
  },
  {
   "cell_type": "markdown",
   "metadata": {},
   "source": [
    "```markdown\n",
    "### Range\n",
    "\n",
    "The **range** is a measure of dispersion that represents the difference between the maximum and minimum values in a dataset. It provides a simple way to understand the spread of the data.\n",
    "\n",
    "For the dataset in the variable `df`, the range can be calculated for numerical columns. For example:\n",
    "\n",
    "- **Price (price_usd)**: The range of car prices can be calculated as:\n",
    "    \\[\n",
    "    \\text{Range} = \\text{Maximum Price} - \\text{Minimum Price}\n",
    "    \\]\n",
    "\n",
    "- **Odometer Value (odometer_value)**: The range of odometer readings can be calculated similarly:\n",
    "    \\[\n",
    "    \\text{Range} = \\text{Maximum Odometer Value} - \\text{Minimum Odometer Value}\n",
    "    \\]\n",
    "\n",
    "The range is useful for understanding the variability in the dataset but can be sensitive to outliers, as it only considers the extreme values.\n",
    "```"
   ]
  },
  {
   "cell_type": "code",
   "execution_count": 3,
   "metadata": {},
   "outputs": [
    {
     "name": "stdout",
     "output_type": "stream",
     "text": [
      "Range: 49999.0\n"
     ]
    }
   ],
   "source": [
    "# Range = max_value - min_value\n",
    "rango = df['price_usd'].max() - df['price_usd'].min()\n",
    "print(f\"Range: {rango}\")"
   ]
  },
  {
   "cell_type": "markdown",
   "metadata": {},
   "source": [
    "### Quartiles\n",
    "\n",
    "Quartiles are statistical measures that divide a dataset into four equal parts, each containing 25% of the data points. They are used to summarize the distribution of a dataset and provide insights into its spread and central tendency. The three main quartiles are:\n",
    "\n",
    "1. **First Quartile (Q1)**: Also known as the lower quartile, it represents the 25th percentile of the data. This means that 25% of the data points are below Q1, and 75% are above it.\n",
    "\n",
    "2. **Second Quartile (Q2)**: Also known as the median, it represents the 50th percentile of the data. This is the middle value of the dataset, where 50% of the data points are below Q2, and 50% are above it.\n",
    "\n",
    "3. **Third Quartile (Q3)**: Also known as the upper quartile, it represents the 75th percentile of the data. This means that 75% of the data points are below Q3, and 25% are above it.\n",
    "\n",
    "### Interquartile Range (IQR)\n",
    "\n",
    "The **Interquartile Range (IQR)** is a measure of dispersion that represents the range of the middle 50% of the data. It is calculated as:\n",
    "\\[\n",
    "\\text{IQR} = Q3 - Q1\n",
    "\\]\n",
    "\n",
    "The IQR is useful for identifying outliers, as data points that fall below \\( Q1 - 1.5 \\times \\text{IQR} \\) or above \\( Q3 + 1.5 \\times \\text{IQR} \\) are often considered outliers.\n",
    "\n",
    "### Example\n",
    "\n",
    "For the dataset in the variable `df`, the quartiles can be calculated for numerical columns like `price_usd` or `odometer_value`. For instance:\n",
    "\n",
    "- **Q1**: The value below which 25% of the car prices fall.\n",
    "- **Q2 (Median)**: The middle value of the car prices.\n",
    "- **Q3**: The value below which 75% of the car prices fall.\n",
    "\n",
    "These quartiles provide a deeper understanding of the distribution of car prices or other numerical features in the dataset."
   ]
  },
  {
   "cell_type": "code",
   "execution_count": null,
   "metadata": {},
   "outputs": [],
   "source": []
  }
 ],
 "metadata": {
  "kernelspec": {
   "display_name": "ia_ptojects",
   "language": "python",
   "name": "python3"
  },
  "language_info": {
   "codemirror_mode": {
    "name": "ipython",
    "version": 3
   },
   "file_extension": ".py",
   "mimetype": "text/x-python",
   "name": "python",
   "nbconvert_exporter": "python",
   "pygments_lexer": "ipython3",
   "version": "3.12.9"
  }
 },
 "nbformat": 4,
 "nbformat_minor": 2
}
