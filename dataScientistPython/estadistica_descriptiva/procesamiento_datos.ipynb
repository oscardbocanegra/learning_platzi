{
 "cells": [
  {
   "cell_type": "markdown",
   "metadata": {},
   "source": [
    "**Numerical Data Processing and Scaling**\n",
    "\n",
    "Numerical data processing refers to the manipulation and transformation of numerical data to prepare it for analysis or machine learning models. This includes tasks such as handling missing values, normalizing data, encoding categorical variables, and applying mathematical transformations to make the data suitable for algorithms.\n",
    "\n",
    "Numerical data scaling is a specific step in data preprocessing where the range of numerical features is adjusted to ensure that all features contribute equally to the model. Common scaling techniques include:\n",
    "\n",
    "- **Normalization**: Rescales data to a range of [0, 1].\n",
    "- **Standardization**: Centers the data around the mean with a standard deviation of 1 (z-score normalization).\n",
    "- **Min-Max Scaling**: Scales data to a specific range, often [0, 1].\n",
    "- **Robust Scaling**: Uses the median and interquartile range to scale data, making it robust to outliers.\n",
    "\n",
    "Scaling is crucial for algorithms sensitive to feature magnitudes, such as gradient descent-based models or distance-based algorithms like k-nearest neighbors."
   ]
  },
  {
   "cell_type": "code",
   "execution_count": 3,
   "metadata": {},
   "outputs": [],
   "source": [
    "import timeit\n",
    "import numpy as np\n",
    "import pandas as pd\n",
    "import matplotlib.pyplot as plt\n",
    "from sklearn import datasets, linear_model\n",
    "\n",
    "X, y = datasets.load_diabetes(return_X_y=True)\n",
    "raw = X[:, None, 2]\n"
   ]
  },
  {
   "cell_type": "code",
   "execution_count": 4,
   "metadata": {},
   "outputs": [
    {
     "data": {
      "text/plain": [
       "(array([32., 66., 98., 90., 61., 53., 23., 12.,  5.,  2.]),\n",
       " array([-1. , -0.8, -0.6, -0.4, -0.2,  0. ,  0.2,  0.4,  0.6,  0.8,  1. ]),\n",
       " <BarContainer object of 10 artists>)"
      ]
     },
     "execution_count": 4,
     "metadata": {},
     "output_type": "execute_result"
    },
    {
     "data": {
      "image/png": "[encoded data removed]",
      "text/plain": [
       "<Figure size 1000x500 with 2 Axes>"
      ]
     },
     "metadata": {},
     "output_type": "display_data"
    }
   ],
   "source": [
    "# reglas de ecalamiento\n",
    "max_raw = max(raw)\n",
    "min_raw = min(raw)\n",
    "scaled = (2*raw - max_raw - min_raw) / (max_raw - min_raw)\n",
    "\n",
    "fig, axs = plt.subplots(1, 2, sharex=True, figsize=(10, 5))\n",
    "\n",
    "axs[0].hist(raw)\n",
    "axs[1].hist(scaled)"
   ]
  },
  {
   "cell_type": "code",
   "execution_count": null,
   "metadata": {},
   "outputs": [],
   "source": [
    "#Modelos para entrenamiento\n",
    "def train_raw():\n",
    "    linear_model.LinearRegression().fit(raw, y)\n",
    "def train_scaled():\n",
    "    linear_model.LinearRegression().fit(scaled, y)"
   ]
  },
  {
   "cell_type": "code",
   "execution_count": 7,
   "metadata": {},
   "outputs": [
    {
     "name": "stdout",
     "output_type": "stream",
     "text": [
      "train raw: 0.1304406999843195 \n",
      "train raw: 0.09018210001522675 \n"
     ]
    }
   ],
   "source": [
    "raw_time = timeit.timeit(train_raw, number=100)\n",
    "scaled_time = timeit.timeit(train_scaled, number=100)\n",
    "print(f'train raw: {raw_time} ')\n",
    "print(f'train raw: {scaled_time} ')"
   ]
  },
  {
   "cell_type": "code",
   "execution_count": null,
   "metadata": {},
   "outputs": [],
   "source": []
  }
 ],
 "metadata": {
  "kernelspec": {
   "display_name": "ia_ptojects",
   "language": "python",
   "name": "python3"
  },
  "language_info": {
   "codemirror_mode": {
    "name": "ipython",
    "version": 3
   },
   "file_extension": ".py",
   "mimetype": "text/x-python",
   "name": "python",
   "nbconvert_exporter": "python",
   "pygments_lexer": "ipython3",
   "version": "3.12.9"
  }
 },
 "nbformat": 4,
 "nbformat_minor": 2
}
