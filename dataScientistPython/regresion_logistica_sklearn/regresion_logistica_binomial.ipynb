{
 "cells": [
  {
   "cell_type": "markdown",
   "id": "d02ace12",
   "metadata": {},
   "source": [
    "## Regresion logistica binimial"
   ]
  },
  {
   "cell_type": "markdown",
   "id": "e5ba9218",
   "metadata": {},
   "source": []
  }
 ],
 "metadata": {
  "language_info": {
   "name": "python"
  }
 },
 "nbformat": 4,
 "nbformat_minor": 5
}
