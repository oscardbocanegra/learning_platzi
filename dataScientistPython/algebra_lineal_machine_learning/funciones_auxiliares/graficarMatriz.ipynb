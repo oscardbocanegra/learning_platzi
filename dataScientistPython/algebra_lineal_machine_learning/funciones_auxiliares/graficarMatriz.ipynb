{
 "cells": [
  {
   "cell_type": "code",
   "execution_count": 1,
   "id": "de1a4f59",
   "metadata": {},
   "outputs": [],
   "source": [
    "def graficarMatriz(matriz, vectorCol=[\"red\", \"blue\"]):\n",
    "\n",
    "    # Circulo unitario\n",
    "    x = np.linspace(-1, 1, 100000)\n",
    "    y = np.sqrt(1 - x**2)\n",
    "\n",
    "    # Circulo transformado\n",
    "    x1 = matriz[0, 0] * x + matriz[0, 1] * y\n",
    "    y1 = matriz[1, 0] * x + matriz[1, 1] * y\n",
    "    x1_neg = matriz[0, 0] * x - matriz[0, 1] * y\n",
    "    y1_neg = matriz[1, 0] * x - matriz[1, 1] * y\n",
    "\n",
    "    # Vectores\n",
    "\n",
    "    u1 = [matriz[0, 0], matriz[1, 0]]\n",
    "    v1 = [matriz[0, 1], matriz[1, 1]]\n",
    "\n",
    "    graficarVectores([u1, v1], cols=[vectorCol[0], vectorCol[1]])\n",
    "\n",
    "    plt.plot(x1, y1, 'green', alpha=0.7)\n",
    "    plt.plot(x1_neg, y1_neg, 'green', alpha=0.7)"
   ]
  },
  {
   "cell_type": "code",
   "execution_count": null,
   "id": "5b58e874",
   "metadata": {},
   "outputs": [],
   "source": []
  }
 ],
 "metadata": {
  "kernelspec": {
   "display_name": ".venv",
   "language": "python",
   "name": "python3"
  },
  "language_info": {
   "codemirror_mode": {
    "name": "ipython",
    "version": 3
   },
   "file_extension": ".py",
   "mimetype": "text/x-python",
   "name": "python",
   "nbconvert_exporter": "python",
   "pygments_lexer": "ipython3",
   "version": "3.13.3"
  }
 },
 "nbformat": 4,
 "nbformat_minor": 5
}
