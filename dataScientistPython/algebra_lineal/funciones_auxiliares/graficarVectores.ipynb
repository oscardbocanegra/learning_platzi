{
 "cells": [
  {
   "cell_type": "code",
   "execution_count": null,
   "id": "10c459a1",
   "metadata": {},
   "outputs": [],
   "source": [
    "def graficarVectores(vecs, cols, alpha = 1):\n",
    "    \n",
    "    plt.figure()\n",
    "    plt.axvline(x = 0, color = \"grey\", zorder = 0)\n",
    "    plt.axhline(y = 0, color = \"grey\", zorder = 0)\n",
    "\n",
    "    for i in range(len(vecs)):\n",
    "        x = np.concatenate([[0, 0], vecs[i]])\n",
    "        plt.quiver([x[0]],\n",
    "                   [x[1]],\n",
    "                   [x[2]],\n",
    "                   [x[3]],\n",
    "                   angles= 'xy', scale_units='xy', scale=1,\n",
    "                   color= cols[i], \n",
    "                   alpha = alpha\n",
    "\n",
    "        )"
   ]
  }
 ],
 "metadata": {
  "kernelspec": {
   "display_name": "ia_ptojects",
   "language": "python",
   "name": "python3"
  },
  "language_info": {
   "name": "python",
   "version": "3.12.9"
  }
 },
 "nbformat": 4,
 "nbformat_minor": 5
}
