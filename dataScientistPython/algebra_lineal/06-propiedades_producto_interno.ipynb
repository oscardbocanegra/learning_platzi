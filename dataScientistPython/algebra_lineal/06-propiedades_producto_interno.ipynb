{
 "cells": [
  {
   "cell_type": "code",
   "execution_count": 1,
   "id": "6827eb9c",
   "metadata": {},
   "outputs": [],
   "source": [
    "import numpy as np"
   ]
  },
  {
   "cell_type": "code",
   "execution_count": 2,
   "id": "a1b1733e",
   "metadata": {},
   "outputs": [],
   "source": [
    "A = np.array([[2, 3], [5, 7], [11, 13]])\n",
    "B = np.array([[1, 3], [2, 1]])\n",
    "C = np.array([[3, 1], [4, 2]])"
   ]
  },
  {
   "cell_type": "markdown",
   "id": "1e684622",
   "metadata": {},
   "source": [
    "El código que aparece a continuación realiza multiplicaciones de matrices utilizando arreglos de NumPy. Primero, se definen tres matrices: `A`, `B` y `C`. Luego, se calculan dos productos matriciales:\n",
    "\n",
    "- `ABC = A.dot(B.dot(C))`: Multiplica primero las matrices `B` y `C`, y luego multiplica el resultado por la matriz `A`.\n",
    "- `AB_C = A.dot(B).dot(C)`: Multiplica primero las matrices `A` y `B`, y luego multiplica el resultado por la matriz `C`.\n",
    "\n",
    "En este caso, ambos métodos producen el mismo resultado porque la multiplicación de matrices es asociativa, es decir, el orden de las operaciones no afecta el resultado final siempre que la secuencia de las matrices sea la misma."
   ]
  },
  {
   "cell_type": "code",
   "execution_count": 3,
   "id": "c5642d4d",
   "metadata": {},
   "outputs": [
    {
     "data": {
      "text/plain": [
       "array([[ 60,  26],\n",
       "       [145,  63],\n",
       "       [295, 129]])"
      ]
     },
     "execution_count": 3,
     "metadata": {},
     "output_type": "execute_result"
    }
   ],
   "source": [
    "ABC =A.dot(B.dot(C))\n",
    "ABC"
   ]
  },
  {
   "cell_type": "code",
   "execution_count": 4,
   "id": "5bdd00e2",
   "metadata": {},
   "outputs": [
    {
     "data": {
      "text/plain": [
       "array([[ 60,  26],\n",
       "       [145,  63],\n",
       "       [295, 129]])"
      ]
     },
     "execution_count": 4,
     "metadata": {},
     "output_type": "execute_result"
    }
   ],
   "source": [
    "AB_C = A.dot(B).dot(C)\n",
    "AB_C"
   ]
  },
  {
   "cell_type": "markdown",
   "id": "9dda179a",
   "metadata": {},
   "source": [
    "El siguiente bloque de código explora la propiedad distributiva de la multiplicación de matrices utilizando NumPy. Se calculan dos resultados:\n",
    "\n",
    "- `D = A.dot(B + C)`: Primero se suman las matrices `B` y `C`, y luego se multiplica el resultado por la matriz `A`.\n",
    "- `E = (A.dot(B)) + (A.dot(C))`: Se multiplica la matriz `A` por `B` y por `C` por separado, y luego se suman los resultados.\n",
    "\n",
    "Ambos métodos deben producir el mismo resultado, ya que la multiplicación de matrices es distributiva respecto a la suma:  \n",
    "**A · (B + C) = (A · B) + (A · C)**.  \n",
    "Esto se puede verificar comparando los valores de `D` y `E`.\n"
   ]
  },
  {
   "cell_type": "code",
   "execution_count": 5,
   "id": "2538931d",
   "metadata": {},
   "outputs": [],
   "source": [
    "#Distributiva\n",
    "D = A.dot(B + C)\n",
    "E = (A.dot(B)) + (A.dot(C))"
   ]
  },
  {
   "cell_type": "code",
   "execution_count": 6,
   "id": "c835647f",
   "metadata": {},
   "outputs": [
    {
     "data": {
      "text/plain": [
       "array([[ 26,  17],\n",
       "       [ 62,  41],\n",
       "       [122,  83]])"
      ]
     },
     "execution_count": 6,
     "metadata": {},
     "output_type": "execute_result"
    }
   ],
   "source": [
    "D"
   ]
  },
  {
   "cell_type": "code",
   "execution_count": 7,
   "id": "a9b1730d",
   "metadata": {},
   "outputs": [
    {
     "data": {
      "text/plain": [
       "array([[ 26,  17],\n",
       "       [ 62,  41],\n",
       "       [122,  83]])"
      ]
     },
     "execution_count": 7,
     "metadata": {},
     "output_type": "execute_result"
    }
   ],
   "source": [
    "E"
   ]
  },
  {
   "cell_type": "code",
   "execution_count": 8,
   "id": "8e00700f",
   "metadata": {},
   "outputs": [
    {
     "data": {
      "text/plain": [
       "array([[ True,  True],\n",
       "       [ True,  True],\n",
       "       [ True,  True]])"
      ]
     },
     "execution_count": 8,
     "metadata": {},
     "output_type": "execute_result"
    }
   ],
   "source": [
    "D == E"
   ]
  },
  {
   "cell_type": "markdown",
   "id": "ed700951",
   "metadata": {},
   "source": [
    "El siguiente bloque de código explora la propiedad conmutativa de la multiplicación de matrices utilizando NumPy. Se calculan dos resultados:\n",
    "\n",
    "- `F = B.dot(C)`: Multiplica la matriz `B` por la matriz `C`.\n",
    "- `G = C.dot(B)`: Multiplica la matriz `C` por la matriz `B`.\n",
    "\n",
    "En este caso, los resultados de `F` y `G` son diferentes, lo que demuestra que la multiplicación de matrices **no es conmutativa**:  \n",
    "**B · C ≠ C · B**.  \n",
    "Esto se puede verificar comparando los valores de `F` y `G`."
   ]
  },
  {
   "cell_type": "code",
   "execution_count": 9,
   "id": "3e111280",
   "metadata": {},
   "outputs": [],
   "source": [
    "#Conmutativa\n",
    "F = B.dot(C)"
   ]
  },
  {
   "cell_type": "code",
   "execution_count": 10,
   "id": "7f26d8fc",
   "metadata": {},
   "outputs": [],
   "source": [
    "G = C.dot(B)"
   ]
  },
  {
   "cell_type": "code",
   "execution_count": 11,
   "id": "45ac1d20",
   "metadata": {},
   "outputs": [
    {
     "data": {
      "text/plain": [
       "array([[False, False],\n",
       "       [False, False]])"
      ]
     },
     "execution_count": 11,
     "metadata": {},
     "output_type": "execute_result"
    }
   ],
   "source": [
    "F == G"
   ]
  },
  {
   "cell_type": "code",
   "execution_count": 12,
   "id": "1d027daf",
   "metadata": {},
   "outputs": [
    {
     "data": {
      "text/plain": [
       "array([[15,  7],\n",
       "       [10,  4]])"
      ]
     },
     "execution_count": 12,
     "metadata": {},
     "output_type": "execute_result"
    }
   ],
   "source": [
    "F"
   ]
  },
  {
   "cell_type": "code",
   "execution_count": 13,
   "id": "a8179ddd",
   "metadata": {},
   "outputs": [
    {
     "data": {
      "text/plain": [
       "array([[ 5, 10],\n",
       "       [ 8, 14]])"
      ]
     },
     "execution_count": 13,
     "metadata": {},
     "output_type": "execute_result"
    }
   ],
   "source": [
    "G"
   ]
  },
  {
   "cell_type": "code",
   "execution_count": null,
   "id": "cd16d518",
   "metadata": {},
   "outputs": [],
   "source": []
  }
 ],
 "metadata": {
  "kernelspec": {
   "display_name": "ia_ptojects",
   "language": "python",
   "name": "python3"
  },
  "language_info": {
   "codemirror_mode": {
    "name": "ipython",
    "version": 3
   },
   "file_extension": ".py",
   "mimetype": "text/x-python",
   "name": "python",
   "nbconvert_exporter": "python",
   "pygments_lexer": "ipython3",
   "version": "3.12.9"
  }
 },
 "nbformat": 4,
 "nbformat_minor": 5
}
