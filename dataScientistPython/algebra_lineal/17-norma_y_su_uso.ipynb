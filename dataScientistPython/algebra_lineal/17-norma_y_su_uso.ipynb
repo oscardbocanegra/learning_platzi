{
 "cells": [
  {
   "cell_type": "code",
   "execution_count": 2,
   "id": "23279237",
   "metadata": {},
   "outputs": [],
   "source": [
    "%matplotlib inline\n",
    "\n",
    "import numpy as np\n",
    "import matplotlib.pyplot as plt\n",
    "import seaborn as sns"
   ]
  },
  {
   "cell_type": "code",
   "execution_count": 3,
   "id": "5da267a5",
   "metadata": {},
   "outputs": [
    {
     "name": "stdout",
     "output_type": "stream",
     "text": [
      "v1: [2 7]\n",
      "v2: [3 5]\n"
     ]
    }
   ],
   "source": [
    "v1 = np.array([2, 7])\n",
    "v2 = np.array([3, 5])\n",
    "\n",
    "print(\"v1:\", v1)\n",
    "print(\"v2:\", v2)\n"
   ]
  },
  {
   "cell_type": "code",
   "execution_count": 4,
   "id": "cb54cc0e",
   "metadata": {},
   "outputs": [
    {
     "name": "stdout",
     "output_type": "stream",
     "text": [
      "v1 + v2: [ 5 12]\n"
     ]
    }
   ],
   "source": [
    "v1v2 = v1 + v2\n",
    "print(\"v1 + v2:\", v1v2)"
   ]
  },
  {
   "cell_type": "code",
   "execution_count": 5,
   "id": "5053a776",
   "metadata": {},
   "outputs": [
    {
     "data": {
      "text/plain": [
       "np.float64(13.0)"
      ]
     },
     "execution_count": 5,
     "metadata": {},
     "output_type": "execute_result"
    }
   ],
   "source": [
    "np.linalg.norm(v1v2)"
   ]
  },
  {
   "cell_type": "code",
   "execution_count": 7,
   "id": "c859bd1a",
   "metadata": {},
   "outputs": [
    {
     "name": "stdout",
     "output_type": "stream",
     "text": [
      "||v1||: 7.280109889280518\n",
      "||v2||: 5.830951894845301\n",
      "||v1 + v2||: 13.0\n",
      "True\n"
     ]
    }
   ],
   "source": [
    "norma_v1 = np.linalg.norm(v1)\n",
    "norma_v2 = np.linalg.norm(v2)\n",
    "norma_v1v2 = np.linalg.norm(v1v2)\n",
    "\n",
    "print(\"||v1||:\", norma_v1)\n",
    "print(\"||v2||:\", norma_v2)\n",
    "print(\"||v1 + v2||:\", norma_v1v2)\n",
    "print(norma_v1v2 <= (norma_v1 + norma_v2))"
   ]
  },
  {
   "cell_type": "code",
   "execution_count": 9,
   "id": "21323cca",
   "metadata": {},
   "outputs": [],
   "source": [
    "v1 = np.array([0, 0, 2, 7])\n",
    "v2 = np.array([0, 0, 3, 5])\n",
    "\n",
    "v1_aux = np.array([v1[2], v1[3], v2[2], v2[3]])\n",
    "v1v2 = np.array([0, 0, 5, 12])"
   ]
  },
  {
   "cell_type": "code",
   "execution_count": 10,
   "id": "c7de0b73",
   "metadata": {},
   "outputs": [
    {
     "data": {
      "text/plain": [
       "(-0.5, 15.0)"
      ]
     },
     "execution_count": 10,
     "metadata": {},
     "output_type": "execute_result"
    },
    {
     "data": {
      "image/png": "[encoded data removed]",
      "text/plain": [
       "<Figure size 640x480 with 1 Axes>"
      ]
     },
     "metadata": {},
     "output_type": "display_data"
    }
   ],
   "source": [
    "plt.quiver([v1[0], v1_aux[0], v1v2[0]],\n",
    "           [v1[1], v1_aux[1], v1v2[1]],\n",
    "           [v1[2], v1_aux[2], v1v2[2]],\n",
    "           [v1[3], v1_aux[3], v1v2[3]],\n",
    "           angles = 'xy', scale_units = 'xy', scale = 1,\n",
    "           color = sns.color_palette()\n",
    ")\n",
    "\n",
    "plt.xlim(-0.5, 6)\n",
    "plt.ylim(-0.5, 15)"
   ]
  },
  {
   "cell_type": "code",
   "execution_count": null,
   "id": "c70cbb0e",
   "metadata": {},
   "outputs": [],
   "source": []
  }
 ],
 "metadata": {
  "kernelspec": {
   "display_name": "ia_ptojects",
   "language": "python",
   "name": "python3"
  },
  "language_info": {
   "codemirror_mode": {
    "name": "ipython",
    "version": 3
   },
   "file_extension": ".py",
   "mimetype": "text/x-python",
   "name": "python",
   "nbconvert_exporter": "python",
   "pygments_lexer": "ipython3",
   "version": "3.12.9"
  }
 },
 "nbformat": 4,
 "nbformat_minor": 5
}
