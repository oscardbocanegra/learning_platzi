{
 "cells": [
  {
   "cell_type": "code",
   "execution_count": 1,
   "id": "f879c10f",
   "metadata": {},
   "outputs": [],
   "source": [
    "import numpy as np"
   ]
  },
  {
   "cell_type": "code",
   "execution_count": 2,
   "id": "1bf8507d",
   "metadata": {},
   "outputs": [],
   "source": [
    "escalar = 5.679\n",
    "vector = np.array([3,4,5,6])\n",
    "matriz = np.array([[1,2],[3,4],[5,6]])\n",
    "tensor = np.array([\n",
    "    [[1,2,3,30],[4,5,6,31],[7,8,9,32]],\n",
    "    [[11,12,13,33],[14,15,16,34],[17,18,19,35]],\n",
    "    [[21,22,23,36],[24,25,26,37],[27,28,29,38]],\n",
    "])"
   ]
  },
  {
   "cell_type": "code",
   "execution_count": null,
   "id": "5f5ea3b1",
   "metadata": {},
   "outputs": [
    {
     "name": "stdout",
     "output_type": "stream",
     "text": [
      "[[1 3 5]\n",
      " [2 4 6]]\n"
     ]
    }
   ],
   "source": [
    "# Transpose the matrix 'matriz' and print the result\n",
    "matriz_t = matriz.T\n",
    "print(matriz_t)"
   ]
  },
  {
   "cell_type": "code",
   "execution_count": 6,
   "id": "1038fec3",
   "metadata": {},
   "outputs": [
    {
     "data": {
      "text/plain": [
       "(3, 2)"
      ]
     },
     "execution_count": 6,
     "metadata": {},
     "output_type": "execute_result"
    }
   ],
   "source": [
    "matriz.shape"
   ]
  },
  {
   "cell_type": "code",
   "execution_count": 7,
   "id": "7f6ed9b3",
   "metadata": {},
   "outputs": [
    {
     "data": {
      "text/plain": [
       "(2, 3)"
      ]
     },
     "execution_count": 7,
     "metadata": {},
     "output_type": "execute_result"
    }
   ],
   "source": [
    "matriz_t.shape"
   ]
  },
  {
   "cell_type": "markdown",
   "id": "d7ca1b8e",
   "metadata": {},
   "source": [
    "### Repetimos el proceso pero ahora en este caso con el tensor"
   ]
  },
  {
   "cell_type": "code",
   "execution_count": 10,
   "id": "d81e47c3",
   "metadata": {},
   "outputs": [
    {
     "data": {
      "text/plain": [
       "array([[[ 1, 11, 21],\n",
       "        [ 4, 14, 24],\n",
       "        [ 7, 17, 27]],\n",
       "\n",
       "       [[ 2, 12, 22],\n",
       "        [ 5, 15, 25],\n",
       "        [ 8, 18, 28]],\n",
       "\n",
       "       [[ 3, 13, 23],\n",
       "        [ 6, 16, 26],\n",
       "        [ 9, 19, 29]],\n",
       "\n",
       "       [[30, 33, 36],\n",
       "        [31, 34, 37],\n",
       "        [32, 35, 38]]])"
      ]
     },
     "execution_count": 10,
     "metadata": {},
     "output_type": "execute_result"
    }
   ],
   "source": [
    "tensor_t = tensor.T\n",
    "# Print the transposed tensor\n",
    "tensor_t"
   ]
  },
  {
   "cell_type": "code",
   "execution_count": 9,
   "id": "fb922c54",
   "metadata": {},
   "outputs": [
    {
     "data": {
      "text/plain": [
       "array([[[ 1,  2,  3, 30],\n",
       "        [ 4,  5,  6, 31],\n",
       "        [ 7,  8,  9, 32]],\n",
       "\n",
       "       [[11, 12, 13, 33],\n",
       "        [14, 15, 16, 34],\n",
       "        [17, 18, 19, 35]],\n",
       "\n",
       "       [[21, 22, 23, 36],\n",
       "        [24, 25, 26, 37],\n",
       "        [27, 28, 29, 38]]])"
      ]
     },
     "execution_count": 9,
     "metadata": {},
     "output_type": "execute_result"
    }
   ],
   "source": [
    "tensor"
   ]
  },
  {
   "cell_type": "markdown",
   "id": "301b0d26",
   "metadata": {},
   "source": [
    "### Proceso para la suma de matrices"
   ]
  },
  {
   "cell_type": "code",
   "execution_count": 13,
   "id": "23ed7c59",
   "metadata": {},
   "outputs": [
    {
     "name": "stdout",
     "output_type": "stream",
     "text": [
      "[[1 2]\n",
      " [3 4]\n",
      " [5 6]]\n",
      "[[6 5]\n",
      " [4 3]\n",
      " [2 1]]\n"
     ]
    }
   ],
   "source": [
    "A = np.array([[1,2],[3,4],[5,6]])\n",
    "B = np.array([[6,5],[4,3],[2,1]])\n",
    "C = A+B\n",
    "print(A)\n",
    "print(B)\n"
   ]
  },
  {
   "cell_type": "code",
   "execution_count": 14,
   "id": "4796a6bc",
   "metadata": {},
   "outputs": [
    {
     "name": "stdout",
     "output_type": "stream",
     "text": [
      "[[7 7]\n",
      " [7 7]\n",
      " [7 7]]\n"
     ]
    }
   ],
   "source": [
    "print(C)"
   ]
  },
  {
   "cell_type": "code",
   "execution_count": null,
   "id": "5fa2ec6a",
   "metadata": {},
   "outputs": [],
   "source": []
  }
 ],
 "metadata": {
  "kernelspec": {
   "display_name": "ia_ptojects",
   "language": "python",
   "name": "python3"
  },
  "language_info": {
   "codemirror_mode": {
    "name": "ipython",
    "version": 3
   },
   "file_extension": ".py",
   "mimetype": "text/x-python",
   "name": "python",
   "nbconvert_exporter": "python",
   "pygments_lexer": "ipython3",
   "version": "3.12.9"
  }
 },
 "nbformat": 4,
 "nbformat_minor": 5
}
