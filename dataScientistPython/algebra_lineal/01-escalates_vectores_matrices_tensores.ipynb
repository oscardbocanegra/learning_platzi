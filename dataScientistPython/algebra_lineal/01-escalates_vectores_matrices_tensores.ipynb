{
 "cells": [
  {
   "cell_type": "code",
   "execution_count": 1,
   "id": "76848b86",
   "metadata": {},
   "outputs": [
    {
     "name": "stdout",
     "output_type": "stream",
     "text": [
      "El valor de la variable escalar es: 5.678\n"
     ]
    }
   ],
   "source": [
    "escalar = 5.678\n",
    "print(f\"El valor de la variable escalar es: {escalar}\")"
   ]
  },
  {
   "cell_type": "code",
   "execution_count": 2,
   "id": "a8ae20ac",
   "metadata": {},
   "outputs": [
    {
     "name": "stdout",
     "output_type": "stream",
     "text": [
      "El valor de la variable escalar_python es: True\n",
      "El tipo de la variable escalar_python es: <class 'bool'>\n"
     ]
    }
   ],
   "source": [
    "escalar_python = True\n",
    "print(f\"El valor de la variable escalar_python es: {escalar_python}\")\n",
    "print(f\"El tipo de la variable escalar_python es: {type(escalar_python)}\")"
   ]
  },
  {
   "cell_type": "code",
   "execution_count": 3,
   "id": "689c0edf",
   "metadata": {},
   "outputs": [],
   "source": [
    "import numpy as np"
   ]
  },
  {
   "cell_type": "code",
   "execution_count": 4,
   "id": "096f42dc",
   "metadata": {},
   "outputs": [
    {
     "name": "stdout",
     "output_type": "stream",
     "text": [
      "El valor del vector es: [1 2 3 4 5]\n"
     ]
    }
   ],
   "source": [
    "vector = np.array([1, 2, 3, 4, 5])\n",
    "print(f\"El valor del vector es: {vector}\")"
   ]
  },
  {
   "cell_type": "code",
   "execution_count": 5,
   "id": "984cf6f6",
   "metadata": {},
   "outputs": [
    {
     "name": "stdout",
     "output_type": "stream",
     "text": [
      "El valor de la matriz es: [[1 2 3]\n",
      " [4 5 6]]\n"
     ]
    }
   ],
   "source": [
    "matriz = np.array([[1, 2, 3], [4, 5, 6]])\n",
    "print(f\"El valor de la matriz es: {matriz}\")"
   ]
  },
  {
   "cell_type": "code",
   "execution_count": 7,
   "id": "741d3778",
   "metadata": {},
   "outputs": [
    {
     "name": "stdout",
     "output_type": "stream",
     "text": [
      "[[[ 1  2]\n",
      "  [ 3  4]]\n",
      "\n",
      " [[ 5  6]\n",
      "  [ 7  8]]\n",
      "\n",
      " [[ 9 10]\n",
      "  [11 12]]]\n"
     ]
    }
   ],
   "source": [
    "tensor = np.array([[[1, 2], [3, 4]], [[5, 6], [7, 8]], [[9, 10], [11, 12]]])\n",
    "print(tensor)"
   ]
  },
  {
   "cell_type": "code",
   "execution_count": 8,
   "id": "7499b88b",
   "metadata": {},
   "outputs": [],
   "source": [
    "%matplotlib inline\n",
    "import matplotlib.pyplot as plt"
   ]
  },
  {
   "cell_type": "code",
   "execution_count": 12,
   "id": "71fcaf34",
   "metadata": {},
   "outputs": [],
   "source": [
    "tensor = np.array([\n",
    "    [[255, 255, 255],[255, 255, 255],[255, 255, 255]],\n",
    "    [[128, 128, 128],[128, 128, 128],[128, 128, 128]],\n",
    "    [[0,0,0],[0,0,0],[0,0,0]]\n",
    "])"
   ]
  },
  {
   "cell_type": "code",
   "execution_count": 13,
   "id": "b223327a",
   "metadata": {},
   "outputs": [
    {
     "data": {
      "image/png": "[encoded data removed]",
      "text/plain": [
       "<Figure size 640x480 with 1 Axes>"
      ]
     },
     "metadata": {},
     "output_type": "display_data"
    }
   ],
   "source": [
    "plt.imshow(tensor, interpolation='nearest')\n",
    "plt.show()"
   ]
  },
  {
   "cell_type": "code",
   "execution_count": null,
   "id": "6becbd77",
   "metadata": {},
   "outputs": [],
   "source": []
  }
 ],
 "metadata": {
  "kernelspec": {
   "display_name": "ia_ptojects",
   "language": "python",
   "name": "python3"
  },
  "language_info": {
   "codemirror_mode": {
    "name": "ipython",
    "version": 3
   },
   "file_extension": ".py",
   "mimetype": "text/x-python",
   "name": "python",
   "nbconvert_exporter": "python",
   "pygments_lexer": "ipython3",
   "version": "3.12.9"
  }
 },
 "nbformat": 4,
 "nbformat_minor": 5
}
