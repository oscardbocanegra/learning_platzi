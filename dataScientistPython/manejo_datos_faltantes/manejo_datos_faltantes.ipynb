{
 "cells": [
  {
   "cell_type": "markdown",
   "id": "dc0d14ea",
   "metadata": {},
   "source": [
    "## Importar librerias"
   ]
  },
  {
   "cell_type": "code",
   "execution_count": 2,
   "id": "1601f7db",
   "metadata": {},
   "outputs": [],
   "source": [
    "# Importar librerias necesarias\n",
    "import janitor\n",
    "import matplotlib.pyplot as plt\n",
    "import missingno\n",
    "import numpy as np\n",
    "import pandas as pd\n",
    "import pyreadr\n",
    "import seaborn as sns\n",
    "import session_info\n",
    "import upsetplot\n"
   ]
  },
  {
   "cell_type": "markdown",
   "id": "fc765f46",
   "metadata": {},
   "source": [
    "## Configurar el aspecto general de las graficas del proyecto"
   ]
  },
  {
   "cell_type": "code",
   "execution_count": 3,
   "id": "4615e87c",
   "metadata": {},
   "outputs": [],
   "source": [
    "%matplotlib inline\n",
    "\n",
    "sns.set(rc={'figure.figsize':(10,10)})\n",
    "\n",
    "sns.set_style(\"whitegrid\")"
   ]
  },
  {
   "cell_type": "markdown",
   "id": "16931fd9",
   "metadata": {},
   "source": [
    "### Operar con valores faltantes\n",
    "\n",
    "#### Python"
   ]
  },
  {
   "cell_type": "code",
   "execution_count": 4,
   "id": "bc67debe",
   "metadata": {},
   "outputs": [
    {
     "name": "stdout",
     "output_type": "stream",
     "text": [
      "True True True True <class 'NoneType'>\n"
     ]
    }
   ],
   "source": [
    "print(None or True,\n",
    "      None or True,\n",
    "      None == None,\n",
    "      None is None,\n",
    "      type(None)\n",
    "      )"
   ]
  },
  {
   "cell_type": "markdown",
   "id": "af24b3d3",
   "metadata": {},
   "source": [
    "### Nympy"
   ]
  },
  {
   "cell_type": "code",
   "execution_count": 5,
   "id": "679dbc37",
   "metadata": {},
   "outputs": [
    {
     "name": "stdout",
     "output_type": "stream",
     "text": [
      "nan\n",
      "False\n",
      "True\n",
      "nan\n",
      "<class 'float'>\n",
      "True\n"
     ]
    }
   ],
   "source": [
    "print(np.nan or True,\n",
    "      np.nan == np.nan,\n",
    "      np.nan is np.nan,\n",
    "      np.nan /  2,\n",
    "      type(np.nan),\n",
    "      type(np.nan) is float,\n",
    "      sep='\\n'\n",
    "      )"
   ]
  },
  {
   "cell_type": "markdown",
   "id": "6410b6a2",
   "metadata": {},
   "source": [
    "### Pandas\n"
   ]
  },
  {
   "cell_type": "code",
   "execution_count": 6,
   "id": "537de28c",
   "metadata": {},
   "outputs": [
    {
     "data": {
      "text/html": [
       "<div>\n",
       "<style scoped>\n",
       "    .dataframe tbody tr th:only-of-type {\n",
       "        vertical-align: middle;\n",
       "    }\n",
       "\n",
       "    .dataframe tbody tr th {\n",
       "        vertical-align: top;\n",
       "    }\n",
       "\n",
       "    .dataframe thead th {\n",
       "        text-align: right;\n",
       "    }\n",
       "</style>\n",
       "<table border=\"1\" class=\"dataframe\">\n",
       "  <thead>\n",
       "    <tr style=\"text-align: right;\">\n",
       "      <th></th>\n",
       "      <th>x</th>\n",
       "      <th>y</th>\n",
       "    </tr>\n",
       "  </thead>\n",
       "  <tbody>\n",
       "    <tr>\n",
       "      <th>0</th>\n",
       "      <td>0.0</td>\n",
       "      <td>0</td>\n",
       "    </tr>\n",
       "    <tr>\n",
       "      <th>1</th>\n",
       "      <td>1.0</td>\n",
       "      <td>1</td>\n",
       "    </tr>\n",
       "    <tr>\n",
       "      <th>2</th>\n",
       "      <td>NaN</td>\n",
       "      <td>&lt;NA&gt;</td>\n",
       "    </tr>\n",
       "    <tr>\n",
       "      <th>3</th>\n",
       "      <td>NaN</td>\n",
       "      <td>NaN</td>\n",
       "    </tr>\n",
       "    <tr>\n",
       "      <th>4</th>\n",
       "      <td>NaN</td>\n",
       "      <td>None</td>\n",
       "    </tr>\n",
       "  </tbody>\n",
       "</table>\n",
       "</div>"
      ],
      "text/plain": [
       "     x     y\n",
       "0  0.0     0\n",
       "1  1.0     1\n",
       "2  NaN  <NA>\n",
       "3  NaN   NaN\n",
       "4  NaN  None"
      ]
     },
     "execution_count": 6,
     "metadata": {},
     "output_type": "execute_result"
    }
   ],
   "source": [
    "test_missing_df = pd.DataFrame.from_dict(\n",
    "    data = dict(\n",
    "        x= [0,1, np.nan, np.nan, None],\n",
    "        y= [0,1, pd.NA, np.nan, None]\n",
    "        )\n",
    "    )\n",
    "\n",
    "test_missing_df"
   ]
  },
  {
   "cell_type": "markdown",
   "id": "53de99c1",
   "metadata": {},
   "source": [
    "## Cargar los conjuntos de datos\n",
    "\n",
    "#### Pima Indians Diabetes"
   ]
  },
  {
   "cell_type": "code",
   "execution_count": 7,
   "id": "a2b5e5c3",
   "metadata": {},
   "outputs": [
    {
     "data": {
      "text/html": [
       "<div>\n",
       "<style scoped>\n",
       "    .dataframe tbody tr th:only-of-type {\n",
       "        vertical-align: middle;\n",
       "    }\n",
       "\n",
       "    .dataframe tbody tr th {\n",
       "        vertical-align: top;\n",
       "    }\n",
       "\n",
       "    .dataframe thead th {\n",
       "        text-align: right;\n",
       "    }\n",
       "</style>\n",
       "<table border=\"1\" class=\"dataframe\">\n",
       "  <thead>\n",
       "    <tr style=\"text-align: right;\">\n",
       "      <th></th>\n",
       "      <th>Pregnancies</th>\n",
       "      <th>Glucose</th>\n",
       "      <th>BloodPressure</th>\n",
       "      <th>SkinThickness</th>\n",
       "      <th>Insulin</th>\n",
       "      <th>BMI</th>\n",
       "      <th>DiabetesPedigreeFunction</th>\n",
       "      <th>Age</th>\n",
       "      <th>Outcome</th>\n",
       "    </tr>\n",
       "  </thead>\n",
       "  <tbody>\n",
       "    <tr>\n",
       "      <th>0</th>\n",
       "      <td>6</td>\n",
       "      <td>148</td>\n",
       "      <td>72</td>\n",
       "      <td>35</td>\n",
       "      <td>0</td>\n",
       "      <td>33.6</td>\n",
       "      <td>0.627</td>\n",
       "      <td>50</td>\n",
       "      <td>1</td>\n",
       "    </tr>\n",
       "    <tr>\n",
       "      <th>1</th>\n",
       "      <td>1</td>\n",
       "      <td>85</td>\n",
       "      <td>66</td>\n",
       "      <td>29</td>\n",
       "      <td>0</td>\n",
       "      <td>26.6</td>\n",
       "      <td>0.351</td>\n",
       "      <td>31</td>\n",
       "      <td>0</td>\n",
       "    </tr>\n",
       "    <tr>\n",
       "      <th>2</th>\n",
       "      <td>8</td>\n",
       "      <td>183</td>\n",
       "      <td>64</td>\n",
       "      <td>0</td>\n",
       "      <td>0</td>\n",
       "      <td>23.3</td>\n",
       "      <td>0.672</td>\n",
       "      <td>32</td>\n",
       "      <td>1</td>\n",
       "    </tr>\n",
       "    <tr>\n",
       "      <th>3</th>\n",
       "      <td>1</td>\n",
       "      <td>89</td>\n",
       "      <td>66</td>\n",
       "      <td>23</td>\n",
       "      <td>94</td>\n",
       "      <td>28.1</td>\n",
       "      <td>0.167</td>\n",
       "      <td>21</td>\n",
       "      <td>0</td>\n",
       "    </tr>\n",
       "    <tr>\n",
       "      <th>4</th>\n",
       "      <td>0</td>\n",
       "      <td>137</td>\n",
       "      <td>40</td>\n",
       "      <td>35</td>\n",
       "      <td>168</td>\n",
       "      <td>43.1</td>\n",
       "      <td>2.288</td>\n",
       "      <td>33</td>\n",
       "      <td>1</td>\n",
       "    </tr>\n",
       "    <tr>\n",
       "      <th>5</th>\n",
       "      <td>5</td>\n",
       "      <td>116</td>\n",
       "      <td>74</td>\n",
       "      <td>0</td>\n",
       "      <td>0</td>\n",
       "      <td>25.6</td>\n",
       "      <td>0.201</td>\n",
       "      <td>30</td>\n",
       "      <td>0</td>\n",
       "    </tr>\n",
       "    <tr>\n",
       "      <th>6</th>\n",
       "      <td>3</td>\n",
       "      <td>78</td>\n",
       "      <td>50</td>\n",
       "      <td>32</td>\n",
       "      <td>88</td>\n",
       "      <td>31.0</td>\n",
       "      <td>0.248</td>\n",
       "      <td>26</td>\n",
       "      <td>1</td>\n",
       "    </tr>\n",
       "    <tr>\n",
       "      <th>7</th>\n",
       "      <td>10</td>\n",
       "      <td>115</td>\n",
       "      <td>0</td>\n",
       "      <td>0</td>\n",
       "      <td>0</td>\n",
       "      <td>35.3</td>\n",
       "      <td>0.134</td>\n",
       "      <td>29</td>\n",
       "      <td>0</td>\n",
       "    </tr>\n",
       "    <tr>\n",
       "      <th>8</th>\n",
       "      <td>2</td>\n",
       "      <td>197</td>\n",
       "      <td>70</td>\n",
       "      <td>45</td>\n",
       "      <td>543</td>\n",
       "      <td>30.5</td>\n",
       "      <td>0.158</td>\n",
       "      <td>53</td>\n",
       "      <td>1</td>\n",
       "    </tr>\n",
       "    <tr>\n",
       "      <th>9</th>\n",
       "      <td>8</td>\n",
       "      <td>125</td>\n",
       "      <td>96</td>\n",
       "      <td>0</td>\n",
       "      <td>0</td>\n",
       "      <td>0.0</td>\n",
       "      <td>0.232</td>\n",
       "      <td>54</td>\n",
       "      <td>1</td>\n",
       "    </tr>\n",
       "  </tbody>\n",
       "</table>\n",
       "</div>"
      ],
      "text/plain": [
       "   Pregnancies  Glucose  BloodPressure  SkinThickness  Insulin   BMI  \\\n",
       "0            6      148             72             35        0  33.6   \n",
       "1            1       85             66             29        0  26.6   \n",
       "2            8      183             64              0        0  23.3   \n",
       "3            1       89             66             23       94  28.1   \n",
       "4            0      137             40             35      168  43.1   \n",
       "5            5      116             74              0        0  25.6   \n",
       "6            3       78             50             32       88  31.0   \n",
       "7           10      115              0              0        0  35.3   \n",
       "8            2      197             70             45      543  30.5   \n",
       "9            8      125             96              0        0   0.0   \n",
       "\n",
       "   DiabetesPedigreeFunction  Age  Outcome  \n",
       "0                     0.627   50        1  \n",
       "1                     0.351   31        0  \n",
       "2                     0.672   32        1  \n",
       "3                     0.167   21        0  \n",
       "4                     2.288   33        1  \n",
       "5                     0.201   30        0  \n",
       "6                     0.248   26        1  \n",
       "7                     0.134   29        0  \n",
       "8                     0.158   53        1  \n",
       "9                     0.232   54        1  "
      ]
     },
     "execution_count": 7,
     "metadata": {},
     "output_type": "execute_result"
    }
   ],
   "source": [
    "diabetes_df = pd.read_csv(\"diabetes.csv\")\n",
    "diabetes_df.head(10)"
   ]
  },
  {
   "cell_type": "markdown",
   "id": "a0c498f6",
   "metadata": {},
   "source": [
    "### Crear una nueva clase para extender pandas"
   ]
  },
  {
   "cell_type": "code",
   "execution_count": 8,
   "id": "7cf17302",
   "metadata": {},
   "outputs": [],
   "source": [
    "@pd.api.extensions.register_dataframe_accessor(\"missing\")\n",
    "class MissingMethods:\n",
    "    \"\"\"\n",
    "    Custom accessor for DataFrame to check for missing values.\n",
    "    \"\"\"\n",
    "    def __init__(self, pandas_obj):\n",
    "        self._df = pandas_obj\n",
    "\n",
    "    def number_missing(self):\n",
    "        \"\"\"\n",
    "        Returns the number of missing values in the DataFrame.\n",
    "        \"\"\"\n",
    "        return self._df.isna().sum().sum()\n",
    "    \n",
    "    def number_complete(self):\n",
    "        \"\"\"\n",
    "        Returns the number of complete rows in the DataFrame.\n",
    "        \"\"\"\n",
    "        return self._df.size - self._df.missing.number_missing()\n",
    "\n"
   ]
  },
  {
   "cell_type": "markdown",
   "id": "a7637cec",
   "metadata": {},
   "source": [
    "### Probar su uso"
   ]
  },
  {
   "cell_type": "code",
   "execution_count": 9,
   "id": "55936506",
   "metadata": {},
   "outputs": [],
   "source": [
    "df = pd.DataFrame.from_dict(\n",
    "    data = {\n",
    "        \"a\" : list(\"abcdradcdx\"),\n",
    "        \"b\": range(0,10)  \n",
    "    }\n",
    ")\n",
    "\n",
    "df.iloc[2:5, 0] = None\n",
    "df.iloc[6:7, 1] = None\n"
   ]
  },
  {
   "cell_type": "code",
   "execution_count": 10,
   "id": "c0223127",
   "metadata": {},
   "outputs": [],
   "source": [
    "df = pd.DataFrame(df)"
   ]
  },
  {
   "cell_type": "code",
   "execution_count": 11,
   "id": "1123015f",
   "metadata": {},
   "outputs": [
    {
     "data": {
      "text/plain": [
       "np.int64(4)"
      ]
     },
     "execution_count": 11,
     "metadata": {},
     "output_type": "execute_result"
    }
   ],
   "source": [
    "df.missing.number_missing()"
   ]
  },
  {
   "cell_type": "code",
   "execution_count": 12,
   "id": "9ee32b73",
   "metadata": {},
   "outputs": [
    {
     "data": {
      "text/plain": [
       "np.int64(16)"
      ]
     },
     "execution_count": 12,
     "metadata": {},
     "output_type": "execute_result"
    }
   ],
   "source": [
    "df.missing.number_complete()"
   ]
  },
  {
   "cell_type": "markdown",
   "id": "d653d755",
   "metadata": {},
   "source": [
    "# Extensión de la API de Pandas"
   ]
  },
  {
   "cell_type": "code",
   "execution_count": 13,
   "id": "f3be2d77",
   "metadata": {},
   "outputs": [],
   "source": [
    "import itertools\n",
    "import pandas as pd\n",
    "import upsetplot"
   ]
  },
  {
   "cell_type": "code",
   "execution_count": 14,
   "id": "7a63e489",
   "metadata": {},
   "outputs": [],
   "source": [
    "try:\n",
    "    del pd.DataFrame.missing\n",
    "except AttributeError:\n",
    "    pass"
   ]
  },
  {
   "cell_type": "code",
   "execution_count": 15,
   "id": "210a2af8",
   "metadata": {},
   "outputs": [],
   "source": [
    "@pd.api.extensions.register_dataframe_accessor(\"missing\")\n",
    "class MissingMethods:\n",
    "    def __init__(self, pandas_obj):\n",
    "        self._obj = pandas_obj\n",
    "\n",
    "    def number_missing(self) -> int:\n",
    "        return self._obj.isna().sum().sum()\n",
    "\n",
    "    def number_complete(self) -> int:\n",
    "        return self._obj.size - self._obj.missing.number_missing()\n",
    "\n",
    "    def missing_variable_summary(self) -> pd.DataFrame:\n",
    "        return self._obj.isnull().pipe(\n",
    "            lambda df_1: (\n",
    "                df_1.sum()\n",
    "                .reset_index(name=\"n_missing\")\n",
    "                .rename(columns={\"index\": \"variable\"})\n",
    "                .assign(\n",
    "                    n_cases=len(df_1),\n",
    "                    pct_missing=lambda df_2: df_2.n_missing / df_2.n_cases * 100,\n",
    "                )\n",
    "            )\n",
    "        )\n",
    "\n",
    "    def missing_case_summary(self) -> pd.DataFrame:\n",
    "        return self._obj.assign(\n",
    "            case=lambda df: df.index,\n",
    "            n_missing=lambda df: df.apply(\n",
    "                axis=\"columns\", func=lambda row: row.isna().sum()\n",
    "            ),\n",
    "            pct_missing=lambda df: df[\"n_missing\"] / df.shape[1] * 100,\n",
    "        )[[\"case\", \"n_missing\", \"pct_missing\"]]\n",
    "\n",
    "    def missing_variable_table(self) -> pd.DataFrame:\n",
    "        return (\n",
    "            self._obj.missing.missing_variable_summary()\n",
    "            .value_counts(\"n_missing\")\n",
    "            .reset_index()\n",
    "            .rename(columns={\"n_missing\": \"n_missing_in_variable\", 0: \"n_variables\"})\n",
    "            .assign(\n",
    "                pct_variables=lambda df: df.n_variables / df.n_variables.sum() * 100\n",
    "            )\n",
    "            .sort_values(\"pct_variables\", ascending=False)\n",
    "        )\n",
    "\n",
    "    def missing_case_table(self) -> pd.DataFrame():\n",
    "        return (\n",
    "            self._obj.missing.missing_case_summary()\n",
    "            .value_counts(\"n_missing\")\n",
    "            .reset_index()\n",
    "            .rename(columns={\"n_missing\": \"n_missing_in_case\", 0: \"n_cases\"})\n",
    "            .assign(pct_case=lambda df: df.n_cases / df.n_cases.sum() * 100)\n",
    "            .sort_values(\"pct_case\", ascending=False)\n",
    "        )\n",
    "\n",
    "    def missing_variable_span(self, variable: str, span_every: int) -> pd.DataFrame:\n",
    "        return (\n",
    "            self._obj.assign(\n",
    "                span_counter=lambda df: (\n",
    "                    np.repeat(a=range(df.shape[0]), repeats=span_every)[: df.shape[0]]\n",
    "                )\n",
    "            )\n",
    "            .groupby(\"span_counter\")\n",
    "            .aggregate(\n",
    "                n_in_span=(variable, \"size\"),\n",
    "                n_missing=(variable, lambda s: s.isnull().sum()),\n",
    "            )\n",
    "            .assign(\n",
    "                n_complete=lambda df: df.n_in_span - df.n_missing,\n",
    "                pct_missing=lambda df: df.n_missing / df.n_in_span * 100,\n",
    "                pct_complete=lambda df: 100 - df.pct_missing,\n",
    "            )\n",
    "            .drop(columns=[\"n_in_span\"])\n",
    "            .reset_index()\n",
    "        )\n",
    "\n",
    "    def missing_variable_run(self, variable) -> pd.DataFrame:\n",
    "        rle_list = self._obj[variable].pipe(\n",
    "            lambda s: [[len(list(g)), k] for k, g in itertools.groupby(s.isnull())]\n",
    "        )\n",
    "\n",
    "        return pd.DataFrame(data=rle_list, columns=[\"run_length\", \"is_na\"]).replace(\n",
    "            {False: \"complete\", True: \"missing\"}\n",
    "        )\n",
    "\n",
    "    def sort_variables_by_missingness(self, ascending = False):\n",
    "\n",
    "        return (\n",
    "            self._obj\n",
    "            .pipe(\n",
    "                lambda df: (\n",
    "                    df[df.isna().sum().sort_values(ascending = ascending).index]\n",
    "                )\n",
    "            )\n",
    "        )\n",
    "\n",
    "    def create_shadow_matrix(\n",
    "        self,\n",
    "        true_string: str = \"Missing\",\n",
    "        false_string: str = \"Not Missing\",\n",
    "        only_missing: bool = False,\n",
    "    ) -> pd.DataFrame:\n",
    "        return (\n",
    "            self._obj\n",
    "            .isna()\n",
    "            .pipe(lambda df: df[df.columns[df.any()]] if only_missing else df)\n",
    "            .replace({False: false_string, True: true_string})\n",
    "            .add_suffix(\"_NA\")\n",
    "        )\n",
    "\n",
    "    def bind_shadow_matrix(\n",
    "        self,\n",
    "        true_string: str = \"Missing\",\n",
    "        false_string: str = \"Not Missing\",\n",
    "        only_missing: bool = False,\n",
    "    ) -> pd.DataFrame:\n",
    "        return pd.concat(\n",
    "            objs=[\n",
    "                self._obj,\n",
    "                self._obj.missing.create_shadow_matrix(\n",
    "                    true_string=true_string,\n",
    "                    false_string=false_string,\n",
    "                    only_missing=only_missing\n",
    "                )\n",
    "            ],\n",
    "            axis=\"columns\"\n",
    "        )\n",
    "\n",
    "    def missing_scan_count(self, search) -> pd.DataFrame:\n",
    "        return (\n",
    "            self._obj.apply(axis=\"rows\", func=lambda column: column.isin(search))\n",
    "            .sum()\n",
    "            .reset_index()\n",
    "            .rename(columns={\"index\": \"variable\", 0: \"n\"})\n",
    "            .assign(original_type=self._obj.dtypes.reset_index()[0])\n",
    "        )\n",
    "\n",
    "    # Plotting functions ---\n",
    "\n",
    "    def missing_variable_plot(self):\n",
    "        df = self._obj.missing.missing_variable_summary().sort_values(\"n_missing\")\n",
    "\n",
    "        plot_range = range(1, len(df.index) + 1)\n",
    "\n",
    "        plt.hlines(y=plot_range, xmin=0, xmax=df.n_missing, color=\"black\")\n",
    "\n",
    "        plt.plot(df.n_missing, plot_range, \"o\", color=\"black\")\n",
    "\n",
    "        plt.yticks(plot_range, df.variable)\n",
    "\n",
    "        plt.grid(axis=\"y\")\n",
    "\n",
    "        plt.xlabel(\"Number missing\")\n",
    "        plt.ylabel(\"Variable\")\n",
    "\n",
    "    def missing_case_plot(self):\n",
    "\n",
    "        df = self._obj.missing.missing_case_summary()\n",
    "\n",
    "        sns.displot(data=df, x=\"n_missing\", binwidth=1, color=\"black\")\n",
    "\n",
    "        plt.grid(axis=\"x\")\n",
    "        plt.xlabel(\"Number of missings in case\")\n",
    "        plt.ylabel(\"Number of cases\")\n",
    "\n",
    "    def missing_variable_span_plot(\n",
    "        self, variable: str, span_every: int, rot: int = 0, figsize=None\n",
    "    ):\n",
    "\n",
    "        (\n",
    "            self._obj.missing.missing_variable_span(\n",
    "                variable=variable, span_every=span_every\n",
    "            ).plot.bar(\n",
    "                x=\"span_counter\",\n",
    "                y=[\"pct_missing\", \"pct_complete\"],\n",
    "                stacked=True,\n",
    "                width=1,\n",
    "                color=[\"black\", \"lightgray\"],\n",
    "                rot=rot,\n",
    "                figsize=figsize,\n",
    "            )\n",
    "        )\n",
    "\n",
    "        plt.xlabel(\"Span number\")\n",
    "        plt.ylabel(\"Percentage missing\")\n",
    "        plt.legend([\"Missing\", \"Present\"])\n",
    "        plt.title(\n",
    "            f\"Percentage of missing values\\nOver a repeating span of { span_every } \",\n",
    "            loc=\"left\",\n",
    "        )\n",
    "        plt.grid(False)\n",
    "        plt.margins(0)\n",
    "        plt.tight_layout(pad=0)\n",
    "\n",
    "    def missing_upsetplot(self, variables: list[str] = None, **kwargs):\n",
    "\n",
    "        if variables is None:\n",
    "            variables = self._obj.columns.tolist()\n",
    "\n",
    "        return (\n",
    "            self._obj.isna()\n",
    "            .value_counts(variables)\n",
    "            .pipe(lambda df: upsetplot.plot(df, **kwargs))\n",
    "        )"
   ]
  },
  {
   "cell_type": "markdown",
   "id": "3b7c9e0c",
   "metadata": {},
   "source": [
    "## Tabulación de valores faltantes"
   ]
  },
  {
   "cell_type": "code",
   "execution_count": 16,
   "id": "1ee8a3a2",
   "metadata": {},
   "outputs": [
    {
     "data": {
      "text/plain": [
       "Pregnancies                 0\n",
       "Glucose                     0\n",
       "BloodPressure               0\n",
       "SkinThickness               0\n",
       "Insulin                     0\n",
       "BMI                         0\n",
       "DiabetesPedigreeFunction    0\n",
       "Age                         0\n",
       "Outcome                     0\n",
       "dtype: int64"
      ]
     },
     "execution_count": 16,
     "metadata": {},
     "output_type": "execute_result"
    }
   ],
   "source": [
    "diabetes_df.isna().sum()"
   ]
  },
  {
   "cell_type": "markdown",
   "id": "4f6ae75d",
   "metadata": {},
   "source": [
    "### Resumen basico de valores faltantes"
   ]
  },
  {
   "cell_type": "code",
   "execution_count": 17,
   "id": "c71b0226",
   "metadata": {},
   "outputs": [
    {
     "data": {
      "text/plain": [
       "(768, 9)"
      ]
     },
     "execution_count": 17,
     "metadata": {},
     "output_type": "execute_result"
    }
   ],
   "source": [
    "diabetes_df.shape"
   ]
  },
  {
   "cell_type": "markdown",
   "id": "f65193bc",
   "metadata": {},
   "source": [
    "### Numero total de valores completos (sin observaciones faltantes)"
   ]
  },
  {
   "cell_type": "code",
   "execution_count": 18,
   "id": "128b31bc",
   "metadata": {},
   "outputs": [
    {
     "data": {
      "text/plain": [
       "np.int64(6912)"
      ]
     },
     "execution_count": 18,
     "metadata": {},
     "output_type": "execute_result"
    }
   ],
   "source": [
    "diabetes_df.missing.number_complete()"
   ]
  },
  {
   "cell_type": "markdown",
   "id": "61bb0fcc",
   "metadata": {},
   "source": [
    "### Numero total de valores faltantes"
   ]
  },
  {
   "cell_type": "code",
   "execution_count": 19,
   "id": "5b0b8e68",
   "metadata": {},
   "outputs": [
    {
     "data": {
      "text/plain": [
       "np.int64(0)"
      ]
     },
     "execution_count": 19,
     "metadata": {},
     "output_type": "execute_result"
    }
   ],
   "source": [
    "diabetes_df.missing.number_missing()"
   ]
  },
  {
   "cell_type": "markdown",
   "id": "f000b2bc",
   "metadata": {},
   "source": [
    "## Resumen tabulares de valores faltantes\n",
    "\n",
    "#### Variables / Columnas \n",
    "\n",
    "#### Resumen por variable"
   ]
  },
  {
   "cell_type": "code",
   "execution_count": 20,
   "id": "6b797191",
   "metadata": {},
   "outputs": [
    {
     "data": {
      "text/html": [
       "<div>\n",
       "<style scoped>\n",
       "    .dataframe tbody tr th:only-of-type {\n",
       "        vertical-align: middle;\n",
       "    }\n",
       "\n",
       "    .dataframe tbody tr th {\n",
       "        vertical-align: top;\n",
       "    }\n",
       "\n",
       "    .dataframe thead th {\n",
       "        text-align: right;\n",
       "    }\n",
       "</style>\n",
       "<table border=\"1\" class=\"dataframe\">\n",
       "  <thead>\n",
       "    <tr style=\"text-align: right;\">\n",
       "      <th></th>\n",
       "      <th>variable</th>\n",
       "      <th>n_missing</th>\n",
       "      <th>n_cases</th>\n",
       "      <th>pct_missing</th>\n",
       "    </tr>\n",
       "  </thead>\n",
       "  <tbody>\n",
       "    <tr>\n",
       "      <th>0</th>\n",
       "      <td>Pregnancies</td>\n",
       "      <td>0</td>\n",
       "      <td>768</td>\n",
       "      <td>0.0</td>\n",
       "    </tr>\n",
       "    <tr>\n",
       "      <th>1</th>\n",
       "      <td>Glucose</td>\n",
       "      <td>0</td>\n",
       "      <td>768</td>\n",
       "      <td>0.0</td>\n",
       "    </tr>\n",
       "    <tr>\n",
       "      <th>2</th>\n",
       "      <td>BloodPressure</td>\n",
       "      <td>0</td>\n",
       "      <td>768</td>\n",
       "      <td>0.0</td>\n",
       "    </tr>\n",
       "    <tr>\n",
       "      <th>3</th>\n",
       "      <td>SkinThickness</td>\n",
       "      <td>0</td>\n",
       "      <td>768</td>\n",
       "      <td>0.0</td>\n",
       "    </tr>\n",
       "    <tr>\n",
       "      <th>4</th>\n",
       "      <td>Insulin</td>\n",
       "      <td>0</td>\n",
       "      <td>768</td>\n",
       "      <td>0.0</td>\n",
       "    </tr>\n",
       "    <tr>\n",
       "      <th>5</th>\n",
       "      <td>BMI</td>\n",
       "      <td>0</td>\n",
       "      <td>768</td>\n",
       "      <td>0.0</td>\n",
       "    </tr>\n",
       "    <tr>\n",
       "      <th>6</th>\n",
       "      <td>DiabetesPedigreeFunction</td>\n",
       "      <td>0</td>\n",
       "      <td>768</td>\n",
       "      <td>0.0</td>\n",
       "    </tr>\n",
       "    <tr>\n",
       "      <th>7</th>\n",
       "      <td>Age</td>\n",
       "      <td>0</td>\n",
       "      <td>768</td>\n",
       "      <td>0.0</td>\n",
       "    </tr>\n",
       "    <tr>\n",
       "      <th>8</th>\n",
       "      <td>Outcome</td>\n",
       "      <td>0</td>\n",
       "      <td>768</td>\n",
       "      <td>0.0</td>\n",
       "    </tr>\n",
       "  </tbody>\n",
       "</table>\n",
       "</div>"
      ],
      "text/plain": [
       "                   variable  n_missing  n_cases  pct_missing\n",
       "0               Pregnancies          0      768          0.0\n",
       "1                   Glucose          0      768          0.0\n",
       "2             BloodPressure          0      768          0.0\n",
       "3             SkinThickness          0      768          0.0\n",
       "4                   Insulin          0      768          0.0\n",
       "5                       BMI          0      768          0.0\n",
       "6  DiabetesPedigreeFunction          0      768          0.0\n",
       "7                       Age          0      768          0.0\n",
       "8                   Outcome          0      768          0.0"
      ]
     },
     "execution_count": 20,
     "metadata": {},
     "output_type": "execute_result"
    }
   ],
   "source": [
    "diabetes_df.missing.missing_variable_summary()"
   ]
  },
  {
   "cell_type": "markdown",
   "id": "6dbbebb9",
   "metadata": {},
   "source": [
    "#### Intervalos de valores faltantes"
   ]
  },
  {
   "cell_type": "code",
   "execution_count": 21,
   "id": "c790051d",
   "metadata": {},
   "outputs": [
    {
     "data": {
      "text/html": [
       "<div>\n",
       "<style scoped>\n",
       "    .dataframe tbody tr th:only-of-type {\n",
       "        vertical-align: middle;\n",
       "    }\n",
       "\n",
       "    .dataframe tbody tr th {\n",
       "        vertical-align: top;\n",
       "    }\n",
       "\n",
       "    .dataframe thead th {\n",
       "        text-align: right;\n",
       "    }\n",
       "</style>\n",
       "<table border=\"1\" class=\"dataframe\">\n",
       "  <thead>\n",
       "    <tr style=\"text-align: right;\">\n",
       "      <th></th>\n",
       "      <th>span_counter</th>\n",
       "      <th>n_missing</th>\n",
       "      <th>n_complete</th>\n",
       "      <th>pct_missing</th>\n",
       "      <th>pct_complete</th>\n",
       "    </tr>\n",
       "  </thead>\n",
       "  <tbody>\n",
       "    <tr>\n",
       "      <th>0</th>\n",
       "      <td>0</td>\n",
       "      <td>0</td>\n",
       "      <td>50</td>\n",
       "      <td>0.0</td>\n",
       "      <td>100.0</td>\n",
       "    </tr>\n",
       "    <tr>\n",
       "      <th>1</th>\n",
       "      <td>1</td>\n",
       "      <td>0</td>\n",
       "      <td>50</td>\n",
       "      <td>0.0</td>\n",
       "      <td>100.0</td>\n",
       "    </tr>\n",
       "    <tr>\n",
       "      <th>2</th>\n",
       "      <td>2</td>\n",
       "      <td>0</td>\n",
       "      <td>50</td>\n",
       "      <td>0.0</td>\n",
       "      <td>100.0</td>\n",
       "    </tr>\n",
       "    <tr>\n",
       "      <th>3</th>\n",
       "      <td>3</td>\n",
       "      <td>0</td>\n",
       "      <td>50</td>\n",
       "      <td>0.0</td>\n",
       "      <td>100.0</td>\n",
       "    </tr>\n",
       "    <tr>\n",
       "      <th>4</th>\n",
       "      <td>4</td>\n",
       "      <td>0</td>\n",
       "      <td>50</td>\n",
       "      <td>0.0</td>\n",
       "      <td>100.0</td>\n",
       "    </tr>\n",
       "    <tr>\n",
       "      <th>5</th>\n",
       "      <td>5</td>\n",
       "      <td>0</td>\n",
       "      <td>50</td>\n",
       "      <td>0.0</td>\n",
       "      <td>100.0</td>\n",
       "    </tr>\n",
       "    <tr>\n",
       "      <th>6</th>\n",
       "      <td>6</td>\n",
       "      <td>0</td>\n",
       "      <td>50</td>\n",
       "      <td>0.0</td>\n",
       "      <td>100.0</td>\n",
       "    </tr>\n",
       "    <tr>\n",
       "      <th>7</th>\n",
       "      <td>7</td>\n",
       "      <td>0</td>\n",
       "      <td>50</td>\n",
       "      <td>0.0</td>\n",
       "      <td>100.0</td>\n",
       "    </tr>\n",
       "    <tr>\n",
       "      <th>8</th>\n",
       "      <td>8</td>\n",
       "      <td>0</td>\n",
       "      <td>50</td>\n",
       "      <td>0.0</td>\n",
       "      <td>100.0</td>\n",
       "    </tr>\n",
       "    <tr>\n",
       "      <th>9</th>\n",
       "      <td>9</td>\n",
       "      <td>0</td>\n",
       "      <td>50</td>\n",
       "      <td>0.0</td>\n",
       "      <td>100.0</td>\n",
       "    </tr>\n",
       "    <tr>\n",
       "      <th>10</th>\n",
       "      <td>10</td>\n",
       "      <td>0</td>\n",
       "      <td>50</td>\n",
       "      <td>0.0</td>\n",
       "      <td>100.0</td>\n",
       "    </tr>\n",
       "    <tr>\n",
       "      <th>11</th>\n",
       "      <td>11</td>\n",
       "      <td>0</td>\n",
       "      <td>50</td>\n",
       "      <td>0.0</td>\n",
       "      <td>100.0</td>\n",
       "    </tr>\n",
       "    <tr>\n",
       "      <th>12</th>\n",
       "      <td>12</td>\n",
       "      <td>0</td>\n",
       "      <td>50</td>\n",
       "      <td>0.0</td>\n",
       "      <td>100.0</td>\n",
       "    </tr>\n",
       "    <tr>\n",
       "      <th>13</th>\n",
       "      <td>13</td>\n",
       "      <td>0</td>\n",
       "      <td>50</td>\n",
       "      <td>0.0</td>\n",
       "      <td>100.0</td>\n",
       "    </tr>\n",
       "    <tr>\n",
       "      <th>14</th>\n",
       "      <td>14</td>\n",
       "      <td>0</td>\n",
       "      <td>50</td>\n",
       "      <td>0.0</td>\n",
       "      <td>100.0</td>\n",
       "    </tr>\n",
       "    <tr>\n",
       "      <th>15</th>\n",
       "      <td>15</td>\n",
       "      <td>0</td>\n",
       "      <td>18</td>\n",
       "      <td>0.0</td>\n",
       "      <td>100.0</td>\n",
       "    </tr>\n",
       "  </tbody>\n",
       "</table>\n",
       "</div>"
      ],
      "text/plain": [
       "    span_counter  n_missing  n_complete  pct_missing  pct_complete\n",
       "0              0          0          50          0.0         100.0\n",
       "1              1          0          50          0.0         100.0\n",
       "2              2          0          50          0.0         100.0\n",
       "3              3          0          50          0.0         100.0\n",
       "4              4          0          50          0.0         100.0\n",
       "5              5          0          50          0.0         100.0\n",
       "6              6          0          50          0.0         100.0\n",
       "7              7          0          50          0.0         100.0\n",
       "8              8          0          50          0.0         100.0\n",
       "9              9          0          50          0.0         100.0\n",
       "10            10          0          50          0.0         100.0\n",
       "11            11          0          50          0.0         100.0\n",
       "12            12          0          50          0.0         100.0\n",
       "13            13          0          50          0.0         100.0\n",
       "14            14          0          50          0.0         100.0\n",
       "15            15          0          18          0.0         100.0"
      ]
     },
     "execution_count": 21,
     "metadata": {},
     "output_type": "execute_result"
    }
   ],
   "source": [
    "diabetes_df.missing.missing_variable_span(span_every=50, variable=\"Glucose\")"
   ]
  },
  {
   "cell_type": "markdown",
   "id": "76c11517",
   "metadata": {},
   "source": [
    "## Visualizacion de valores faltantes"
   ]
  },
  {
   "cell_type": "markdown",
   "id": "7a69225a",
   "metadata": {},
   "source": [
    "### Variable"
   ]
  },
  {
   "cell_type": "code",
   "execution_count": 22,
   "id": "587bf282",
   "metadata": {},
   "outputs": [
    {
     "data": {
      "image/png": "[encoded data removed]",
      "text/plain": [
       "<Figure size 1000x1000 with 1 Axes>"
      ]
     },
     "metadata": {},
     "output_type": "display_data"
    }
   ],
   "source": [
    "diabetes_df.missing.missing_variable_plot()"
   ]
  },
  {
   "cell_type": "markdown",
   "id": "846e3434",
   "metadata": {},
   "source": [
    "### Casos / Observaciones / Filas"
   ]
  },
  {
   "cell_type": "code",
   "execution_count": 23,
   "id": "7970bcc4",
   "metadata": {},
   "outputs": [
    {
     "ename": "ValueError",
     "evalue": "`bins` must be positive, when an integer",
     "output_type": "error",
     "traceback": [
      "\u001b[31m---------------------------------------------------------------------------\u001b[39m",
      "\u001b[31mValueError\u001b[39m                                Traceback (most recent call last)",
      "\u001b[36mCell\u001b[39m\u001b[36m \u001b[39m\u001b[32mIn[23]\u001b[39m\u001b[32m, line 1\u001b[39m\n\u001b[32m----> \u001b[39m\u001b[32m1\u001b[39m \u001b[43mdiabetes_df\u001b[49m\u001b[43m.\u001b[49m\u001b[43mmissing\u001b[49m\u001b[43m.\u001b[49m\u001b[43mmissing_case_plot\u001b[49m\u001b[43m(\u001b[49m\u001b[43m)\u001b[49m\n",
      "\u001b[36mCell\u001b[39m\u001b[36m \u001b[39m\u001b[32mIn[15]\u001b[39m\u001b[32m, line 160\u001b[39m, in \u001b[36mMissingMethods.missing_case_plot\u001b[39m\u001b[34m(self)\u001b[39m\n\u001b[32m    156\u001b[39m \u001b[38;5;28;01mdef\u001b[39;00m\u001b[38;5;250m \u001b[39m\u001b[34mmissing_case_plot\u001b[39m(\u001b[38;5;28mself\u001b[39m):\n\u001b[32m    158\u001b[39m     df = \u001b[38;5;28mself\u001b[39m._obj.missing.missing_case_summary()\n\u001b[32m--> \u001b[39m\u001b[32m160\u001b[39m     \u001b[43msns\u001b[49m\u001b[43m.\u001b[49m\u001b[43mdisplot\u001b[49m\u001b[43m(\u001b[49m\u001b[43mdata\u001b[49m\u001b[43m=\u001b[49m\u001b[43mdf\u001b[49m\u001b[43m,\u001b[49m\u001b[43m \u001b[49m\u001b[43mx\u001b[49m\u001b[43m=\u001b[49m\u001b[33;43m\"\u001b[39;49m\u001b[33;43mn_missing\u001b[39;49m\u001b[33;43m\"\u001b[39;49m\u001b[43m,\u001b[49m\u001b[43m \u001b[49m\u001b[43mbinwidth\u001b[49m\u001b[43m=\u001b[49m\u001b[32;43m1\u001b[39;49m\u001b[43m,\u001b[49m\u001b[43m \u001b[49m\u001b[43mcolor\u001b[49m\u001b[43m=\u001b[49m\u001b[33;43m\"\u001b[39;49m\u001b[33;43mblack\u001b[39;49m\u001b[33;43m\"\u001b[39;49m\u001b[43m)\u001b[49m\n\u001b[32m    162\u001b[39m     plt.grid(axis=\u001b[33m\"\u001b[39m\u001b[33mx\u001b[39m\u001b[33m\"\u001b[39m)\n\u001b[32m    163\u001b[39m     plt.xlabel(\u001b[33m\"\u001b[39m\u001b[33mNumber of missings in case\u001b[39m\u001b[33m\"\u001b[39m)\n",
      "\u001b[36mFile \u001b[39m\u001b[32mc:\\Users\\david\\anaconda3\\envs\\ia_ptojects\\Lib\\site-packages\\seaborn\\distributions.py:2193\u001b[39m, in \u001b[36mdisplot\u001b[39m\u001b[34m(data, x, y, hue, row, col, weights, kind, rug, rug_kws, log_scale, legend, palette, hue_order, hue_norm, color, col_wrap, row_order, col_order, height, aspect, facet_kws, **kwargs)\u001b[39m\n\u001b[32m   2190\u001b[39m \u001b[38;5;28;01mif\u001b[39;00m p.univariate:\n\u001b[32m   2192\u001b[39m     _assign_default_kwargs(hist_kws, p.plot_univariate_histogram, histplot)\n\u001b[32m-> \u001b[39m\u001b[32m2193\u001b[39m     \u001b[43mp\u001b[49m\u001b[43m.\u001b[49m\u001b[43mplot_univariate_histogram\u001b[49m\u001b[43m(\u001b[49m\u001b[43m*\u001b[49m\u001b[43m*\u001b[49m\u001b[43mhist_kws\u001b[49m\u001b[43m)\u001b[49m\n\u001b[32m   2195\u001b[39m \u001b[38;5;28;01melse\u001b[39;00m:\n\u001b[32m   2197\u001b[39m     _assign_default_kwargs(hist_kws, p.plot_bivariate_histogram, histplot)\n",
      "\u001b[36mFile \u001b[39m\u001b[32mc:\\Users\\david\\anaconda3\\envs\\ia_ptojects\\Lib\\site-packages\\seaborn\\distributions.py:470\u001b[39m, in \u001b[36m_DistributionPlotter.plot_univariate_histogram\u001b[39m\u001b[34m(self, multiple, element, fill, common_norm, common_bins, shrink, kde, kde_kws, color, legend, line_kws, estimate_kws, **plot_kws)\u001b[39m\n\u001b[32m    468\u001b[39m \u001b[38;5;66;03m# Do the histogram computation\u001b[39;00m\n\u001b[32m    469\u001b[39m \u001b[38;5;28;01mif\u001b[39;00m \u001b[38;5;129;01mnot\u001b[39;00m (multiple_histograms \u001b[38;5;129;01mand\u001b[39;00m common_bins):\n\u001b[32m--> \u001b[39m\u001b[32m470\u001b[39m     bin_kws = \u001b[43mestimator\u001b[49m\u001b[43m.\u001b[49m\u001b[43m_define_bin_params\u001b[49m\u001b[43m(\u001b[49m\u001b[43msub_data\u001b[49m\u001b[43m,\u001b[49m\u001b[43m \u001b[49m\u001b[43morient\u001b[49m\u001b[43m,\u001b[49m\u001b[43m \u001b[49m\u001b[38;5;28;43;01mNone\u001b[39;49;00m\u001b[43m)\u001b[49m\n\u001b[32m    471\u001b[39m res = estimator._normalize(estimator._eval(sub_data, orient, bin_kws))\n\u001b[32m    472\u001b[39m heights = res[estimator.stat].to_numpy()\n",
      "\u001b[36mFile \u001b[39m\u001b[32mc:\\Users\\david\\anaconda3\\envs\\ia_ptojects\\Lib\\site-packages\\seaborn\\_stats\\counting.py:152\u001b[39m, in \u001b[36mHist._define_bin_params\u001b[39m\u001b[34m(self, data, orient, scale_type)\u001b[39m\n\u001b[32m    148\u001b[39m \u001b[38;5;66;03m# TODO We'll want this for ordinal / discrete scales too\u001b[39;00m\n\u001b[32m    149\u001b[39m \u001b[38;5;66;03m# (Do we need discrete as a parameter or just infer from scale?)\u001b[39;00m\n\u001b[32m    150\u001b[39m discrete = \u001b[38;5;28mself\u001b[39m.discrete \u001b[38;5;129;01mor\u001b[39;00m scale_type == \u001b[33m\"\u001b[39m\u001b[33mnominal\u001b[39m\u001b[33m\"\u001b[39m\n\u001b[32m--> \u001b[39m\u001b[32m152\u001b[39m bin_edges = \u001b[38;5;28;43mself\u001b[39;49m\u001b[43m.\u001b[49m\u001b[43m_define_bin_edges\u001b[49m\u001b[43m(\u001b[49m\n\u001b[32m    153\u001b[39m \u001b[43m    \u001b[49m\u001b[43mvals\u001b[49m\u001b[43m,\u001b[49m\u001b[43m \u001b[49m\u001b[43mweights\u001b[49m\u001b[43m,\u001b[49m\u001b[43m \u001b[49m\u001b[38;5;28;43mself\u001b[39;49m\u001b[43m.\u001b[49m\u001b[43mbins\u001b[49m\u001b[43m,\u001b[49m\u001b[43m \u001b[49m\u001b[38;5;28;43mself\u001b[39;49m\u001b[43m.\u001b[49m\u001b[43mbinwidth\u001b[49m\u001b[43m,\u001b[49m\u001b[43m \u001b[49m\u001b[38;5;28;43mself\u001b[39;49m\u001b[43m.\u001b[49m\u001b[43mbinrange\u001b[49m\u001b[43m,\u001b[49m\u001b[43m \u001b[49m\u001b[43mdiscrete\u001b[49m\u001b[43m,\u001b[49m\n\u001b[32m    154\u001b[39m \u001b[43m\u001b[49m\u001b[43m)\u001b[49m\n\u001b[32m    156\u001b[39m \u001b[38;5;28;01mif\u001b[39;00m \u001b[38;5;28misinstance\u001b[39m(\u001b[38;5;28mself\u001b[39m.bins, (\u001b[38;5;28mstr\u001b[39m, \u001b[38;5;28mint\u001b[39m)):\n\u001b[32m    157\u001b[39m     n_bins = \u001b[38;5;28mlen\u001b[39m(bin_edges) - \u001b[32m1\u001b[39m\n",
      "\u001b[36mFile \u001b[39m\u001b[32mc:\\Users\\david\\anaconda3\\envs\\ia_ptojects\\Lib\\site-packages\\seaborn\\_stats\\counting.py:137\u001b[39m, in \u001b[36mHist._define_bin_edges\u001b[39m\u001b[34m(self, vals, weight, bins, binwidth, binrange, discrete)\u001b[39m\n\u001b[32m    135\u001b[39m     \u001b[38;5;28;01mif\u001b[39;00m binwidth \u001b[38;5;129;01mis\u001b[39;00m \u001b[38;5;129;01mnot\u001b[39;00m \u001b[38;5;28;01mNone\u001b[39;00m:\n\u001b[32m    136\u001b[39m         bins = \u001b[38;5;28mint\u001b[39m(\u001b[38;5;28mround\u001b[39m((stop - start) / binwidth))\n\u001b[32m--> \u001b[39m\u001b[32m137\u001b[39m     bin_edges = \u001b[43mnp\u001b[49m\u001b[43m.\u001b[49m\u001b[43mhistogram_bin_edges\u001b[49m\u001b[43m(\u001b[49m\u001b[43mvals\u001b[49m\u001b[43m,\u001b[49m\u001b[43m \u001b[49m\u001b[43mbins\u001b[49m\u001b[43m,\u001b[49m\u001b[43m \u001b[49m\u001b[43mbinrange\u001b[49m\u001b[43m,\u001b[49m\u001b[43m \u001b[49m\u001b[43mweight\u001b[49m\u001b[43m)\u001b[49m\n\u001b[32m    139\u001b[39m \u001b[38;5;66;03m# TODO warning or cap on too many bins?\u001b[39;00m\n\u001b[32m    141\u001b[39m \u001b[38;5;28;01mreturn\u001b[39;00m bin_edges\n",
      "\u001b[36mFile \u001b[39m\u001b[32mc:\\Users\\david\\anaconda3\\envs\\ia_ptojects\\Lib\\site-packages\\numpy\\lib\\_histograms_impl.py:680\u001b[39m, in \u001b[36mhistogram_bin_edges\u001b[39m\u001b[34m(a, bins, range, weights)\u001b[39m\n\u001b[32m    479\u001b[39m \u001b[38;5;250m\u001b[39m\u001b[33mr\u001b[39m\u001b[33;03m\"\"\"\u001b[39;00m\n\u001b[32m    480\u001b[39m \u001b[33;03mFunction to calculate only the edges of the bins used by the `histogram`\u001b[39;00m\n\u001b[32m    481\u001b[39m \u001b[33;03mfunction.\u001b[39;00m\n\u001b[32m   (...)\u001b[39m\u001b[32m    677\u001b[39m \n\u001b[32m    678\u001b[39m \u001b[33;03m\"\"\"\u001b[39;00m\n\u001b[32m    679\u001b[39m a, weights = _ravel_and_check_weights(a, weights)\n\u001b[32m--> \u001b[39m\u001b[32m680\u001b[39m bin_edges, _ = \u001b[43m_get_bin_edges\u001b[49m\u001b[43m(\u001b[49m\u001b[43ma\u001b[49m\u001b[43m,\u001b[49m\u001b[43m \u001b[49m\u001b[43mbins\u001b[49m\u001b[43m,\u001b[49m\u001b[43m \u001b[49m\u001b[38;5;28;43mrange\u001b[39;49m\u001b[43m,\u001b[49m\u001b[43m \u001b[49m\u001b[43mweights\u001b[49m\u001b[43m)\u001b[49m\n\u001b[32m    681\u001b[39m \u001b[38;5;28;01mreturn\u001b[39;00m bin_edges\n",
      "\u001b[36mFile \u001b[39m\u001b[32mc:\\Users\\david\\anaconda3\\envs\\ia_ptojects\\Lib\\site-packages\\numpy\\lib\\_histograms_impl.py:427\u001b[39m, in \u001b[36m_get_bin_edges\u001b[39m\u001b[34m(a, bins, range, weights)\u001b[39m\n\u001b[32m    424\u001b[39m         \u001b[38;5;28;01mraise\u001b[39;00m \u001b[38;5;167;01mTypeError\u001b[39;00m(\n\u001b[32m    425\u001b[39m             \u001b[33m'\u001b[39m\u001b[33m`bins` must be an integer, a string, or an array\u001b[39m\u001b[33m'\u001b[39m) \u001b[38;5;28;01mfrom\u001b[39;00m\u001b[38;5;250m \u001b[39m\u001b[34;01me\u001b[39;00m\n\u001b[32m    426\u001b[39m     \u001b[38;5;28;01mif\u001b[39;00m n_equal_bins < \u001b[32m1\u001b[39m:\n\u001b[32m--> \u001b[39m\u001b[32m427\u001b[39m         \u001b[38;5;28;01mraise\u001b[39;00m \u001b[38;5;167;01mValueError\u001b[39;00m(\u001b[33m'\u001b[39m\u001b[33m`bins` must be positive, when an integer\u001b[39m\u001b[33m'\u001b[39m)\n\u001b[32m    429\u001b[39m     first_edge, last_edge = _get_outer_edges(a, \u001b[38;5;28mrange\u001b[39m)\n\u001b[32m    431\u001b[39m \u001b[38;5;28;01melif\u001b[39;00m np.ndim(bins) == \u001b[32m1\u001b[39m:\n",
      "\u001b[31mValueError\u001b[39m: `bins` must be positive, when an integer"
     ]
    },
    {
     "data": {
      "image/png": "[encoded data removed]",
      "text/plain": [
       "<Figure size 500x500 with 1 Axes>"
      ]
     },
     "metadata": {},
     "output_type": "display_data"
    }
   ],
   "source": [
    "diabetes_df.missing.missing_case_plot()"
   ]
  },
  {
   "cell_type": "markdown",
   "id": "6fd40ff2",
   "metadata": {},
   "source": [
    "## Codificacion de valores faltantes"
   ]
  },
  {
   "cell_type": "code",
   "execution_count": null,
   "id": "93723505",
   "metadata": {},
   "outputs": [
    {
     "data": {
      "text/html": [
       "<div>\n",
       "<style scoped>\n",
       "    .dataframe tbody tr th:only-of-type {\n",
       "        vertical-align: middle;\n",
       "    }\n",
       "\n",
       "    .dataframe tbody tr th {\n",
       "        vertical-align: top;\n",
       "    }\n",
       "\n",
       "    .dataframe thead th {\n",
       "        text-align: right;\n",
       "    }\n",
       "</style>\n",
       "<table border=\"1\" class=\"dataframe\">\n",
       "  <thead>\n",
       "    <tr style=\"text-align: right;\">\n",
       "      <th></th>\n",
       "      <th>x</th>\n",
       "      <th>y</th>\n",
       "      <th>z</th>\n",
       "    </tr>\n",
       "  </thead>\n",
       "  <tbody>\n",
       "    <tr>\n",
       "      <th>0</th>\n",
       "      <td>1</td>\n",
       "      <td>A</td>\n",
       "      <td>-100</td>\n",
       "    </tr>\n",
       "    <tr>\n",
       "      <th>1</th>\n",
       "      <td>3</td>\n",
       "      <td>N/A</td>\n",
       "      <td>-99</td>\n",
       "    </tr>\n",
       "    <tr>\n",
       "      <th>2</th>\n",
       "      <td>NA</td>\n",
       "      <td>NA</td>\n",
       "      <td>-98</td>\n",
       "    </tr>\n",
       "    <tr>\n",
       "      <th>3</th>\n",
       "      <td>-99</td>\n",
       "      <td>E</td>\n",
       "      <td>-101</td>\n",
       "    </tr>\n",
       "    <tr>\n",
       "      <th>4</th>\n",
       "      <td>-98</td>\n",
       "      <td>F</td>\n",
       "      <td>-1</td>\n",
       "    </tr>\n",
       "    <tr>\n",
       "      <th>5</th>\n",
       "      <td>-99</td>\n",
       "      <td>G</td>\n",
       "      <td>-1</td>\n",
       "    </tr>\n",
       "  </tbody>\n",
       "</table>\n",
       "</div>"
      ],
      "text/plain": [
       "     x    y    z\n",
       "0    1    A -100\n",
       "1    3  N/A  -99\n",
       "2   NA   NA  -98\n",
       "3  -99    E -101\n",
       "4  -98    F   -1\n",
       "5  -99    G   -1"
      ]
     },
     "execution_count": 90,
     "metadata": {},
     "output_type": "execute_result"
    }
   ],
   "source": [
    "missing_data_example_df = pd.DataFrame.from_dict(\n",
    "    dict(\n",
    "        x = [1, 3 , \"NA\", -99, -98, -99],\n",
    "        y = [\"A\", \"N/A\", \"NA\", \"E\", \"F\", \"G\"],\n",
    "        z = [-100, -99, -98, -101, -1, -1]\n",
    "    )\n",
    ")\n",
    "\n",
    "missing_data_example_df"
   ]
  },
  {
   "cell_type": "markdown",
   "id": "0ba588af",
   "metadata": {},
   "source": [
    "#### Revisar los tipos de datos"
   ]
  },
  {
   "cell_type": "code",
   "execution_count": null,
   "id": "66201a42",
   "metadata": {},
   "outputs": [
    {
     "data": {
      "text/plain": [
       "x    object\n",
       "y    object\n",
       "z     int64\n",
       "dtype: object"
      ]
     },
     "execution_count": 91,
     "metadata": {},
     "output_type": "execute_result"
    }
   ],
   "source": [
    "missing_data_example_df.dtypes"
   ]
  },
  {
   "cell_type": "markdown",
   "id": "74989133",
   "metadata": {},
   "source": [
    "#### Revisar valores unicos de los datos"
   ]
  },
  {
   "cell_type": "code",
   "execution_count": null,
   "id": "e246c65f",
   "metadata": {},
   "outputs": [
    {
     "data": {
      "text/plain": [
       "array([1, 3, 'NA', -99, -98], dtype=object)"
      ]
     },
     "execution_count": 92,
     "metadata": {},
     "output_type": "execute_result"
    }
   ],
   "source": [
    "missing_data_example_df.x.unique()"
   ]
  },
  {
   "cell_type": "code",
   "execution_count": null,
   "id": "8d983d97",
   "metadata": {},
   "outputs": [
    {
     "data": {
      "text/plain": [
       "x     [1, 3, NA, -99, -98]\n",
       "y    [A, N/A, NA, E, F, G]\n",
       "dtype: object"
      ]
     },
     "execution_count": 93,
     "metadata": {},
     "output_type": "execute_result"
    }
   ],
   "source": [
    "missing_data_example_df.select_dtypes(object).apply(pd.unique)"
   ]
  },
  {
   "cell_type": "markdown",
   "id": "9a7e5c84",
   "metadata": {},
   "source": [
    "#### Sustitucion global"
   ]
  },
  {
   "cell_type": "code",
   "execution_count": null,
   "id": "84c64997",
   "metadata": {},
   "outputs": [
    {
     "name": "stderr",
     "output_type": "stream",
     "text": [
      "C:\\Users\\david\\AppData\\Local\\Temp\\ipykernel_19688\\3319056906.py:1: FutureWarning: Downcasting behavior in `replace` is deprecated and will be removed in a future version. To retain the old behavior, explicitly call `result.infer_objects(copy=False)`. To opt-in to the future behavior, set `pd.set_option('future.no_silent_downcasting', True)`\n",
      "  missing_data_example_df.replace(to_replace=[-99, \"NA\"], value=np.nan)\n"
     ]
    },
    {
     "data": {
      "text/html": [
       "<div>\n",
       "<style scoped>\n",
       "    .dataframe tbody tr th:only-of-type {\n",
       "        vertical-align: middle;\n",
       "    }\n",
       "\n",
       "    .dataframe tbody tr th {\n",
       "        vertical-align: top;\n",
       "    }\n",
       "\n",
       "    .dataframe thead th {\n",
       "        text-align: right;\n",
       "    }\n",
       "</style>\n",
       "<table border=\"1\" class=\"dataframe\">\n",
       "  <thead>\n",
       "    <tr style=\"text-align: right;\">\n",
       "      <th></th>\n",
       "      <th>x</th>\n",
       "      <th>y</th>\n",
       "      <th>z</th>\n",
       "    </tr>\n",
       "  </thead>\n",
       "  <tbody>\n",
       "    <tr>\n",
       "      <th>0</th>\n",
       "      <td>1.0</td>\n",
       "      <td>A</td>\n",
       "      <td>-100.0</td>\n",
       "    </tr>\n",
       "    <tr>\n",
       "      <th>1</th>\n",
       "      <td>3.0</td>\n",
       "      <td>N/A</td>\n",
       "      <td>NaN</td>\n",
       "    </tr>\n",
       "    <tr>\n",
       "      <th>2</th>\n",
       "      <td>NaN</td>\n",
       "      <td>NaN</td>\n",
       "      <td>-98.0</td>\n",
       "    </tr>\n",
       "    <tr>\n",
       "      <th>3</th>\n",
       "      <td>NaN</td>\n",
       "      <td>E</td>\n",
       "      <td>-101.0</td>\n",
       "    </tr>\n",
       "    <tr>\n",
       "      <th>4</th>\n",
       "      <td>-98.0</td>\n",
       "      <td>F</td>\n",
       "      <td>-1.0</td>\n",
       "    </tr>\n",
       "    <tr>\n",
       "      <th>5</th>\n",
       "      <td>NaN</td>\n",
       "      <td>G</td>\n",
       "      <td>-1.0</td>\n",
       "    </tr>\n",
       "  </tbody>\n",
       "</table>\n",
       "</div>"
      ],
      "text/plain": [
       "      x    y      z\n",
       "0   1.0    A -100.0\n",
       "1   3.0  N/A    NaN\n",
       "2   NaN  NaN  -98.0\n",
       "3   NaN    E -101.0\n",
       "4 -98.0    F   -1.0\n",
       "5   NaN    G   -1.0"
      ]
     },
     "execution_count": 94,
     "metadata": {},
     "output_type": "execute_result"
    }
   ],
   "source": [
    "missing_data_example_df.replace(to_replace=[-99, \"NA\"], value=np.nan)"
   ]
  },
  {
   "cell_type": "code",
   "execution_count": 29,
   "id": "8d521d50",
   "metadata": {},
   "outputs": [
    {
     "data": {
      "image/png": "[encoded data removed]",
      "text/plain": [
       "<Figure size 1000x1000 with 1 Axes>"
      ]
     },
     "metadata": {},
     "output_type": "display_data"
    }
   ],
   "source": [
    "diabetes_df[diabetes_df.columns[1:6]] = diabetes_df[diabetes_df.columns[1:6]].replace(0, np.nan)\n",
    "diabetes_df.missing.missing_variable_plot()"
   ]
  },
  {
   "cell_type": "markdown",
   "id": "937d543c",
   "metadata": {},
   "source": [
    "## Missing Completely At Random (MCAR)"
   ]
  },
  {
   "cell_type": "code",
   "execution_count": 35,
   "id": "419ee4e2",
   "metadata": {},
   "outputs": [
    {
     "ename": "TypeError",
     "evalue": "'module' object is not callable",
     "output_type": "error",
     "traceback": [
      "\u001b[31m---------------------------------------------------------------------------\u001b[39m",
      "\u001b[31mTypeError\u001b[39m                                 Traceback (most recent call last)",
      "\u001b[36mCell\u001b[39m\u001b[36m \u001b[39m\u001b[32mIn[35]\u001b[39m\u001b[32m, line 1\u001b[39m\n\u001b[32m----> \u001b[39m\u001b[32m1\u001b[39m \u001b[43mdiabetes_df\u001b[49m\u001b[43m.\u001b[49m\u001b[43mmissing\u001b[49m\u001b[43m.\u001b[49m\u001b[43msort_variables_by_missingness\u001b[49m\u001b[43m(\u001b[49m\u001b[43m)\u001b[49m\u001b[43m.\u001b[49m\u001b[43mpipe\u001b[49m\u001b[43m(\u001b[49m\u001b[43mmissingno\u001b[49m\u001b[43m)\u001b[49m\n",
      "\u001b[36mFile \u001b[39m\u001b[32mc:\\Users\\david\\anaconda3\\envs\\ia_ptojects\\Lib\\site-packages\\pandas\\core\\generic.py:6231\u001b[39m, in \u001b[36mNDFrame.pipe\u001b[39m\u001b[34m(self, func, *args, **kwargs)\u001b[39m\n\u001b[32m   6229\u001b[39m \u001b[38;5;28;01mif\u001b[39;00m using_copy_on_write():\n\u001b[32m   6230\u001b[39m     \u001b[38;5;28;01mreturn\u001b[39;00m common.pipe(\u001b[38;5;28mself\u001b[39m.copy(deep=\u001b[38;5;28;01mNone\u001b[39;00m), func, *args, **kwargs)\n\u001b[32m-> \u001b[39m\u001b[32m6231\u001b[39m \u001b[38;5;28;01mreturn\u001b[39;00m \u001b[43mcommon\u001b[49m\u001b[43m.\u001b[49m\u001b[43mpipe\u001b[49m\u001b[43m(\u001b[49m\u001b[38;5;28;43mself\u001b[39;49m\u001b[43m,\u001b[49m\u001b[43m \u001b[49m\u001b[43mfunc\u001b[49m\u001b[43m,\u001b[49m\u001b[43m \u001b[49m\u001b[43m*\u001b[49m\u001b[43margs\u001b[49m\u001b[43m,\u001b[49m\u001b[43m \u001b[49m\u001b[43m*\u001b[49m\u001b[43m*\u001b[49m\u001b[43mkwargs\u001b[49m\u001b[43m)\u001b[49m\n",
      "\u001b[36mFile \u001b[39m\u001b[32mc:\\Users\\david\\anaconda3\\envs\\ia_ptojects\\Lib\\site-packages\\pandas\\core\\common.py:502\u001b[39m, in \u001b[36mpipe\u001b[39m\u001b[34m(obj, func, *args, **kwargs)\u001b[39m\n\u001b[32m    500\u001b[39m     \u001b[38;5;28;01mreturn\u001b[39;00m func(*args, **kwargs)\n\u001b[32m    501\u001b[39m \u001b[38;5;28;01melse\u001b[39;00m:\n\u001b[32m--> \u001b[39m\u001b[32m502\u001b[39m     \u001b[38;5;28;01mreturn\u001b[39;00m \u001b[43mfunc\u001b[49m\u001b[43m(\u001b[49m\u001b[43mobj\u001b[49m\u001b[43m,\u001b[49m\u001b[43m \u001b[49m\u001b[43m*\u001b[49m\u001b[43margs\u001b[49m\u001b[43m,\u001b[49m\u001b[43m \u001b[49m\u001b[43m*\u001b[49m\u001b[43m*\u001b[49m\u001b[43mkwargs\u001b[49m\u001b[43m)\u001b[49m\n",
      "\u001b[31mTypeError\u001b[39m: 'module' object is not callable"
     ]
    }
   ],
   "source": [
    "diabetes_df.missing.sort_variables_by_missingness().pipe(missingno)"
   ]
  },
  {
   "cell_type": "markdown",
   "id": "bc0ce29c",
   "metadata": {},
   "source": []
  }
 ],
 "metadata": {
  "kernelspec": {
   "display_name": "ia_ptojects",
   "language": "python",
   "name": "python3"
  },
  "language_info": {
   "codemirror_mode": {
    "name": "ipython",
    "version": 3
   },
   "file_extension": ".py",
   "mimetype": "text/x-python",
   "name": "python",
   "nbconvert_exporter": "python",
   "pygments_lexer": "ipython3",
   "version": "3.12.9"
  }
 },
 "nbformat": 4,
 "nbformat_minor": 5
}
