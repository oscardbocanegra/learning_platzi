{
 "cells": [
  {
   "cell_type": "markdown",
   "id": "c09b7b3b",
   "metadata": {},
   "source": [
    "### Importamos las librerias necesarias para el analisis"
   ]
  },
  {
   "cell_type": "code",
   "execution_count": 1,
   "id": "5324f126",
   "metadata": {},
   "outputs": [],
   "source": [
    "import pandas as pd\n",
    "import numpy as np\n",
    "import random"
   ]
  },
  {
   "cell_type": "code",
   "execution_count": 3,
   "id": "b560728e",
   "metadata": {},
   "outputs": [
    {
     "data": {
      "text/plain": [
       "array([32.87015911, 32.41562539, 34.66024561, ..., 33.36673208,\n",
       "       33.02213842, 33.94433026], shape=(10000,))"
      ]
     },
     "execution_count": 3,
     "metadata": {},
     "output_type": "execute_result"
    }
   ],
   "source": [
    "data = np.random.normal(loc=34, size=10000)\n",
    "data"
   ]
  },
  {
   "cell_type": "code",
   "execution_count": 4,
   "id": "a2d92d2c",
   "metadata": {},
   "outputs": [
    {
     "data": {
      "text/plain": [
       "np.float64(34.00643567185528)"
      ]
     },
     "execution_count": 4,
     "metadata": {},
     "output_type": "execute_result"
    }
   ],
   "source": [
    "data.mean()"
   ]
  },
  {
   "cell_type": "markdown",
   "id": "2d2bd87b",
   "metadata": {},
   "source": [
    "### Iniciamos bootstrapping para calcular el promedio de edades"
   ]
  },
  {
   "cell_type": "code",
   "execution_count": 5,
   "id": "07bc5752",
   "metadata": {},
   "outputs": [],
   "source": [
    "promedio = []\n",
    "for i in range(40):\n",
    "    muestra = random.sample(data.tolist(), 5)\n",
    "    prom = np.mean(muestra)\n",
    "    promedio.append(prom)"
   ]
  },
  {
   "cell_type": "code",
   "execution_count": 6,
   "id": "87f5660c",
   "metadata": {},
   "outputs": [
    {
     "data": {
      "text/plain": [
       "np.float64(34.02564400742265)"
      ]
     },
     "execution_count": 6,
     "metadata": {},
     "output_type": "execute_result"
    }
   ],
   "source": [
    "np.mean(promedio)"
   ]
  },
  {
   "cell_type": "markdown",
   "id": "b6f627da",
   "metadata": {},
   "source": []
  }
 ],
 "metadata": {
  "kernelspec": {
   "display_name": "ia_ptojects",
   "language": "python",
   "name": "python3"
  },
  "language_info": {
   "codemirror_mode": {
    "name": "ipython",
    "version": 3
   },
   "file_extension": ".py",
   "mimetype": "text/x-python",
   "name": "python",
   "nbconvert_exporter": "python",
   "pygments_lexer": "ipython3",
   "version": "3.12.9"
  }
 },
 "nbformat": 4,
 "nbformat_minor": 5
}
