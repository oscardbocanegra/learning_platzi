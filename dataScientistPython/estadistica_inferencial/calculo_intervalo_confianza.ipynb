{
 "cells": [
  {
   "cell_type": "markdown",
   "id": "f3dd8954",
   "metadata": {},
   "source": [
    "## Importamos las librerias necesarias para el analisis"
   ]
  },
  {
   "cell_type": "code",
   "execution_count": 9,
   "id": "5a616706",
   "metadata": {},
   "outputs": [],
   "source": [
    "import pandas as pd\n",
    "import numpy as np\n",
    "import seaborn as sns\n",
    "import scipy.stats as st"
   ]
  },
  {
   "cell_type": "markdown",
   "id": "c399fa3e",
   "metadata": {},
   "source": [
    "### Esta practica la hare sobre una distribucion creada aca mismo"
   ]
  },
  {
   "cell_type": "code",
   "execution_count": 2,
   "id": "2fee17a7",
   "metadata": {},
   "outputs": [],
   "source": [
    "np.random.seed(20)\n",
    "var1 = np.random.randint(0, 10, 10) # Dias de vacaciones\n",
    "var2 = var1 + np.random.normal(0, 1, 10) # Dinero gastado"
   ]
  },
  {
   "cell_type": "code",
   "execution_count": 3,
   "id": "7070ec3a",
   "metadata": {},
   "outputs": [
    {
     "data": {
      "text/plain": [
       "array([3, 9, 4, 6, 7, 2, 0, 6, 8, 5], dtype=int32)"
      ]
     },
     "execution_count": 3,
     "metadata": {},
     "output_type": "execute_result"
    }
   ],
   "source": [
    "var1"
   ]
  },
  {
   "cell_type": "code",
   "execution_count": 4,
   "id": "71fd9e6e",
   "metadata": {},
   "outputs": [
    {
     "data": {
      "text/plain": [
       "array([1.91516741, 9.55969629, 4.93946935, 5.02151896, 7.50309684,\n",
       "       2.40641447, 0.32346101, 5.50658912, 7.20798321, 4.15763207])"
      ]
     },
     "execution_count": 4,
     "metadata": {},
     "output_type": "execute_result"
    }
   ],
   "source": [
    "var2"
   ]
  },
  {
   "cell_type": "markdown",
   "id": "ef77965a",
   "metadata": {},
   "source": [
    "### Visualizacion de resultado con un intervalo de confianza del 80%"
   ]
  },
  {
   "cell_type": "code",
   "execution_count": 6,
   "id": "9632b88d",
   "metadata": {},
   "outputs": [
    {
     "data": {
      "image/png": "[encoded data removed]",
      "text/plain": [
       "<Figure size 640x480 with 1 Axes>"
      ]
     },
     "metadata": {},
     "output_type": "display_data"
    }
   ],
   "source": [
    "grafico = sns.regplot(x=var1, y=var2, ci=80)"
   ]
  },
  {
   "cell_type": "code",
   "execution_count": 7,
   "id": "c0424c7a",
   "metadata": {},
   "outputs": [
    {
     "data": {
      "text/plain": [
       "[(np.int32(3), np.float64(1.9151674126826672)),\n",
       " (np.int32(9), np.float64(9.559696289403918)),\n",
       " (np.int32(4), np.float64(4.939469349856077)),\n",
       " (np.int32(6), np.float64(5.021518957881304)),\n",
       " (np.int32(7), np.float64(7.503096840109191)),\n",
       " (np.int32(2), np.float64(2.406414468894801)),\n",
       " (np.int32(0), np.float64(0.3234610099156434)),\n",
       " (np.int32(6), np.float64(5.50658911809112)),\n",
       " (np.int32(8), np.float64(7.207983209222818)),\n",
       " (np.int32(5), np.float64(4.157632065861516))]"
      ]
     },
     "execution_count": 7,
     "metadata": {},
     "output_type": "execute_result"
    }
   ],
   "source": [
    "tuple = list(zip(var1, var2))\n",
    "tuple"
   ]
  },
  {
   "cell_type": "code",
   "execution_count": 8,
   "id": "01aa998d",
   "metadata": {},
   "outputs": [
    {
     "data": {
      "text/html": [
       "<div>\n",
       "<style scoped>\n",
       "    .dataframe tbody tr th:only-of-type {\n",
       "        vertical-align: middle;\n",
       "    }\n",
       "\n",
       "    .dataframe tbody tr th {\n",
       "        vertical-align: top;\n",
       "    }\n",
       "\n",
       "    .dataframe thead th {\n",
       "        text-align: right;\n",
       "    }\n",
       "</style>\n",
       "<table border=\"1\" class=\"dataframe\">\n",
       "  <thead>\n",
       "    <tr style=\"text-align: right;\">\n",
       "      <th></th>\n",
       "      <th>Días de vacaciones</th>\n",
       "      <th>Dinero gastado</th>\n",
       "    </tr>\n",
       "  </thead>\n",
       "  <tbody>\n",
       "    <tr>\n",
       "      <th>0</th>\n",
       "      <td>3</td>\n",
       "      <td>1.915167</td>\n",
       "    </tr>\n",
       "    <tr>\n",
       "      <th>1</th>\n",
       "      <td>9</td>\n",
       "      <td>9.559696</td>\n",
       "    </tr>\n",
       "    <tr>\n",
       "      <th>2</th>\n",
       "      <td>4</td>\n",
       "      <td>4.939469</td>\n",
       "    </tr>\n",
       "    <tr>\n",
       "      <th>3</th>\n",
       "      <td>6</td>\n",
       "      <td>5.021519</td>\n",
       "    </tr>\n",
       "    <tr>\n",
       "      <th>4</th>\n",
       "      <td>7</td>\n",
       "      <td>7.503097</td>\n",
       "    </tr>\n",
       "    <tr>\n",
       "      <th>5</th>\n",
       "      <td>2</td>\n",
       "      <td>2.406414</td>\n",
       "    </tr>\n",
       "    <tr>\n",
       "      <th>6</th>\n",
       "      <td>0</td>\n",
       "      <td>0.323461</td>\n",
       "    </tr>\n",
       "    <tr>\n",
       "      <th>7</th>\n",
       "      <td>6</td>\n",
       "      <td>5.506589</td>\n",
       "    </tr>\n",
       "    <tr>\n",
       "      <th>8</th>\n",
       "      <td>8</td>\n",
       "      <td>7.207983</td>\n",
       "    </tr>\n",
       "    <tr>\n",
       "      <th>9</th>\n",
       "      <td>5</td>\n",
       "      <td>4.157632</td>\n",
       "    </tr>\n",
       "  </tbody>\n",
       "</table>\n",
       "</div>"
      ],
      "text/plain": [
       "   Días de vacaciones  Dinero gastado\n",
       "0                   3        1.915167\n",
       "1                   9        9.559696\n",
       "2                   4        4.939469\n",
       "3                   6        5.021519\n",
       "4                   7        7.503097\n",
       "5                   2        2.406414\n",
       "6                   0        0.323461\n",
       "7                   6        5.506589\n",
       "8                   8        7.207983\n",
       "9                   5        4.157632"
      ]
     },
     "execution_count": 8,
     "metadata": {},
     "output_type": "execute_result"
    }
   ],
   "source": [
    "tabla = pd.DataFrame(tuple,\n",
    "                     columns=[\"Días de vacaciones\", \"Dinero gastado\"])\n",
    "tabla"
   ]
  },
  {
   "cell_type": "code",
   "execution_count": 14,
   "id": "2a66f9b0",
   "metadata": {},
   "outputs": [
    {
     "data": {
      "text/plain": [
       "(array([2.93201634, 2.92062172]), array([6.92208653, 6.93348116]))"
      ]
     },
     "execution_count": 14,
     "metadata": {},
     "output_type": "execute_result"
    }
   ],
   "source": [
    "# 95% confidence interval for the mean of \"Dinero gastado\"\n",
    "st.t.interval(\n",
    "\tconfidence=0.95,\n",
    "\tdf=len(tabla)-1,\n",
    "\tloc=np.mean(tabla),\n",
    "\tscale=st.sem(tabla)\n",
    ")"
   ]
  },
  {
   "cell_type": "markdown",
   "id": "8caea01e",
   "metadata": {},
   "source": []
  }
 ],
 "metadata": {
  "kernelspec": {
   "display_name": "ia_ptojects",
   "language": "python",
   "name": "python3"
  },
  "language_info": {
   "codemirror_mode": {
    "name": "ipython",
    "version": 3
   },
   "file_extension": ".py",
   "mimetype": "text/x-python",
   "name": "python",
   "nbconvert_exporter": "python",
   "pygments_lexer": "ipython3",
   "version": "3.12.9"
  }
 },
 "nbformat": 4,
 "nbformat_minor": 5
}
