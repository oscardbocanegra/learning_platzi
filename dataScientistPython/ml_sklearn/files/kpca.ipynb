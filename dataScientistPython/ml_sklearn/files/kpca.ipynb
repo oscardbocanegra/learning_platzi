{
 "cells": [
  {
   "cell_type": "code",
   "execution_count": 1,
   "id": "fe07b90e",
   "metadata": {},
   "outputs": [],
   "source": [
    "import pandas as pd\n",
    "import matplotlib.pyplot as plt\n",
    "\n",
    "from sklearn.decomposition import KernelPCA\n",
    "from sklearn.decomposition import IncrementalPCA\n",
    "\n",
    "from sklearn.linear_model import LogisticRegression\n",
    "\n",
    "from sklearn.preprocessing import StandardScaler\n",
    "from sklearn.model_selection import train_test_split"
   ]
  },
  {
   "cell_type": "code",
   "execution_count": 3,
   "id": "a0c6781d",
   "metadata": {},
   "outputs": [
    {
     "name": "stdout",
     "output_type": "stream",
     "text": [
      "   age  sex  cp  trestbps  chol  fbs  restecg  thalach  exang  oldpeak  slope  \\\n",
      "0   52    1   0       125   212    0        1      168      0      1.0      2   \n",
      "1   53    1   0       140   203    1        0      155      1      3.1      0   \n",
      "2   70    1   0       145   174    0        1      125      1      2.6      0   \n",
      "3   61    1   0       148   203    0        1      161      0      0.0      2   \n",
      "4   62    0   0       138   294    1        1      106      0      1.9      1   \n",
      "\n",
      "   ca  thal  target  \n",
      "0   2     3       0  \n",
      "1   0     3       0  \n",
      "2   0     3       0  \n",
      "3   1     3       0  \n",
      "4   3     2       0  \n"
     ]
    }
   ],
   "source": [
    "if __name__ == \"__main__\":\n",
    "    dt_heart = pd.read_csv(\"../data/heart.csv\")\n",
    "    print(dt_heart.head(5))\n",
    "\n",
    "    dt_features = dt_heart.drop(columns=[\"target\"], axis=1)\n",
    "    dt_target = dt_heart[\"target\"]\n",
    "\n",
    "\n",
    "    dt_features = StandardScaler().fit_transform(dt_features)\n",
    "    \n",
    "    X_train, X_test, y_train, y_test = train_test_split(\n",
    "        dt_features, dt_target, test_size=0.3, random_state=42)"
   ]
  },
  {
   "cell_type": "code",
   "execution_count": 5,
   "id": "392d1e64",
   "metadata": {},
   "outputs": [
    {
     "name": "stdout",
     "output_type": "stream",
     "text": [
      "Score: 0.7987012987012987\n"
     ]
    }
   ],
   "source": [
    "kpca = KernelPCA(kernel=\"poly\", n_components=4)\n",
    "kpca.fit(X_train)\n",
    "\n",
    "dt_train = kpca.transform(X_train)\n",
    "dt_test = kpca.transform(X_test)\n",
    "\n",
    "logistic = LogisticRegression(solver=\"lbfgs\")\n",
    "logistic.fit(dt_train, y_train)\n",
    "\n",
    "print(\"Score:\", logistic.score(dt_test, y_test))"
   ]
  },
  {
   "cell_type": "code",
   "execution_count": null,
   "id": "d7e33876",
   "metadata": {},
   "outputs": [],
   "source": []
  }
 ],
 "metadata": {
  "kernelspec": {
   "display_name": "venv",
   "language": "python",
   "name": "python3"
  },
  "language_info": {
   "codemirror_mode": {
    "name": "ipython",
    "version": 3
   },
   "file_extension": ".py",
   "mimetype": "text/x-python",
   "name": "python",
   "nbconvert_exporter": "python",
   "pygments_lexer": "ipython3",
   "version": "3.13.3"
  }
 },
 "nbformat": 4,
 "nbformat_minor": 5
}
