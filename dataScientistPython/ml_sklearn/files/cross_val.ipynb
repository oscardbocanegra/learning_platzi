{
 "cells": [
  {
   "cell_type": "markdown",
   "id": "59fb5f18",
   "metadata": {},
   "source": [
    "# Cross-Validation with Decision Trees\n",
    "This notebook demonstrates how to use cross-validation techniques with a Decision Tree Regressor on the happiness dataset. We use scikit-learn's cross-validation utilities to evaluate model performance."
   ]
  },
  {
   "cell_type": "code",
   "execution_count": 3,
   "id": "5c5e4a22",
   "metadata": {},
   "outputs": [],
   "source": [
    "import pandas as pd\n",
    "import numpy as np\n",
    "\n",
    "from sklearn.tree import DecisionTreeRegressor\n",
    "from sklearn.model_selection import (cross_val_score, KFold)"
   ]
  },
  {
   "cell_type": "markdown",
   "id": "4e9c86dd",
   "metadata": {},
   "source": [
    "**Importing Required Libraries**\n",
    "We import `pandas` and `numpy` for data manipulation, `DecisionTreeRegressor` for modeling, and cross-validation utilities from scikit-learn."
   ]
  },
  {
   "cell_type": "code",
   "execution_count": 2,
   "id": "bdec109f",
   "metadata": {},
   "outputs": [],
   "source": [
    "dataset = pd.read_csv('../data/felicidad.csv')\n",
    "\n",
    "X = dataset.drop(['country', 'score'], axis=1)\n",
    "y = dataset['score']"
   ]
  },
  {
   "cell_type": "markdown",
   "id": "c50fd951",
   "metadata": {},
   "source": [
    "**Loading and Preparing the Dataset**\n",
    "We load the happiness dataset, separate the features (`X`) from the target variable (`y`), and drop unnecessary columns."
   ]
  },
  {
   "cell_type": "code",
   "execution_count": 6,
   "id": "b6f901c8",
   "metadata": {},
   "outputs": [
    {
     "data": {
      "text/plain": [
       "array([-0.84230062, -0.15444293, -0.72795257])"
      ]
     },
     "execution_count": 6,
     "metadata": {},
     "output_type": "execute_result"
    }
   ],
   "source": [
    "model = DecisionTreeRegressor()\n",
    "score = cross_val_score(model, X, y, cv = 3, scoring='neg_mean_squared_error')\n",
    "score"
   ]
  },
  {
   "cell_type": "markdown",
   "id": "73f1e25e",
   "metadata": {},
   "source": [
    "**Model Training and Cross-Validation Scoring**\n",
    "We train a Decision Tree Regressor and use `cross_val_score` to evaluate its performance using 3-fold cross-validation. The negative mean squared error is used as the scoring metric."
   ]
  },
  {
   "cell_type": "code",
   "execution_count": 7,
   "id": "ca0da8be",
   "metadata": {},
   "outputs": [
    {
     "data": {
      "text/plain": [
       "np.float64(0.5748987084795831)"
      ]
     },
     "execution_count": 7,
     "metadata": {},
     "output_type": "execute_result"
    }
   ],
   "source": [
    "np.abs(np.mean(score))"
   ]
  },
  {
   "cell_type": "markdown",
   "id": "d4b504fa",
   "metadata": {},
   "source": [
    "**Calculating the Mean Absolute Error**\n",
    "We calculate the mean absolute value of the cross-validation scores to interpret the model's average error across folds."
   ]
  },
  {
   "cell_type": "code",
   "execution_count": 8,
   "id": "df5b14f8",
   "metadata": {},
   "outputs": [
    {
     "name": "stdout",
     "output_type": "stream",
     "text": [
      "Train: [  0   1   2   3   4   5   6   7   8  10  13  14  16  17  20  21  23  25\n",
      "  28  32  33  34  35  37  38  39  40  41  43  44  46  47  48  49  50  52\n",
      "  53  54  57  58  59  61  62  63  64  67  70  71  72  73  74  77  80  83\n",
      "  87  88  89  91  92  94  97  98  99 100 101 102 103 104 105 106 107 108\n",
      " 110 111 112 113 114 115 116 120 121 123 125 127 128 129 130 132 134 135\n",
      " 136 139 140 143 144 145 146 148 149 150 151 152 154], Test: [  9  11  12  15  18  19  22  24  26  27  29  30  31  36  42  45  51  55\n",
      "  56  60  65  66  68  69  75  76  78  79  81  82  84  85  86  90  93  95\n",
      "  96 109 117 118 119 122 124 126 131 133 137 138 141 142 147 153]\n",
      "Train: [  1   2   3   6   8   9  11  12  13  14  15  17  18  19  20  21  22  24\n",
      "  26  27  29  30  31  36  37  38  42  45  48  50  51  52  54  55  56  57\n",
      "  58  59  60  63  65  66  68  69  71  72  74  75  76  78  79  81  82  83\n",
      "  84  85  86  87  88  89  90  91  92  93  95  96  99 100 102 103 106 107\n",
      " 109 112 115 116 117 118 119 120 121 122 124 126 128 129 130 131 132 133\n",
      " 135 137 138 139 140 141 142 145 147 149 152 153 154], Test: [  0   4   5   7  10  16  23  25  28  32  33  34  35  39  40  41  43  44\n",
      "  46  47  49  53  61  62  64  67  70  73  77  80  94  97  98 101 104 105\n",
      " 108 110 111 113 114 123 125 127 134 136 143 144 146 148 150 151]\n",
      "Train: [  0   4   5   7   9  10  11  12  15  16  18  19  22  23  24  25  26  27\n",
      "  28  29  30  31  32  33  34  35  36  39  40  41  42  43  44  45  46  47\n",
      "  49  51  53  55  56  60  61  62  64  65  66  67  68  69  70  73  75  76\n",
      "  77  78  79  80  81  82  84  85  86  90  93  94  95  96  97  98 101 104\n",
      " 105 108 109 110 111 113 114 117 118 119 122 123 124 125 126 127 131 133\n",
      " 134 136 137 138 141 142 143 144 146 147 148 150 151 153], Test: [  1   2   3   6   8  13  14  17  20  21  37  38  48  50  52  54  57  58\n",
      "  59  63  71  72  74  83  87  88  89  91  92  99 100 102 103 106 107 112\n",
      " 115 116 120 121 128 129 130 132 135 139 140 145 149 152 154]\n"
     ]
    }
   ],
   "source": [
    "kf = KFold(n_splits=3, shuffle=True, random_state=42)\n",
    "for train, test in kf.split(dataset):\n",
    "    print(f\"Train: {train}, Test: {test}\") "
   ]
  },
  {
   "cell_type": "markdown",
   "id": "21997830",
   "metadata": {},
   "source": [
    "**Manual KFold Splitting and Index Output**\n",
    "We use `KFold` to manually split the dataset into 3 folds, shuffling the data for randomness. The indices for training and testing sets in each fold are printed."
   ]
  },
  {
   "cell_type": "code",
   "execution_count": null,
   "id": "c31527a2",
   "metadata": {},
   "outputs": [],
   "source": []
  }
 ],
 "metadata": {
  "kernelspec": {
   "display_name": "venv",
   "language": "python",
   "name": "python3"
  },
  "language_info": {
   "codemirror_mode": {
    "name": "ipython",
    "version": 3
   },
   "file_extension": ".py",
   "mimetype": "text/x-python",
   "name": "python",
   "nbconvert_exporter": "python",
   "pygments_lexer": "ipython3",
   "version": "3.13.3"
  }
 },
 "nbformat": 4,
 "nbformat_minor": 5
}
