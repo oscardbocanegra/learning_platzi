{
 "cells": [
  {
   "cell_type": "markdown",
   "id": "8cb99a68",
   "metadata": {},
   "source": [
    "# Curso de manejo de datos faltantes: Imputacion"
   ]
  },
  {
   "cell_type": "markdown",
   "id": "82354214",
   "metadata": {},
   "source": [
    "#### Importar las librerias de trabajo para este curso"
   ]
  },
  {
   "cell_type": "code",
   "execution_count": 2,
   "id": "f2876f7d",
   "metadata": {},
   "outputs": [],
   "source": [
    "#import janitor\n",
    "import matplotlib.pyplot as plt\n",
    "import missingno\n",
    "import nhanes.load\n",
    "import numpy as np\n",
    "import pandas as pd\n",
    "import scipy.stats\n",
    "import seaborn as sns\n",
    "import session_info\n",
    "import sklearn.compose\n",
    "import sklearn.impute\n",
    "import sklearn.preprocessing\n",
    "import statsmodels.api as sm\n",
    "import statsmodels.datasets\n",
    "import statsmodels.formula.api as smf\n",
    "\n",
    "from sklearn.ensemble import RandomForestRegressor\n",
    "from sklearn.experimental import enable_iterative_imputer\n",
    "from sklearn.kernel_approximation import Nystroem\n",
    "from sklearn.linear_model import BayesianRidge, Ridge\n",
    "from sklearn.neighbors import KNeighborsRegressor\n",
    "from statsmodels.graphics.mosaicplot import mosaic"
   ]
  },
  {
   "cell_type": "markdown",
   "id": "b4580f87",
   "metadata": {},
   "source": []
  }
 ],
 "metadata": {
  "kernelspec": {
   "display_name": "venv",
   "language": "python",
   "name": "python3"
  },
  "language_info": {
   "codemirror_mode": {
    "name": "ipython",
    "version": 3
   },
   "file_extension": ".py",
   "mimetype": "text/x-python",
   "name": "python",
   "nbconvert_exporter": "python",
   "pygments_lexer": "ipython3",
   "version": "3.13.3"
  }
 },
 "nbformat": 4,
 "nbformat_minor": 5
}
