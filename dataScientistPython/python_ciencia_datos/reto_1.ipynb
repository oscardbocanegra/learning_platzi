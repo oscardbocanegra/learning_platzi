{
 "cells": [
  {
   "cell_type": "markdown",
   "metadata": {},
   "source": [
    "Ejercicio: Análisis de Ventas Mensuales con NumPy\n",
    "\n",
    "El objetivo de este ejercicio es trabajar con arrays de NumPy para analizar y manipular datos de ventas de tres productos a lo largo de un año. A través de diversas operaciones, explorarás cómo usar NumPy para obtener estadísticas, realizar manipulaciones avanzadas y aplicar técnicas de indexación para extraer información clave.\n",
    "\n",
    "Instrucciones:\n",
    "\n",
    "Paso 1: Crear Arrays con Datos de Ventas\n",
    "\n",
    "Usa la librería numpy para crear los siguientes arrays:\n",
    "meses: un array con los nombres de los meses del año.\n",
    "ventas_A, ventas_B, ventas_C: arrays que representan las ventas mensuales de tres productos diferentes.\n",
    "\n",
    "Paso 2: Estadísticas Básicas\n",
    "\n",
    "Calcula la media y la suma de ventas para los productos A, B y C usando las funciones de NumPy.\n",
    "Imprime estos valores en el formato siguiente:\n",
    "Media de ventas Producto A: <valor>\n",
    "Suma de ventas Producto A: <valor>\n",
    "Repite para los productos B y C.\n",
    "\n",
    "Paso 3: Manipulación y Análisis de Datos\n",
    "\n",
    "Total de ventas por mes: Suma las ventas de los tres productos para cada mes.\n",
    "Promedio de ventas por producto: Calcula el promedio de ventas por producto.\n",
    "Mes con mayor y menor ventas: Identifica qué mes tuvo el total de ventas más alto y cuál el más bajo usando las funciones np.argmax y np.argmin.\n",
    "\n",
    "Paso 4: Operaciones Avanzadas con NumPy\n",
    "\n",
    "Reshape y Transposición:\n",
    "\n",
    "Crea una matriz 2D con las ventas de los tres productos y transforma su forma (reshape) a un array tridimensional con dimensiones (3, 4, 3).\n",
    "Transpone la matriz de ventas para que las filas se conviertan en columnas.\n",
    "Invertir arrays: Invierte las ventas de cada producto en orden de meses.\n",
    "Aplanar la matriz: Convierte la matriz de ventas a un array unidimensional.\n",
    "\n",
    "Paso 5: Análisis de Elementos Únicos\n",
    "\n",
    "Utiliza np.unique para encontrar los elementos únicos en los datos de ventas y cuenta cuántas veces aparece cada uno.\n",
    "\n",
    "Paso 6: Indexación y Slicing\n",
    "\n",
    "Ventas del primer trimestre: Extrae las ventas de los tres primeros meses del año.\n",
    "Indexación booleana: Selecciona los meses donde el total de ventas de los tres productos supere los 800.\n",
    "Selección avanzada: Usa una lista de índices para seleccionar las ventas de los meses pares (o selecciona los meses a tu elección) y muestra esas ventas en una nueva matriz"
   ]
  },
  {
   "cell_type": "markdown",
   "metadata": {},
   "source": []
  },
  {
   "cell_type": "code",
   "execution_count": 1,
   "metadata": {},
   "outputs": [],
   "source": [
    "import numpy as np\n",
    "\n",
    "# Paso 1: Crear arrays con datos de ventas mensuales\n",
    "meses = np.array(['Enero', 'Febrero', 'Marzo', 'Abril', 'Mayo', 'Junio',\n",
    "                  'Julio', 'Agosto', 'Septiembre', 'Octubre', 'Noviembre', 'Diciembre'])\n",
    "ventas_A = np.array([150, 200, 250, 300, 220, 210, 180, 190, 230, 240, 280, 300])\n",
    "ventas_B = np.array([180, 210, 230, 250, 270, 260, 240, 250, 270, 290, 310, 330])\n",
    "ventas_C = np.array([200, 220, 240, 260, 280, 300, 320, 340, 360, 380, 400, 420])"
   ]
  },
  {
   "cell_type": "code",
   "execution_count": 7,
   "metadata": {},
   "outputs": [
    {
     "name": "stdout",
     "output_type": "stream",
     "text": [
      "Media de ventas Producto A: 229.16666666666666\n",
      "Media de ventas Producto B: 257.5\n",
      "Media de ventas Producto C: 257.5\n",
      "\n",
      "Suma de ventas Producto A: 2750\n",
      "Suma de ventas Producto B: 3090\n",
      "Suma de ventas Producto C: 3720\n"
     ]
    }
   ],
   "source": [
    "media_A = np.mean(ventas_A)\n",
    "media_B = np.mean(ventas_B)\n",
    "media_C = np.mean(ventas_B)\n",
    "\n",
    "print(f\"Media de ventas Producto A: {media_A}\")\n",
    "print(f\"Media de ventas Producto B: {media_B}\")\n",
    "print(f\"Media de ventas Producto C: {media_C}\")\n",
    "print(\"\")\n",
    "\n",
    "sum_A = np.sum(ventas_A)\n",
    "sum_B = np.sum(ventas_B)\n",
    "sum_C = np.sum(ventas_C)\n",
    "\n",
    "print(f\"Suma de ventas Producto A: {sum_A}\")\n",
    "print(f\"Suma de ventas Producto B: {sum_B}\")\n",
    "print(f\"Suma de ventas Producto C: {sum_C}\")"
   ]
  },
  {
   "cell_type": "code",
   "execution_count": 16,
   "metadata": {},
   "outputs": [
    {
     "name": "stdout",
     "output_type": "stream",
     "text": [
      "El total de las ventas fue de: [ 530  630  720  810  770  770  740  780  860  910  990 1050]\n",
      "\n",
      "[229.16666667 257.5        257.5       ]\n",
      "Mes con mayor ventas: Diciembre\n",
      "Mes con menor ventas: Enero\n"
     ]
    }
   ],
   "source": [
    "# Paso 3: Manipulación y Análisis de Datos\n",
    "\n",
    "# Total de ventas por mes: Suma las ventas de los tres productos para cada mes.\n",
    "# Promedio de ventas por producto: Calcula el promedio de ventas por producto.\n",
    "# Mes con mayor y menor ventas: Identifica qué mes tuvo el total de ventas más alto y cuál el más bajo usando las funciones np.argmax y np.argmin.\n",
    "\n",
    "total_ventas = ventas_A + ventas_B + ventas_C\n",
    "print(f\"El total de las ventas fue de: {total_ventas}\")\n",
    "print(\"\")\n",
    "\n",
    "promedio = np.array([media_A, media_B, media_C])\n",
    "print(promedio)\n",
    "\n",
    "mes_mayor_ventas = meses[np.argmax(total_ventas)]\n",
    "mes_menor_ventas = meses[np.argmin(total_ventas)]\n",
    "print(f\"Mes con mayor ventas: {mes_mayor_ventas}\")\n",
    "print(f\"Mes con menor ventas: {mes_menor_ventas}\")\n"
   ]
  },
  {
   "cell_type": "code",
   "execution_count": null,
   "metadata": {},
   "outputs": [],
   "source": []
  }
 ],
 "metadata": {
  "kernelspec": {
   "display_name": "Python 3",
   "language": "python",
   "name": "python3"
  },
  "language_info": {
   "codemirror_mode": {
    "name": "ipython",
    "version": 3
   },
   "file_extension": ".py",
   "mimetype": "text/x-python",
   "name": "python",
   "nbconvert_exporter": "python",
   "pygments_lexer": "ipython3",
   "version": "3.11.9"
  }
 },
 "nbformat": 4,
 "nbformat_minor": 2
}
