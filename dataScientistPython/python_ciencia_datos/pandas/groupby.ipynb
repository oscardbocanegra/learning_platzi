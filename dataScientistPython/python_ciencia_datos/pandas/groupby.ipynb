{
 "cells": [
  {
   "cell_type": "markdown",
   "metadata": {},
   "source": [
    "Groupby"
   ]
  },
  {
   "cell_type": "code",
   "execution_count": 1,
   "metadata": {},
   "outputs": [],
   "source": [
    "import pandas as pd\n",
    "\n",
    "path = './retail.csv'\n",
    "df = pd.read_csv(path, encoding='ISO-8859-1')"
   ]
  },
  {
   "cell_type": "code",
   "execution_count": 2,
   "metadata": {},
   "outputs": [
    {
     "name": "stdout",
     "output_type": "stream",
     "text": [
      "Country\n",
      "United Kingdom          495478\n",
      "Germany                   9495\n",
      "France                    8557\n",
      "EIRE                      8196\n",
      "Spain                     2533\n",
      "Netherlands               2371\n",
      "Belgium                   2069\n",
      "Switzerland               2002\n",
      "Portugal                  1519\n",
      "Australia                 1259\n",
      "Norway                    1086\n",
      "Italy                      803\n",
      "Channel Islands            758\n",
      "Finland                    695\n",
      "Cyprus                     622\n",
      "Sweden                     462\n",
      "Unspecified                446\n",
      "Austria                    401\n",
      "Denmark                    389\n",
      "Japan                      358\n",
      "Poland                     341\n",
      "Israel                     297\n",
      "USA                        291\n",
      "Hong Kong                  288\n",
      "Singapore                  229\n",
      "Iceland                    182\n",
      "Canada                     151\n",
      "Greece                     146\n",
      "Malta                      127\n",
      "United Arab Emirates        68\n",
      "European Community          61\n",
      "RSA                         58\n",
      "Lebanon                     45\n",
      "Lithuania                   35\n",
      "Brazil                      32\n",
      "Czech Republic              30\n",
      "Bahrain                     19\n",
      "Saudi Arabia                10\n",
      "Name: count, dtype: int64\n"
     ]
    }
   ],
   "source": [
    "country_count = df['Country'].value_counts()\n",
    "print(country_count)"
   ]
  },
  {
   "cell_type": "code",
   "execution_count": 3,
   "metadata": {},
   "outputs": [
    {
     "name": "stdout",
     "output_type": "stream",
     "text": [
      "Country\n",
      "Australia                 83653\n",
      "Austria                    4827\n",
      "Bahrain                     260\n",
      "Belgium                   23152\n",
      "Brazil                      356\n",
      "Canada                     2763\n",
      "Channel Islands            9479\n",
      "Cyprus                     6317\n",
      "Czech Republic              592\n",
      "Denmark                    8188\n",
      "EIRE                     142637\n",
      "European Community          497\n",
      "Finland                   10666\n",
      "France                   110480\n",
      "Germany                  117448\n",
      "Greece                     1556\n",
      "Hong Kong                  4769\n",
      "Iceland                    2458\n",
      "Israel                     4353\n",
      "Italy                      7999\n",
      "Japan                     25218\n",
      "Lebanon                     386\n",
      "Lithuania                   652\n",
      "Malta                       944\n",
      "Netherlands              200128\n",
      "Norway                    19247\n",
      "Poland                     3653\n",
      "Portugal                  16180\n",
      "RSA                         352\n",
      "Saudi Arabia                 75\n",
      "Singapore                  5234\n",
      "Spain                     26824\n",
      "Sweden                    35637\n",
      "Switzerland               30325\n",
      "USA                        1034\n",
      "United Arab Emirates        982\n",
      "United Kingdom          4263829\n",
      "Unspecified                3300\n",
      "Name: Quantity, dtype: int64\n"
     ]
    }
   ],
   "source": [
    "country_group = df.groupby('Country')['Quantity'].sum()\n",
    "print(country_group)"
   ]
  },
  {
   "cell_type": "code",
   "execution_count": 4,
   "metadata": {},
   "outputs": [
    {
     "name": "stdout",
     "output_type": "stream",
     "text": [
      "                            mean         std       min       max\n",
      "Country                                                         \n",
      "Australia               3.220612   12.455584      0.00    350.00\n",
      "Austria                 4.243192    7.355153      0.12     40.00\n",
      "Bahrain                 4.556316    3.473506      1.25     12.75\n",
      "Belgium                 3.644335    4.244522      0.12     39.95\n",
      "Brazil                  4.456250    2.831727      0.85     10.95\n",
      "Canada                  6.030331   44.713675      0.10    550.94\n",
      "Channel Islands         4.932124   15.547404      0.19    293.00\n",
      "Cyprus                  6.302363   22.419586      0.12    320.69\n",
      "Czech Republic          2.938333    7.098840      0.29     40.00\n",
      "Denmark                 3.256941    3.960285      0.21     18.00\n",
      "EIRE                    5.911077   54.035173      0.00   1917.00\n",
      "European Community      4.820492    4.375808      0.55     18.00\n",
      "Finland                 5.448705   13.596057      0.12    275.60\n",
      "France                  5.028864   79.909126      0.00   4161.06\n",
      "Germany                 3.966930   16.549026      0.00    599.50\n",
      "Greece                  4.885548    8.470147      0.14     50.00\n",
      "Hong Kong              42.505208  307.646598      0.21   2653.95\n",
      "Iceland                 2.644011    2.255381      0.25     12.75\n",
      "Israel                  3.633131    8.603055      0.06    125.00\n",
      "Italy                   4.831121   11.812512      0.12    300.00\n",
      "Japan                   2.276145    3.091514      0.21     45.57\n",
      "Lebanon                 5.387556    4.068741      0.55     14.95\n",
      "Lithuania               2.841143    1.366849      1.25      5.95\n",
      "Malta                   5.244173    9.380447      0.19     65.00\n",
      "Netherlands             2.738317    6.311412      0.00    206.40\n",
      "Norway                  6.012026   30.558815      0.00    700.00\n",
      "Poland                  4.170880    5.908683      0.19     40.00\n",
      "Portugal                8.582976   71.379996      0.12   1241.98\n",
      "RSA                     4.277586    3.668432      0.00     14.95\n",
      "Saudi Arabia            2.411000    1.385131      0.42      5.49\n",
      "Singapore             109.645808  515.275500      0.19   3949.32\n",
      "Spain                   4.987544   41.003162      0.00   1715.85\n",
      "Sweden                  3.910887    8.285089      0.19     40.00\n",
      "Switzerland             3.403442    5.389581      0.00     40.00\n",
      "USA                     2.216426    2.261647      0.42     16.95\n",
      "United Arab Emirates    3.380735    5.342353      0.29     37.50\n",
      "United Kingdom          4.532422   99.315438 -11062.06  38970.00\n",
      "Unspecified             2.699574    2.866079      0.19     16.95\n"
     ]
    }
   ],
   "source": [
    "country_stats = df.groupby('Country')['UnitPrice'].agg(['mean', 'std', 'min', 'max'])\n",
    "print(country_stats)"
   ]
  },
  {
   "cell_type": "code",
   "execution_count": 5,
   "metadata": {},
   "outputs": [
    {
     "name": "stdout",
     "output_type": "stream",
     "text": [
      "Country      StockCode\n",
      "Australia    15036        600\n",
      "             15056BL        3\n",
      "             16161P       400\n",
      "             16169E        25\n",
      "             20665          6\n",
      "                         ... \n",
      "Unspecified  85180A         2\n",
      "             85180B         1\n",
      "             85212         12\n",
      "             85213         12\n",
      "             85227         10\n",
      "Name: Quantity, Length: 19839, dtype: int64\n"
     ]
    }
   ],
   "source": [
    "country_stock_group = df.groupby(['Country', 'StockCode'])['Quantity'].sum()\n",
    "print(country_stock_group)"
   ]
  },
  {
   "cell_type": "code",
   "execution_count": 6,
   "metadata": {},
   "outputs": [
    {
     "name": "stdout",
     "output_type": "stream",
     "text": [
      "Country\n",
      "Australia                137077.270\n",
      "Austria                   10154.320\n",
      "Bahrain                     548.400\n",
      "Belgium                   40910.960\n",
      "Brazil                     1143.600\n",
      "Canada                     3666.380\n",
      "Channel Islands           20086.290\n",
      "Cyprus                    12946.290\n",
      "Czech Republic              707.720\n",
      "Denmark                   18768.140\n",
      "EIRE                     263276.820\n",
      "European Community         1291.750\n",
      "Finland                   22326.740\n",
      "France                   197403.900\n",
      "Germany                  221698.210\n",
      "Greece                     4710.520\n",
      "Hong Kong                 10117.040\n",
      "Iceland                    4310.000\n",
      "Israel                     7907.820\n",
      "Italy                     16890.510\n",
      "Japan                     35340.620\n",
      "Lebanon                    1693.880\n",
      "Lithuania                  1661.060\n",
      "Malta                      2505.470\n",
      "Netherlands              284661.540\n",
      "Norway                    35163.460\n",
      "Poland                     7213.140\n",
      "Portugal                  29367.020\n",
      "RSA                        1002.310\n",
      "Saudi Arabia                131.170\n",
      "Singapore                  9120.390\n",
      "Spain                     54774.580\n",
      "Sweden                    36595.910\n",
      "Switzerland               56385.350\n",
      "USA                        1730.920\n",
      "United Arab Emirates       1902.280\n",
      "United Kingdom          8187806.364\n",
      "Unspecified                4749.790\n",
      "dtype: float64\n"
     ]
    },
    {
     "name": "stderr",
     "output_type": "stream",
     "text": [
      "C:\\Users\\david\\AppData\\Local\\Temp\\ipykernel_16472\\2100203054.py:4: DeprecationWarning: DataFrameGroupBy.apply operated on the grouping columns. This behavior is deprecated, and in a future version of pandas the grouping columns will be excluded from the operation. Either pass `include_groups=False` to exclude the groupings or explicitly select the grouping columns after groupby to silence this warning.\n",
      "  renueve_per_country = df.groupby('Country').apply(total_revenue)\n"
     ]
    }
   ],
   "source": [
    "def total_revenue(group):\n",
    "    return (group['Quantity'] * group['UnitPrice']).sum()\n",
    "\n",
    "renueve_per_country = df.groupby('Country').apply(total_revenue)\n",
    "print(renueve_per_country)"
   ]
  }
 ],
 "metadata": {
  "kernelspec": {
   "display_name": "Python 3",
   "language": "python",
   "name": "python3"
  },
  "language_info": {
   "codemirror_mode": {
    "name": "ipython",
    "version": 3
   },
   "file_extension": ".py",
   "mimetype": "text/x-python",
   "name": "python",
   "nbconvert_exporter": "python",
   "pygments_lexer": "ipython3",
   "version": "3.11.9"
  }
 },
 "nbformat": 4,
 "nbformat_minor": 2
}
