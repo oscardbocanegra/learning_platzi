{
 "cells": [
  {
   "cell_type": "markdown",
   "metadata": {},
   "source": [
    "Pandas: Dataset"
   ]
  },
  {
   "cell_type": "code",
   "execution_count": 2,
   "metadata": {},
   "outputs": [
    {
     "name": "stdout",
     "output_type": "stream",
     "text": [
      "<class 'pandas.core.frame.DataFrame'>\n",
      "  InvoiceNo StockCode                          Description  Quantity  \\\n",
      "0    536365    85123A   WHITE HANGING HEART T-LIGHT HOLDER         6   \n",
      "1    536365     71053                  WHITE METAL LANTERN         6   \n",
      "2    536365    84406B       CREAM CUPID HEARTS COAT HANGER         8   \n",
      "3    536365    84029G  KNITTED UNION FLAG HOT WATER BOTTLE         6   \n",
      "4    536365    84029E       RED WOOLLY HOTTIE WHITE HEART.         6   \n",
      "\n",
      "    InvoiceDate  UnitPrice  CustomerID         Country  \n",
      "0  12/1/10 8:26       2.55     17850.0  United Kingdom  \n",
      "1  12/1/10 8:26       3.39     17850.0  United Kingdom  \n",
      "2  12/1/10 8:26       2.75     17850.0  United Kingdom  \n",
      "3  12/1/10 8:26       3.39     17850.0  United Kingdom  \n",
      "4  12/1/10 8:26       3.39     17850.0  United Kingdom  \n"
     ]
    }
   ],
   "source": [
    "import pandas as pd\n",
    "import numpy as np\n",
    "\n",
    "path = './retail.csv'\n",
    "retail_data = pd.read_csv(path, encoding='ISO-8859-1')\n",
    "print(type(retail_data))\n",
    "print(retail_data.head())"
   ]
  },
  {
   "cell_type": "markdown",
   "metadata": {},
   "source": [
    "Conocer el nombre de las columnas"
   ]
  },
  {
   "cell_type": "code",
   "execution_count": 7,
   "metadata": {},
   "outputs": [
    {
     "name": "stdout",
     "output_type": "stream",
     "text": [
      "Index(['InvoiceNo', 'StockCode', 'Description', 'Quantity', 'InvoiceDate',\n",
      "       'UnitPrice', 'CustomerID', 'Country'],\n",
      "      dtype='object')\n"
     ]
    }
   ],
   "source": [
    "column_names = retail_data.columns\n",
    "print(column_names)"
   ]
  },
  {
   "cell_type": "code",
   "execution_count": 8,
   "metadata": {},
   "outputs": [
    {
     "name": "stdout",
     "output_type": "stream",
     "text": [
      "Numero de filas:  541909\n",
      "Numero de columnas:  8\n"
     ]
    }
   ],
   "source": [
    "num_rows, num_cols = retail_data.shape\n",
    "print('Numero de filas: ', num_rows)\n",
    "print('Numero de columnas: ', num_cols)"
   ]
  },
  {
   "cell_type": "markdown",
   "metadata": {},
   "source": [
    "Imprimir una fila en especifico "
   ]
  },
  {
   "cell_type": "code",
   "execution_count": null,
   "metadata": {},
   "outputs": [
    {
     "name": "stdout",
     "output_type": "stream",
     "text": [
      "0    6\n",
      "1    6\n",
      "2    8\n",
      "3    6\n",
      "4    6\n",
      "Name: Quantity, dtype: int64\n"
     ]
    }
   ],
   "source": [
    "daily_sales = retail_data['Quantity']\n",
    "print(daily_sales)"
   ]
  }
 ],
 "metadata": {
  "kernelspec": {
   "display_name": "Python 3",
   "language": "python",
   "name": "python3"
  },
  "language_info": {
   "codemirror_mode": {
    "name": "ipython",
    "version": 3
   },
   "file_extension": ".py",
   "mimetype": "text/x-python",
   "name": "python",
   "nbconvert_exporter": "python",
   "pygments_lexer": "ipython3",
   "version": "3.11.9"
  }
 },
 "nbformat": 4,
 "nbformat_minor": 2
}
