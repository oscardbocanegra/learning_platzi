{
 "cells": [
  {
   "cell_type": "markdown",
   "id": "a545b750",
   "metadata": {},
   "source": [
    "## Importar librerias"
   ]
  },
  {
   "cell_type": "code",
   "execution_count": 1,
   "id": "a78661e8",
   "metadata": {},
   "outputs": [
    {
     "name": "stdout",
     "output_type": "stream",
     "text": [
      "Collecting yellowbrick\n",
      "  Downloading yellowbrick-1.5-py3-none-any.whl.metadata (7.7 kB)\n",
      "Requirement already satisfied: matplotlib!=3.0.0,>=2.0.2 in c:\\users\\david\\anaconda3\\envs\\ia_ptojects\\lib\\site-packages (from yellowbrick) (3.10.1)\n",
      "Requirement already satisfied: scipy>=1.0.0 in c:\\users\\david\\anaconda3\\envs\\ia_ptojects\\lib\\site-packages (from yellowbrick) (1.15.2)\n",
      "Requirement already satisfied: scikit-learn>=1.0.0 in c:\\users\\david\\anaconda3\\envs\\ia_ptojects\\lib\\site-packages (from yellowbrick) (1.6.1)\n",
      "Requirement already satisfied: numpy>=1.16.0 in c:\\users\\david\\anaconda3\\envs\\ia_ptojects\\lib\\site-packages (from yellowbrick) (2.2.3)\n",
      "Requirement already satisfied: cycler>=0.10.0 in c:\\users\\david\\anaconda3\\envs\\ia_ptojects\\lib\\site-packages (from yellowbrick) (0.12.1)\n",
      "Requirement already satisfied: contourpy>=1.0.1 in c:\\users\\david\\anaconda3\\envs\\ia_ptojects\\lib\\site-packages (from matplotlib!=3.0.0,>=2.0.2->yellowbrick) (1.3.1)\n",
      "Requirement already satisfied: fonttools>=4.22.0 in c:\\users\\david\\anaconda3\\envs\\ia_ptojects\\lib\\site-packages (from matplotlib!=3.0.0,>=2.0.2->yellowbrick) (4.56.0)\n",
      "Requirement already satisfied: kiwisolver>=1.3.1 in c:\\users\\david\\anaconda3\\envs\\ia_ptojects\\lib\\site-packages (from matplotlib!=3.0.0,>=2.0.2->yellowbrick) (1.4.8)\n",
      "Requirement already satisfied: packaging>=20.0 in c:\\users\\david\\anaconda3\\envs\\ia_ptojects\\lib\\site-packages (from matplotlib!=3.0.0,>=2.0.2->yellowbrick) (24.2)\n",
      "Requirement already satisfied: pillow>=8 in c:\\users\\david\\anaconda3\\envs\\ia_ptojects\\lib\\site-packages (from matplotlib!=3.0.0,>=2.0.2->yellowbrick) (11.1.0)\n",
      "Requirement already satisfied: pyparsing>=2.3.1 in c:\\users\\david\\anaconda3\\envs\\ia_ptojects\\lib\\site-packages (from matplotlib!=3.0.0,>=2.0.2->yellowbrick) (3.2.1)\n",
      "Requirement already satisfied: python-dateutil>=2.7 in c:\\users\\david\\anaconda3\\envs\\ia_ptojects\\lib\\site-packages (from matplotlib!=3.0.0,>=2.0.2->yellowbrick) (2.9.0.post0)\n",
      "Requirement already satisfied: six>=1.5 in c:\\users\\david\\anaconda3\\envs\\ia_ptojects\\lib\\site-packages (from python-dateutil>=2.7->matplotlib!=3.0.0,>=2.0.2->yellowbrick) (1.17.0)\n",
      "Requirement already satisfied: joblib>=1.2.0 in c:\\users\\david\\anaconda3\\envs\\ia_ptojects\\lib\\site-packages (from scikit-learn>=1.0.0->yellowbrick) (1.4.2)\n",
      "Requirement already satisfied: threadpoolctl>=3.1.0 in c:\\users\\david\\anaconda3\\envs\\ia_ptojects\\lib\\site-packages (from scikit-learn>=1.0.0->yellowbrick) (3.6.0)\n",
      "Downloading yellowbrick-1.5-py3-none-any.whl (282 kB)\n",
      "Installing collected packages: yellowbrick\n",
      "Successfully installed yellowbrick-1.5\n",
      "Note: you may need to restart the kernel to use updated packages.\n"
     ]
    }
   ],
   "source": [
    "%pip install yellowbrick"
   ]
  },
  {
   "cell_type": "code",
   "execution_count": 2,
   "id": "05650f74",
   "metadata": {},
   "outputs": [],
   "source": [
    "import numpy as np\n",
    "import pandas as pd\n",
    "import matplotlib.pyplot as plt\n",
    "import seaborn as sns\n",
    "from sklearn.datasets import make_blobs\n",
    "from sklearn.cluster import KMeans\n",
    "from sklearn.metrics import silhouette_score\n",
    "from yellowbrick.cluster import SilhouetteVisualizer"
   ]
  },
  {
   "cell_type": "markdown",
   "id": "03f5214a",
   "metadata": {},
   "source": [
    "## Preparando datos de prueba"
   ]
  },
  {
   "cell_type": "code",
   "execution_count": 3,
   "id": "5dd581be",
   "metadata": {},
   "outputs": [],
   "source": [
    "X, y, c = make_blobs(n_samples=500, cluster_std=0.8, centers=4, n_features=2, return_centers=True)"
   ]
  },
  {
   "cell_type": "code",
   "execution_count": 4,
   "id": "7452277b",
   "metadata": {},
   "outputs": [],
   "source": [
    "df_blobs = pd.DataFrame(\n",
    "    {\n",
    "        'x1': X[:, 0],\n",
    "        'x2': X[:, 1],\n",
    "        'y': y\n",
    "    }\n",
    ")"
   ]
  },
  {
   "cell_type": "code",
   "execution_count": 5,
   "id": "e4b15b04",
   "metadata": {},
   "outputs": [
    {
     "data": {
      "text/html": [
       "<div>\n",
       "<style scoped>\n",
       "    .dataframe tbody tr th:only-of-type {\n",
       "        vertical-align: middle;\n",
       "    }\n",
       "\n",
       "    .dataframe tbody tr th {\n",
       "        vertical-align: top;\n",
       "    }\n",
       "\n",
       "    .dataframe thead th {\n",
       "        text-align: right;\n",
       "    }\n",
       "</style>\n",
       "<table border=\"1\" class=\"dataframe\">\n",
       "  <thead>\n",
       "    <tr style=\"text-align: right;\">\n",
       "      <th></th>\n",
       "      <th>x1</th>\n",
       "      <th>x2</th>\n",
       "      <th>y</th>\n",
       "    </tr>\n",
       "  </thead>\n",
       "  <tbody>\n",
       "    <tr>\n",
       "      <th>0</th>\n",
       "      <td>-1.083302</td>\n",
       "      <td>-3.581461</td>\n",
       "      <td>2</td>\n",
       "    </tr>\n",
       "    <tr>\n",
       "      <th>1</th>\n",
       "      <td>1.836914</td>\n",
       "      <td>-1.738885</td>\n",
       "      <td>1</td>\n",
       "    </tr>\n",
       "    <tr>\n",
       "      <th>2</th>\n",
       "      <td>2.794352</td>\n",
       "      <td>-1.760344</td>\n",
       "      <td>1</td>\n",
       "    </tr>\n",
       "    <tr>\n",
       "      <th>3</th>\n",
       "      <td>-0.771747</td>\n",
       "      <td>-3.545243</td>\n",
       "      <td>2</td>\n",
       "    </tr>\n",
       "    <tr>\n",
       "      <th>4</th>\n",
       "      <td>2.664047</td>\n",
       "      <td>-1.663237</td>\n",
       "      <td>1</td>\n",
       "    </tr>\n",
       "    <tr>\n",
       "      <th>...</th>\n",
       "      <td>...</td>\n",
       "      <td>...</td>\n",
       "      <td>...</td>\n",
       "    </tr>\n",
       "    <tr>\n",
       "      <th>495</th>\n",
       "      <td>1.818344</td>\n",
       "      <td>-0.886555</td>\n",
       "      <td>3</td>\n",
       "    </tr>\n",
       "    <tr>\n",
       "      <th>496</th>\n",
       "      <td>-1.903013</td>\n",
       "      <td>-4.294067</td>\n",
       "      <td>2</td>\n",
       "    </tr>\n",
       "    <tr>\n",
       "      <th>497</th>\n",
       "      <td>1.913016</td>\n",
       "      <td>-0.627444</td>\n",
       "      <td>3</td>\n",
       "    </tr>\n",
       "    <tr>\n",
       "      <th>498</th>\n",
       "      <td>-1.681507</td>\n",
       "      <td>-4.242412</td>\n",
       "      <td>2</td>\n",
       "    </tr>\n",
       "    <tr>\n",
       "      <th>499</th>\n",
       "      <td>-0.924803</td>\n",
       "      <td>-3.509756</td>\n",
       "      <td>2</td>\n",
       "    </tr>\n",
       "  </tbody>\n",
       "</table>\n",
       "<p>500 rows × 3 columns</p>\n",
       "</div>"
      ],
      "text/plain": [
       "           x1        x2  y\n",
       "0   -1.083302 -3.581461  2\n",
       "1    1.836914 -1.738885  1\n",
       "2    2.794352 -1.760344  1\n",
       "3   -0.771747 -3.545243  2\n",
       "4    2.664047 -1.663237  1\n",
       "..        ...       ... ..\n",
       "495  1.818344 -0.886555  3\n",
       "496 -1.903013 -4.294067  2\n",
       "497  1.913016 -0.627444  3\n",
       "498 -1.681507 -4.242412  2\n",
       "499 -0.924803 -3.509756  2\n",
       "\n",
       "[500 rows x 3 columns]"
      ]
     },
     "execution_count": 5,
     "metadata": {},
     "output_type": "execute_result"
    }
   ],
   "source": [
    "df_blobs"
   ]
  },
  {
   "cell_type": "code",
   "execution_count": null,
   "id": "43cdbf00",
   "metadata": {},
   "outputs": [],
   "source": []
  }
 ],
 "metadata": {
  "kernelspec": {
   "display_name": "ia_ptojects",
   "language": "python",
   "name": "python3"
  },
  "language_info": {
   "codemirror_mode": {
    "name": "ipython",
    "version": 3
   },
   "file_extension": ".py",
   "mimetype": "text/x-python",
   "name": "python",
   "nbconvert_exporter": "python",
   "pygments_lexer": "ipython3",
   "version": "3.12.9"
  }
 },
 "nbformat": 4,
 "nbformat_minor": 5
}
