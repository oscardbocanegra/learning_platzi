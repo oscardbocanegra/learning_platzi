{
 "cells": [
  {
   "cell_type": "markdown",
   "id": "1ec910c8",
   "metadata": {},
   "source": [
    "## Zen of Python"
   ]
  },
  {
   "cell_type": "code",
   "execution_count": 1,
   "id": "cadae609",
   "metadata": {},
   "outputs": [
    {
     "name": "stdout",
     "output_type": "stream",
     "text": [
      "The Zen of Python, by Tim Peters\n",
      "\n",
      "Beautiful is better than ugly.\n",
      "Explicit is better than implicit.\n",
      "Simple is better than complex.\n",
      "Complex is better than complicated.\n",
      "Flat is better than nested.\n",
      "Sparse is better than dense.\n",
      "Readability counts.\n",
      "Special cases aren't special enough to break the rules.\n",
      "Although practicality beats purity.\n",
      "Errors should never pass silently.\n",
      "Unless explicitly silenced.\n",
      "In the face of ambiguity, refuse the temptation to guess.\n",
      "There should be one-- and preferably only one --obvious way to do it.\n",
      "Although that way may not be obvious at first unless you're Dutch.\n",
      "Now is better than never.\n",
      "Although never is often better than *right* now.\n",
      "If the implementation is hard to explain, it's a bad idea.\n",
      "If the implementation is easy to explain, it may be a good idea.\n",
      "Namespaces are one honking great idea -- let's do more of those!\n"
     ]
    }
   ],
   "source": [
    "import this"
   ]
  },
  {
   "cell_type": "markdown",
   "id": "f2ec6371",
   "metadata": {},
   "source": [
    "## Conjuntos en Python"
   ]
  },
  {
   "cell_type": "code",
   "execution_count": 17,
   "id": "6188707a",
   "metadata": {},
   "outputs": [
    {
     "name": "stdout",
     "output_type": "stream",
     "text": [
      "{'Mex', 'Col', 'Bol'}\n",
      "<class 'set'>\n"
     ]
    }
   ],
   "source": [
    "set_countries = {\"Col\", \"Mex\", \"Bol\"}\n",
    "print(set_countries)\n",
    "print(type(set_countries))"
   ]
  },
  {
   "cell_type": "code",
   "execution_count": 18,
   "id": "48816723",
   "metadata": {},
   "outputs": [
    {
     "name": "stdout",
     "output_type": "stream",
     "text": [
      "(1, 2, 2, 3, 454, 666, 333)\n"
     ]
    }
   ],
   "source": [
    "set_numbers = (1, 2, 2, 3, 454, 666, 333)\n",
    "print(set_numbers)"
   ]
  },
  {
   "cell_type": "code",
   "execution_count": 19,
   "id": "a90dda89",
   "metadata": {},
   "outputs": [
    {
     "name": "stdout",
     "output_type": "stream",
     "text": [
      "{False, 1, 'hola', 12.12}\n",
      "<class 'set'>\n"
     ]
    }
   ],
   "source": [
    "set_types = {1, 'hola', False, 12.12}\n",
    "print(set_types)\n",
    "print(type(set_types))"
   ]
  },
  {
   "cell_type": "code",
   "execution_count": 20,
   "id": "4133a4a4",
   "metadata": {},
   "outputs": [
    {
     "name": "stdout",
     "output_type": "stream",
     "text": [
      "{'l', 'a', 'o', 'h'}\n"
     ]
    }
   ],
   "source": [
    "set_from_string = set('hola')\n",
    "print(set_from_string)"
   ]
  },
  {
   "cell_type": "code",
   "execution_count": 21,
   "id": "658da35f",
   "metadata": {},
   "outputs": [
    {
     "name": "stdout",
     "output_type": "stream",
     "text": [
      "{'l', 'a', 'o', 'h'}\n"
     ]
    }
   ],
   "source": [
    "set_from_string2 = set('hooola')\n",
    "print(set_from_string2)"
   ]
  },
  {
   "cell_type": "code",
   "execution_count": 22,
   "id": "596337e8",
   "metadata": {},
   "outputs": [
    {
     "name": "stdout",
     "output_type": "stream",
     "text": [
      "{'abc', 123, 'cbd', 'ghy'}\n"
     ]
    }
   ],
   "source": [
    "set_from_tuple = set(('abc', 'cbd', 123, 'ghy'))\n",
    "print(set_from_tuple)"
   ]
  },
  {
   "cell_type": "markdown",
   "id": "40d4dee5",
   "metadata": {},
   "source": [
    "## Manipulación de Conjuntos"
   ]
  },
  {
   "cell_type": "code",
   "execution_count": 23,
   "id": "6facec41",
   "metadata": {},
   "outputs": [],
   "source": [
    "set_countries = {\"Col\", \"Mex\", \"Arg\"}\n",
    "size = len(set_countries)"
   ]
  },
  {
   "cell_type": "code",
   "execution_count": 24,
   "id": "2385f635",
   "metadata": {},
   "outputs": [
    {
     "name": "stdout",
     "output_type": "stream",
     "text": [
      "3\n"
     ]
    }
   ],
   "source": [
    "print(size)"
   ]
  },
  {
   "cell_type": "code",
   "execution_count": 26,
   "id": "a532c4be",
   "metadata": {},
   "outputs": [
    {
     "name": "stdout",
     "output_type": "stream",
     "text": [
      "{'Pe', 'Mex', 'Col', 'Arg'}\n",
      "{'Mex', 'Ecua', 'Bol', 'Pe', 'Col', 'Arg'}\n"
     ]
    }
   ],
   "source": [
    "# add\n",
    "set_countries.add(\"Pe\")\n",
    "print(set_countries)\n",
    "\n",
    "# update\n",
    "set_countries.update({\"Ecua\", \"Bol\", \"Pe\"})\n",
    "print(set_countries)"
   ]
  },
  {
   "cell_type": "code",
   "execution_count": 27,
   "id": "e9c8078f",
   "metadata": {},
   "outputs": [
    {
     "name": "stdout",
     "output_type": "stream",
     "text": [
      "{'Mex', 'Ecua', 'Bol', 'Col', 'Arg'}\n"
     ]
    }
   ],
   "source": [
    "# Remove\n",
    "\n",
    "set_countries.remove(\"Pe\")\n",
    "print(set_countries)"
   ]
  },
  {
   "cell_type": "code",
   "execution_count": 28,
   "id": "5e1e8de4",
   "metadata": {},
   "outputs": [
    {
     "name": "stdout",
     "output_type": "stream",
     "text": [
      "set()\n"
     ]
    }
   ],
   "source": [
    "set_countries.clear()\n",
    "print(set_countries)"
   ]
  },
  {
   "cell_type": "markdown",
   "id": "176bed7a",
   "metadata": {},
   "source": [
    "## Operaciones Fundamentales con Conjuntos en Python"
   ]
  },
  {
   "cell_type": "code",
   "execution_count": 30,
   "id": "8d2c885b",
   "metadata": {},
   "outputs": [
    {
     "name": "stdout",
     "output_type": "stream",
     "text": [
      "{'Mex', 'Bra', 'Col', 'Arg'}\n",
      "{'Mex', 'Bra', 'Col', 'Arg'}\n"
     ]
    }
   ],
   "source": [
    "# Union\n",
    "set_a = {\"Col\", \"Mex\", \"Arg\"}\n",
    "set_b = {\"Bra\", \"Arg\"}\n",
    "\n",
    "set_c = set_a.union(set_b)\n",
    "print(set_c)\n",
    "print(set_a | set_b)"
   ]
  },
  {
   "cell_type": "code",
   "execution_count": 32,
   "id": "102f6aff",
   "metadata": {},
   "outputs": [
    {
     "name": "stdout",
     "output_type": "stream",
     "text": [
      "{'Arg'}\n",
      "{'Arg'}\n"
     ]
    }
   ],
   "source": [
    "# Interseccion\n",
    "set_c = set_a.intersection(set_b)\n",
    "print(set_c)\n",
    "\n",
    "print(set_a & set_b)"
   ]
  },
  {
   "cell_type": "code",
   "execution_count": 33,
   "id": "dd6ddf71",
   "metadata": {},
   "outputs": [
    {
     "name": "stdout",
     "output_type": "stream",
     "text": [
      "{'Mex', 'Col'}\n",
      "{'Mex', 'Col'}\n"
     ]
    }
   ],
   "source": [
    "# Difference\n",
    "\n",
    "set_c = set_a.difference(set_b)\n",
    "print(set_c)\n",
    "\n",
    "print(set_a - set_b)"
   ]
  },
  {
   "cell_type": "code",
   "execution_count": 34,
   "id": "c576ef2c",
   "metadata": {},
   "outputs": [
    {
     "name": "stdout",
     "output_type": "stream",
     "text": [
      "{'Mex', 'Bra', 'Col'}\n",
      "{'Mex', 'Bra', 'Col'}\n"
     ]
    }
   ],
   "source": [
    "# Symetric diffetence\n",
    "\n",
    "set_c = set_a.symmetric_difference(set_b)\n",
    "print(set_c)\n",
    "\n",
    "print(set_a ^ set_b )"
   ]
  },
  {
   "cell_type": "markdown",
   "id": "118b50d4",
   "metadata": {},
   "source": [
    "## List Comprehension"
   ]
  },
  {
   "cell_type": "code",
   "execution_count": 44,
   "id": "a4551960",
   "metadata": {},
   "outputs": [
    {
     "name": "stdout",
     "output_type": "stream",
     "text": [
      "[1, 2, 3, 4, 5, 6, 7, 8, 9, 10]\n"
     ]
    }
   ],
   "source": [
    "numbers = [element for element in range(1, 11)]\n",
    "print(numbers)"
   ]
  },
  {
   "cell_type": "code",
   "execution_count": 43,
   "id": "9fa45709",
   "metadata": {},
   "outputs": [
    {
     "name": "stdout",
     "output_type": "stream",
     "text": [
      "[2, 4, 6, 8, 10, 12, 14, 16, 18, 20]\n"
     ]
    }
   ],
   "source": [
    "numbers = [element  * 2 for element in range(1, 11)]\n",
    "print(numbers)"
   ]
  },
  {
   "cell_type": "code",
   "execution_count": 42,
   "id": "741fad03",
   "metadata": {},
   "outputs": [
    {
     "name": "stdout",
     "output_type": "stream",
     "text": [
      "[2, 4, 6, 8, 10]\n"
     ]
    }
   ],
   "source": [
    "numbers = [i for i in range(1, 11) if i % 2 == 0]\n",
    "print(numbers)"
   ]
  },
  {
   "cell_type": "code",
   "execution_count": 45,
   "id": "8685eedc",
   "metadata": {},
   "outputs": [
    {
     "name": "stdout",
     "output_type": "stream",
     "text": [
      "[4, 8, 12, 16, 20]\n"
     ]
    }
   ],
   "source": [
    "numbers = [i  * 2 for i in range(1, 11) if i % 2 == 0]\n",
    "print(numbers)"
   ]
  },
  {
   "cell_type": "code",
   "execution_count": null,
   "id": "35b28fa2",
   "metadata": {},
   "outputs": [],
   "source": []
  }
 ],
 "metadata": {
  "kernelspec": {
   "display_name": ".venv",
   "language": "python",
   "name": "python3"
  },
  "language_info": {
   "codemirror_mode": {
    "name": "ipython",
    "version": 3
   },
   "file_extension": ".py",
   "mimetype": "text/x-python",
   "name": "python",
   "nbconvert_exporter": "python",
   "pygments_lexer": "ipython3",
   "version": "3.13.3"
  }
 },
 "nbformat": 4,
 "nbformat_minor": 5
}
