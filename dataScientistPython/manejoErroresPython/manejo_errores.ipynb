{
 "cells": [
  {
   "cell_type": "markdown",
   "id": "1ec910c8",
   "metadata": {},
   "source": [
    "## Zen of Python"
   ]
  },
  {
   "cell_type": "code",
   "execution_count": 1,
   "id": "cadae609",
   "metadata": {},
   "outputs": [
    {
     "name": "stdout",
     "output_type": "stream",
     "text": [
      "The Zen of Python, by Tim Peters\n",
      "\n",
      "Beautiful is better than ugly.\n",
      "Explicit is better than implicit.\n",
      "Simple is better than complex.\n",
      "Complex is better than complicated.\n",
      "Flat is better than nested.\n",
      "Sparse is better than dense.\n",
      "Readability counts.\n",
      "Special cases aren't special enough to break the rules.\n",
      "Although practicality beats purity.\n",
      "Errors should never pass silently.\n",
      "Unless explicitly silenced.\n",
      "In the face of ambiguity, refuse the temptation to guess.\n",
      "There should be one-- and preferably only one --obvious way to do it.\n",
      "Although that way may not be obvious at first unless you're Dutch.\n",
      "Now is better than never.\n",
      "Although never is often better than *right* now.\n",
      "If the implementation is hard to explain, it's a bad idea.\n",
      "If the implementation is easy to explain, it may be a good idea.\n",
      "Namespaces are one honking great idea -- let's do more of those!\n"
     ]
    }
   ],
   "source": [
    "import this"
   ]
  },
  {
   "cell_type": "markdown",
   "id": "f2ec6371",
   "metadata": {},
   "source": [
    "## Conjuntos en Python"
   ]
  },
  {
   "cell_type": "code",
   "execution_count": 2,
   "id": "6188707a",
   "metadata": {},
   "outputs": [
    {
     "name": "stdout",
     "output_type": "stream",
     "text": [
      "{'Bol', 'Mex', 'Col'}\n",
      "<class 'set'>\n"
     ]
    }
   ],
   "source": [
    "set_countries = {\"Col\", \"Mex\", \"Bol\"}\n",
    "print(set_countries)\n",
    "print(type(set_countries))"
   ]
  },
  {
   "cell_type": "code",
   "execution_count": 3,
   "id": "48816723",
   "metadata": {},
   "outputs": [
    {
     "name": "stdout",
     "output_type": "stream",
     "text": [
      "(1, 2, 2, 3, 454, 666, 333)\n"
     ]
    }
   ],
   "source": [
    "set_numbers = (1, 2, 2, 3, 454, 666, 333)\n",
    "print(set_numbers)"
   ]
  },
  {
   "cell_type": "code",
   "execution_count": 4,
   "id": "a90dda89",
   "metadata": {},
   "outputs": [
    {
     "name": "stdout",
     "output_type": "stream",
     "text": [
      "{False, 1, 'hola', 12.12}\n",
      "<class 'set'>\n"
     ]
    }
   ],
   "source": [
    "set_types = {1, 'hola', False, 12.12}\n",
    "print(set_types)\n",
    "print(type(set_types))"
   ]
  },
  {
   "cell_type": "code",
   "execution_count": 5,
   "id": "4133a4a4",
   "metadata": {},
   "outputs": [
    {
     "name": "stdout",
     "output_type": "stream",
     "text": [
      "{'h', 'o', 'l', 'a'}\n"
     ]
    }
   ],
   "source": [
    "set_from_string = set('hola')\n",
    "print(set_from_string)"
   ]
  },
  {
   "cell_type": "code",
   "execution_count": 6,
   "id": "658da35f",
   "metadata": {},
   "outputs": [
    {
     "name": "stdout",
     "output_type": "stream",
     "text": [
      "{'h', 'o', 'l', 'a'}\n"
     ]
    }
   ],
   "source": [
    "set_from_string2 = set('hooola')\n",
    "print(set_from_string2)"
   ]
  },
  {
   "cell_type": "code",
   "execution_count": 7,
   "id": "596337e8",
   "metadata": {},
   "outputs": [
    {
     "name": "stdout",
     "output_type": "stream",
     "text": [
      "{123, 'abc', 'cbd', 'ghy'}\n"
     ]
    }
   ],
   "source": [
    "set_from_tuple = set(('abc', 'cbd', 123, 'ghy'))\n",
    "print(set_from_tuple)"
   ]
  },
  {
   "cell_type": "markdown",
   "id": "40d4dee5",
   "metadata": {},
   "source": [
    "## Manipulación de Conjuntos"
   ]
  },
  {
   "cell_type": "code",
   "execution_count": 8,
   "id": "6facec41",
   "metadata": {},
   "outputs": [],
   "source": [
    "set_countries = {\"Col\", \"Mex\", \"Arg\"}\n",
    "size = len(set_countries)"
   ]
  },
  {
   "cell_type": "code",
   "execution_count": 9,
   "id": "2385f635",
   "metadata": {},
   "outputs": [
    {
     "name": "stdout",
     "output_type": "stream",
     "text": [
      "3\n"
     ]
    }
   ],
   "source": [
    "print(size)"
   ]
  },
  {
   "cell_type": "code",
   "execution_count": 10,
   "id": "a532c4be",
   "metadata": {},
   "outputs": [
    {
     "name": "stdout",
     "output_type": "stream",
     "text": [
      "{'Arg', 'Pe', 'Mex', 'Col'}\n",
      "{'Mex', 'Col', 'Arg', 'Bol', 'Ecua', 'Pe'}\n"
     ]
    }
   ],
   "source": [
    "# add\n",
    "set_countries.add(\"Pe\")\n",
    "print(set_countries)\n",
    "\n",
    "# update\n",
    "set_countries.update({\"Ecua\", \"Bol\", \"Pe\"})\n",
    "print(set_countries)"
   ]
  },
  {
   "cell_type": "code",
   "execution_count": 11,
   "id": "e9c8078f",
   "metadata": {},
   "outputs": [
    {
     "name": "stdout",
     "output_type": "stream",
     "text": [
      "{'Mex', 'Col', 'Arg', 'Bol', 'Ecua'}\n"
     ]
    }
   ],
   "source": [
    "# Remove\n",
    "\n",
    "set_countries.remove(\"Pe\")\n",
    "print(set_countries)"
   ]
  },
  {
   "cell_type": "code",
   "execution_count": 12,
   "id": "5e1e8de4",
   "metadata": {},
   "outputs": [
    {
     "name": "stdout",
     "output_type": "stream",
     "text": [
      "set()\n"
     ]
    }
   ],
   "source": [
    "set_countries.clear()\n",
    "print(set_countries)"
   ]
  },
  {
   "cell_type": "markdown",
   "id": "176bed7a",
   "metadata": {},
   "source": [
    "## Operaciones Fundamentales con Conjuntos en Python"
   ]
  },
  {
   "cell_type": "code",
   "execution_count": 13,
   "id": "8d2c885b",
   "metadata": {},
   "outputs": [
    {
     "name": "stdout",
     "output_type": "stream",
     "text": [
      "{'Bra', 'Mex', 'Col', 'Arg'}\n",
      "{'Bra', 'Mex', 'Col', 'Arg'}\n"
     ]
    }
   ],
   "source": [
    "# Union\n",
    "set_a = {\"Col\", \"Mex\", \"Arg\"}\n",
    "set_b = {\"Bra\", \"Arg\"}\n",
    "\n",
    "set_c = set_a.union(set_b)\n",
    "print(set_c)\n",
    "print(set_a | set_b)"
   ]
  },
  {
   "cell_type": "code",
   "execution_count": 14,
   "id": "102f6aff",
   "metadata": {},
   "outputs": [
    {
     "name": "stdout",
     "output_type": "stream",
     "text": [
      "{'Arg'}\n",
      "{'Arg'}\n"
     ]
    }
   ],
   "source": [
    "# Interseccion\n",
    "set_c = set_a.intersection(set_b)\n",
    "print(set_c)\n",
    "\n",
    "print(set_a & set_b)"
   ]
  },
  {
   "cell_type": "code",
   "execution_count": 15,
   "id": "dd6ddf71",
   "metadata": {},
   "outputs": [
    {
     "name": "stdout",
     "output_type": "stream",
     "text": [
      "{'Mex', 'Col'}\n",
      "{'Mex', 'Col'}\n"
     ]
    }
   ],
   "source": [
    "# Difference\n",
    "\n",
    "set_c = set_a.difference(set_b)\n",
    "print(set_c)\n",
    "\n",
    "print(set_a - set_b)"
   ]
  },
  {
   "cell_type": "code",
   "execution_count": 16,
   "id": "c576ef2c",
   "metadata": {},
   "outputs": [
    {
     "name": "stdout",
     "output_type": "stream",
     "text": [
      "{'Bra', 'Mex', 'Col'}\n",
      "{'Bra', 'Mex', 'Col'}\n"
     ]
    }
   ],
   "source": [
    "# Symetric diffetence\n",
    "\n",
    "set_c = set_a.symmetric_difference(set_b)\n",
    "print(set_c)\n",
    "\n",
    "print(set_a ^ set_b )"
   ]
  },
  {
   "cell_type": "markdown",
   "id": "118b50d4",
   "metadata": {},
   "source": [
    "## List Comprehension"
   ]
  },
  {
   "cell_type": "code",
   "execution_count": 17,
   "id": "a4551960",
   "metadata": {},
   "outputs": [
    {
     "name": "stdout",
     "output_type": "stream",
     "text": [
      "[1, 2, 3, 4, 5, 6, 7, 8, 9, 10]\n"
     ]
    }
   ],
   "source": [
    "numbers = [element for element in range(1, 11)]\n",
    "print(numbers)"
   ]
  },
  {
   "cell_type": "code",
   "execution_count": 18,
   "id": "9fa45709",
   "metadata": {},
   "outputs": [
    {
     "name": "stdout",
     "output_type": "stream",
     "text": [
      "[2, 4, 6, 8, 10, 12, 14, 16, 18, 20]\n"
     ]
    }
   ],
   "source": [
    "numbers = [element  * 2 for element in range(1, 11)]\n",
    "print(numbers)"
   ]
  },
  {
   "cell_type": "code",
   "execution_count": 19,
   "id": "741fad03",
   "metadata": {},
   "outputs": [
    {
     "name": "stdout",
     "output_type": "stream",
     "text": [
      "[2, 4, 6, 8, 10]\n"
     ]
    }
   ],
   "source": [
    "numbers = [i for i in range(1, 11) if i % 2 == 0]\n",
    "print(numbers)"
   ]
  },
  {
   "cell_type": "code",
   "execution_count": 20,
   "id": "8685eedc",
   "metadata": {},
   "outputs": [
    {
     "name": "stdout",
     "output_type": "stream",
     "text": [
      "[4, 8, 12, 16, 20]\n"
     ]
    }
   ],
   "source": [
    "numbers = [i  * 2 for i in range(1, 11) if i % 2 == 0]\n",
    "print(numbers)"
   ]
  },
  {
   "cell_type": "markdown",
   "id": "0d662000",
   "metadata": {},
   "source": [
    "## Dictionary Comprehension"
   ]
  },
  {
   "cell_type": "code",
   "execution_count": 21,
   "id": "35b28fa2",
   "metadata": {},
   "outputs": [
    {
     "name": "stdout",
     "output_type": "stream",
     "text": [
      "{1: 2, 2: 4, 3: 6, 4: 8}\n"
     ]
    }
   ],
   "source": [
    "dict = {i: i * 2 for i in range(1, 5)}\n",
    "print(dict)"
   ]
  },
  {
   "cell_type": "code",
   "execution_count": 23,
   "id": "d0413818",
   "metadata": {},
   "outputs": [
    {
     "name": "stdout",
     "output_type": "stream",
     "text": [
      "{'Col': 10, 'Mex': 7, 'Arg': 8, 'Bra': 2}\n"
     ]
    }
   ],
   "source": [
    "import random\n",
    "\n",
    "countries = ['Col', 'Mex', 'Arg', 'Bra']\n",
    "population = []\n",
    "\n",
    "population = {country : random.randint(1, 10) for country in countries}\n",
    "print(population)"
   ]
  },
  {
   "cell_type": "markdown",
   "id": "e28123ca",
   "metadata": {},
   "source": [
    "## Dictionary Comprehension"
   ]
  },
  {
   "cell_type": "code",
   "execution_count": 24,
   "id": "862d7f39",
   "metadata": {},
   "outputs": [
    {
     "name": "stdout",
     "output_type": "stream",
     "text": [
      "['Col', 'Mex', 'Arg', 'Bra']\n"
     ]
    }
   ],
   "source": [
    "print(countries)"
   ]
  },
  {
   "cell_type": "code",
   "execution_count": 26,
   "id": "4058079d",
   "metadata": {},
   "outputs": [
    {
     "name": "stdout",
     "output_type": "stream",
     "text": [
      "{'Col': 53, 'Mex': 80}\n"
     ]
    }
   ],
   "source": [
    "population_v2 = { country: random.randint(1, 100) for country in countries}\n",
    "\n",
    "result = {country: population for (country, population) in population_v2.items() if population > 50}\n",
    "print(result)"
   ]
  },
  {
   "cell_type": "markdown",
   "id": "c699fecf",
   "metadata": {},
   "source": [
    "## Listas, Tuplas y Conjuntos"
   ]
  },
  {
   "cell_type": "code",
   "execution_count": 27,
   "id": "223582e0",
   "metadata": {},
   "outputs": [
    {
     "name": "stdout",
     "output_type": "stream",
     "text": [
      "Lista: [1, 2, 3, 4, 5]\n",
      "Tupla: (1, 2, 3, 4, 5)\n",
      "Conjunto: {1, 2, 3, 4, 5}\n"
     ]
    }
   ],
   "source": [
    "lista = [1, 2, 3, 4, 5]\n",
    "tupla = (1, 2, 3, 4, 5)\n",
    "conjunto = {1, 2, 3, 4, 5}\n",
    "\n",
    "print(\"Lista:\", lista)\n",
    "print(\"Tupla:\", tupla)\n",
    "print(\"Conjunto:\", conjunto)"
   ]
  },
  {
   "cell_type": "markdown",
   "id": "5ced22df",
   "metadata": {},
   "source": [
    "## Funciones"
   ]
  },
  {
   "cell_type": "code",
   "execution_count": 34,
   "id": "5eb92cc0",
   "metadata": {},
   "outputs": [
    {
     "name": "stdout",
     "output_type": "stream",
     "text": [
      "Text Text Text Text Text Text Text Text Text Text \n"
     ]
    }
   ],
   "source": [
    "def my_print(text):\n",
    "    print(text * 10)\n",
    "\n",
    "my_print(\"Text \")"
   ]
  },
  {
   "cell_type": "code",
   "execution_count": 35,
   "id": "b0309aea",
   "metadata": {},
   "outputs": [
    {
     "data": {
      "text/plain": [
       "10"
      ]
     },
     "execution_count": 35,
     "metadata": {},
     "output_type": "execute_result"
    }
   ],
   "source": [
    "def suma (a, b):\n",
    "    return a + b\n",
    "\n",
    "suma(5, 5)"
   ]
  },
  {
   "cell_type": "markdown",
   "id": "fb315240",
   "metadata": {},
   "source": [
    "## Funciones con retorno"
   ]
  },
  {
   "cell_type": "code",
   "execution_count": 39,
   "id": "40405dd5",
   "metadata": {},
   "outputs": [
    {
     "data": {
      "text/plain": [
       "45"
      ]
     },
     "execution_count": 39,
     "metadata": {},
     "output_type": "execute_result"
    }
   ],
   "source": [
    "def sum_with_range(min, max):\n",
    "    sum = 0 \n",
    "    for x in range(min, max):\n",
    "        sum += x\n",
    "    return sum\n",
    "\n",
    "sum_with_range(1, 10)\n"
   ]
  },
  {
   "cell_type": "code",
   "execution_count": 40,
   "id": "179709a2",
   "metadata": {},
   "outputs": [
    {
     "data": {
      "text/plain": [
       "245"
      ]
     },
     "execution_count": 40,
     "metadata": {},
     "output_type": "execute_result"
    }
   ],
   "source": [
    "sum_with_range(20, 30)"
   ]
  },
  {
   "cell_type": "code",
   "execution_count": 41,
   "id": "311a8dad",
   "metadata": {},
   "outputs": [
    {
     "data": {
      "text/plain": [
       "4950"
      ]
     },
     "execution_count": 41,
     "metadata": {},
     "output_type": "execute_result"
    }
   ],
   "source": [
    "sum_with_range(1, 100)"
   ]
  },
  {
   "cell_type": "code",
   "execution_count": 43,
   "id": "ed4203e2",
   "metadata": {},
   "outputs": [
    {
     "data": {
      "text/plain": [
       "5"
      ]
     },
     "execution_count": 43,
     "metadata": {},
     "output_type": "execute_result"
    }
   ],
   "source": [
    "sum_with_range(5,6)"
   ]
  },
  {
   "cell_type": "markdown",
   "id": "bca93b3a",
   "metadata": {},
   "source": [
    "## Retorno múltiple"
   ]
  },
  {
   "cell_type": "code",
   "execution_count": 47,
   "id": "8004d3f6",
   "metadata": {},
   "outputs": [
    {
     "name": "stdout",
     "output_type": "stream",
     "text": [
      "10\n"
     ]
    }
   ],
   "source": [
    "def find_volume(length=1, width=1, depth=1):\n",
    "    return length * width * depth\n",
    "\n",
    "result = find_volume(width=10)\n",
    "print(result)"
   ]
  },
  {
   "cell_type": "markdown",
   "id": "ed585ae3",
   "metadata": {},
   "source": [
    "## scope"
   ]
  },
  {
   "cell_type": "code",
   "execution_count": 48,
   "id": "a565132e",
   "metadata": {},
   "outputs": [
    {
     "name": "stdout",
     "output_type": "stream",
     "text": [
      "100\n"
     ]
    },
    {
     "data": {
      "text/plain": [
       "210"
      ]
     },
     "execution_count": 48,
     "metadata": {},
     "output_type": "execute_result"
    }
   ],
   "source": [
    "price = 100 # Global contex\n",
    "\n",
    "def increment():\n",
    "    price = 200 # Local contex\n",
    "    price += 10\n",
    "    return price\n",
    "\n",
    "print(price)\n",
    "increment()"
   ]
  },
  {
   "cell_type": "markdown",
   "id": "a024065f",
   "metadata": {},
   "source": [
    "# Refactorizar juego por medio de funciones"
   ]
  },
  {
   "cell_type": "code",
   "execution_count": 50,
   "id": "3f4d1e02",
   "metadata": {},
   "outputs": [
    {
     "name": "stdout",
     "output_type": "stream",
     "text": [
      "**********\n",
      "ROUND 1\n",
      "**********\n",
      "computer_wins 0\n",
      "user_wins 0\n",
      "User option => piedra\n",
      "Computer option => tijera\n",
      "piedra gana a tijera\n",
      "user gano!\n",
      "**********\n",
      "ROUND 2\n",
      "**********\n",
      "computer_wins 0\n",
      "user_wins 1\n",
      "User option => papel\n",
      "Computer option => papel\n",
      "Empate!\n",
      "**********\n",
      "ROUND 3\n",
      "**********\n",
      "computer_wins 0\n",
      "user_wins 1\n",
      "User option => papel\n",
      "Computer option => papel\n",
      "Empate!\n",
      "**********\n",
      "ROUND 4\n",
      "**********\n",
      "computer_wins 0\n",
      "user_wins 1\n",
      "User option => tijera\n",
      "Computer option => tijera\n",
      "Empate!\n",
      "**********\n",
      "ROUND 5\n",
      "**********\n",
      "computer_wins 0\n",
      "user_wins 1\n",
      "User option => tijera\n",
      "Computer option => piedra\n",
      "piedra gana a tijera\n",
      "computer gano!\n",
      "**********\n",
      "ROUND 6\n",
      "**********\n",
      "computer_wins 1\n",
      "user_wins 1\n",
      "User option => papel\n",
      "Computer option => piedra\n",
      "papel gana a piedra\n",
      "user gano\n",
      "El ganador es el usuario\n"
     ]
    }
   ],
   "source": [
    "import random\n",
    "\n",
    "\n",
    "def choose_options():\n",
    "  options = ('piedra', 'papel', 'tijera')\n",
    "  user_option = input('piedra, papel o tijera => ')\n",
    "  user_option = user_option.lower()\n",
    "\n",
    "  if not user_option in options:\n",
    "    print('esa opcion no es valida')\n",
    "    # continue\n",
    "    return None, None\n",
    "\n",
    "  computer_option = random.choice(options)\n",
    "\n",
    "  print('User option =>', user_option)\n",
    "  print('Computer option =>', computer_option)\n",
    "  return user_option, computer_option\n",
    "\n",
    "def check_rules(user_option, computer_option, user_wins, computer_wins):\n",
    "  if user_option == computer_option:\n",
    "    print('Empate!')\n",
    "  elif user_option == 'piedra':\n",
    "    if computer_option == 'tijera':\n",
    "      print('piedra gana a tijera')\n",
    "      print('user gano!')\n",
    "      user_wins += 1\n",
    "    else:\n",
    "      print('Papel gana a piedra')\n",
    "      print('computer gano!')\n",
    "      computer_wins += 1\n",
    "  elif user_option == 'papel':\n",
    "    if computer_option == 'piedra':\n",
    "      print('papel gana a piedra')\n",
    "      print('user gano')\n",
    "      user_wins += 1\n",
    "    else:\n",
    "      print('tijera gana a papel')\n",
    "      print('computer gano!')\n",
    "      computer_wins += 1\n",
    "  elif user_option == 'tijera':\n",
    "    if computer_option == 'papel':\n",
    "      print('tijera gana a papel')\n",
    "      print('user gano!')\n",
    "      user_wins += 1\n",
    "    else:\n",
    "      print('piedra gana a tijera')\n",
    "      print('computer gano!')\n",
    "      computer_wins += 1\n",
    "  return user_wins, computer_wins\n",
    "\n",
    "def run_game():\n",
    "  computer_wins = 0\n",
    "  user_wins = 0  \n",
    "  rounds = 1\n",
    "  while True:\n",
    "    print('*' * 10)\n",
    "    print('ROUND', rounds)\n",
    "    print('*' * 10)\n",
    "\n",
    "    print('computer_wins', computer_wins)\n",
    "    print('user_wins', user_wins)\n",
    "    rounds += 1\n",
    "\n",
    "    user_option, computer_option = choose_options()\n",
    "    user_wins, computer_wins = check_rules(user_option, computer_option, user_wins, computer_wins)\n",
    "\n",
    "    if computer_wins == 2:\n",
    "      print('El ganador es la computadora')\n",
    "      break\n",
    "\n",
    "    if user_wins == 2:\n",
    "      print('El ganador es el usuario')\n",
    "      break\n",
    "\n",
    "run_game()"
   ]
  },
  {
   "cell_type": "code",
   "execution_count": null,
   "id": "20b3248c",
   "metadata": {},
   "outputs": [],
   "source": []
  }
 ],
 "metadata": {
  "kernelspec": {
   "display_name": ".venv",
   "language": "python",
   "name": "python3"
  },
  "language_info": {
   "codemirror_mode": {
    "name": "ipython",
    "version": 3
   },
   "file_extension": ".py",
   "mimetype": "text/x-python",
   "name": "python",
   "nbconvert_exporter": "python",
   "pygments_lexer": "ipython3",
   "version": "3.13.3"
  }
 },
 "nbformat": 4,
 "nbformat_minor": 5
}
