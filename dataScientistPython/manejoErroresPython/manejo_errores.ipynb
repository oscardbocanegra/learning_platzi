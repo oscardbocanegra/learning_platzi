{
 "cells": [
  {
   "cell_type": "markdown",
   "id": "1ec910c8",
   "metadata": {},
   "source": [
    "## Zen of Python"
   ]
  },
  {
   "cell_type": "code",
   "execution_count": 2,
   "id": "cadae609",
   "metadata": {},
   "outputs": [],
   "source": [
    "import this"
   ]
  },
  {
   "cell_type": "markdown",
   "id": "f2ec6371",
   "metadata": {},
   "source": [
    "## Conjuntos en Python"
   ]
  },
  {
   "cell_type": "code",
   "execution_count": 3,
   "id": "6188707a",
   "metadata": {},
   "outputs": [
    {
     "name": "stdout",
     "output_type": "stream",
     "text": [
      "{'Bol', 'Col', 'Mex'}\n",
      "<class 'set'>\n"
     ]
    }
   ],
   "source": [
    "set_countries = {\"Col\", \"Mex\", \"Bol\"}\n",
    "print(set_countries)\n",
    "print(type(set_countries))"
   ]
  },
  {
   "cell_type": "code",
   "execution_count": 4,
   "id": "48816723",
   "metadata": {},
   "outputs": [
    {
     "name": "stdout",
     "output_type": "stream",
     "text": [
      "(1, 2, 2, 3, 454, 666, 333)\n"
     ]
    }
   ],
   "source": [
    "set_numbers = (1, 2, 2, 3, 454, 666, 333)\n",
    "print(set_numbers)"
   ]
  },
  {
   "cell_type": "code",
   "execution_count": 5,
   "id": "a90dda89",
   "metadata": {},
   "outputs": [
    {
     "name": "stdout",
     "output_type": "stream",
     "text": [
      "{False, 1, 12.12, 'hola'}\n",
      "<class 'set'>\n"
     ]
    }
   ],
   "source": [
    "set_types = {1, 'hola', False, 12.12}\n",
    "print(set_types)\n",
    "print(type(set_types))"
   ]
  },
  {
   "cell_type": "code",
   "execution_count": 6,
   "id": "4133a4a4",
   "metadata": {},
   "outputs": [
    {
     "name": "stdout",
     "output_type": "stream",
     "text": [
      "{'o', 'a', 'l', 'h'}\n"
     ]
    }
   ],
   "source": [
    "set_from_string = set('hola')\n",
    "print(set_from_string)"
   ]
  },
  {
   "cell_type": "code",
   "execution_count": 7,
   "id": "658da35f",
   "metadata": {},
   "outputs": [
    {
     "name": "stdout",
     "output_type": "stream",
     "text": [
      "{'o', 'a', 'l', 'h'}\n"
     ]
    }
   ],
   "source": [
    "set_from_string2 = set('hooola')\n",
    "print(set_from_string2)"
   ]
  },
  {
   "cell_type": "code",
   "execution_count": 8,
   "id": "596337e8",
   "metadata": {},
   "outputs": [
    {
     "name": "stdout",
     "output_type": "stream",
     "text": [
      "{123, 'abc', 'cbd', 'ghy'}\n"
     ]
    }
   ],
   "source": [
    "set_from_tuple = set(('abc', 'cbd', 123, 'ghy'))\n",
    "print(set_from_tuple)"
   ]
  },
  {
   "cell_type": "markdown",
   "id": "40d4dee5",
   "metadata": {},
   "source": [
    "## Manipulación de Conjuntos"
   ]
  },
  {
   "cell_type": "code",
   "execution_count": 9,
   "id": "6facec41",
   "metadata": {},
   "outputs": [],
   "source": [
    "set_countries = {\"Col\", \"Mex\", \"Arg\"}\n",
    "size = len(set_countries)"
   ]
  },
  {
   "cell_type": "code",
   "execution_count": 10,
   "id": "2385f635",
   "metadata": {},
   "outputs": [
    {
     "name": "stdout",
     "output_type": "stream",
     "text": [
      "3\n"
     ]
    }
   ],
   "source": [
    "print(size)"
   ]
  },
  {
   "cell_type": "code",
   "execution_count": 11,
   "id": "a532c4be",
   "metadata": {},
   "outputs": [
    {
     "name": "stdout",
     "output_type": "stream",
     "text": [
      "{'Pe', 'Arg', 'Col', 'Mex'}\n",
      "{'Pe', 'Mex', 'Bol', 'Ecua', 'Arg', 'Col'}\n"
     ]
    }
   ],
   "source": [
    "# add\n",
    "set_countries.add(\"Pe\")\n",
    "print(set_countries)\n",
    "\n",
    "# update\n",
    "set_countries.update({\"Ecua\", \"Bol\", \"Pe\"})\n",
    "print(set_countries)"
   ]
  },
  {
   "cell_type": "code",
   "execution_count": 12,
   "id": "e9c8078f",
   "metadata": {},
   "outputs": [
    {
     "name": "stdout",
     "output_type": "stream",
     "text": [
      "{'Mex', 'Bol', 'Ecua', 'Arg', 'Col'}\n"
     ]
    }
   ],
   "source": [
    "# Remove\n",
    "\n",
    "set_countries.remove(\"Pe\")\n",
    "print(set_countries)"
   ]
  },
  {
   "cell_type": "code",
   "execution_count": 13,
   "id": "5e1e8de4",
   "metadata": {},
   "outputs": [
    {
     "name": "stdout",
     "output_type": "stream",
     "text": [
      "set()\n"
     ]
    }
   ],
   "source": [
    "set_countries.clear()\n",
    "print(set_countries)"
   ]
  },
  {
   "cell_type": "markdown",
   "id": "176bed7a",
   "metadata": {},
   "source": [
    "## Operaciones Fundamentales con Conjuntos en Python"
   ]
  },
  {
   "cell_type": "code",
   "execution_count": 14,
   "id": "8d2c885b",
   "metadata": {},
   "outputs": [
    {
     "name": "stdout",
     "output_type": "stream",
     "text": [
      "{'Bra', 'Mex', 'Arg', 'Col'}\n",
      "{'Bra', 'Mex', 'Arg', 'Col'}\n"
     ]
    }
   ],
   "source": [
    "# Union\n",
    "set_a = {\"Col\", \"Mex\", \"Arg\"}\n",
    "set_b = {\"Bra\", \"Arg\"}\n",
    "\n",
    "set_c = set_a.union(set_b)\n",
    "print(set_c)\n",
    "print(set_a | set_b)"
   ]
  },
  {
   "cell_type": "code",
   "execution_count": 15,
   "id": "102f6aff",
   "metadata": {},
   "outputs": [
    {
     "name": "stdout",
     "output_type": "stream",
     "text": [
      "{'Arg'}\n",
      "{'Arg'}\n"
     ]
    }
   ],
   "source": [
    "# Interseccion\n",
    "set_c = set_a.intersection(set_b)\n",
    "print(set_c)\n",
    "\n",
    "print(set_a & set_b)"
   ]
  },
  {
   "cell_type": "code",
   "execution_count": 16,
   "id": "dd6ddf71",
   "metadata": {},
   "outputs": [
    {
     "name": "stdout",
     "output_type": "stream",
     "text": [
      "{'Col', 'Mex'}\n",
      "{'Col', 'Mex'}\n"
     ]
    }
   ],
   "source": [
    "# Difference\n",
    "\n",
    "set_c = set_a.difference(set_b)\n",
    "print(set_c)\n",
    "\n",
    "print(set_a - set_b)"
   ]
  },
  {
   "cell_type": "code",
   "execution_count": 17,
   "id": "c576ef2c",
   "metadata": {},
   "outputs": [
    {
     "name": "stdout",
     "output_type": "stream",
     "text": [
      "{'Bra', 'Col', 'Mex'}\n",
      "{'Bra', 'Col', 'Mex'}\n"
     ]
    }
   ],
   "source": [
    "# Symetric diffetence\n",
    "\n",
    "set_c = set_a.symmetric_difference(set_b)\n",
    "print(set_c)\n",
    "\n",
    "print(set_a ^ set_b )"
   ]
  },
  {
   "cell_type": "markdown",
   "id": "118b50d4",
   "metadata": {},
   "source": [
    "## List Comprehension"
   ]
  },
  {
   "cell_type": "code",
   "execution_count": 18,
   "id": "a4551960",
   "metadata": {},
   "outputs": [
    {
     "name": "stdout",
     "output_type": "stream",
     "text": [
      "[1, 2, 3, 4, 5, 6, 7, 8, 9, 10]\n"
     ]
    }
   ],
   "source": [
    "numbers = [element for element in range(1, 11)]\n",
    "print(numbers)"
   ]
  },
  {
   "cell_type": "code",
   "execution_count": 19,
   "id": "9fa45709",
   "metadata": {},
   "outputs": [
    {
     "name": "stdout",
     "output_type": "stream",
     "text": [
      "[2, 4, 6, 8, 10, 12, 14, 16, 18, 20]\n"
     ]
    }
   ],
   "source": [
    "numbers = [element  * 2 for element in range(1, 11)]\n",
    "print(numbers)"
   ]
  },
  {
   "cell_type": "code",
   "execution_count": 20,
   "id": "741fad03",
   "metadata": {},
   "outputs": [
    {
     "name": "stdout",
     "output_type": "stream",
     "text": [
      "[2, 4, 6, 8, 10]\n"
     ]
    }
   ],
   "source": [
    "numbers = [i for i in range(1, 11) if i % 2 == 0]\n",
    "print(numbers)"
   ]
  },
  {
   "cell_type": "code",
   "execution_count": 21,
   "id": "8685eedc",
   "metadata": {},
   "outputs": [
    {
     "name": "stdout",
     "output_type": "stream",
     "text": [
      "[4, 8, 12, 16, 20]\n"
     ]
    }
   ],
   "source": [
    "numbers = [i  * 2 for i in range(1, 11) if i % 2 == 0]\n",
    "print(numbers)"
   ]
  },
  {
   "cell_type": "markdown",
   "id": "0d662000",
   "metadata": {},
   "source": [
    "## Dictionary Comprehension"
   ]
  },
  {
   "cell_type": "code",
   "execution_count": 22,
   "id": "35b28fa2",
   "metadata": {},
   "outputs": [
    {
     "name": "stdout",
     "output_type": "stream",
     "text": [
      "{1: 2, 2: 4, 3: 6, 4: 8}\n"
     ]
    }
   ],
   "source": [
    "dict = {i: i * 2 for i in range(1, 5)}\n",
    "print(dict)"
   ]
  },
  {
   "cell_type": "code",
   "execution_count": 23,
   "id": "d0413818",
   "metadata": {},
   "outputs": [
    {
     "name": "stdout",
     "output_type": "stream",
     "text": [
      "{'Col': 3, 'Mex': 6, 'Arg': 9, 'Bra': 5}\n"
     ]
    }
   ],
   "source": [
    "import random\n",
    "\n",
    "countries = ['Col', 'Mex', 'Arg', 'Bra']\n",
    "population = []\n",
    "\n",
    "population = {country : random.randint(1, 10) for country in countries}\n",
    "print(population)"
   ]
  },
  {
   "cell_type": "markdown",
   "id": "e28123ca",
   "metadata": {},
   "source": [
    "## Dictionary Comprehension"
   ]
  },
  {
   "cell_type": "code",
   "execution_count": 24,
   "id": "862d7f39",
   "metadata": {},
   "outputs": [
    {
     "name": "stdout",
     "output_type": "stream",
     "text": [
      "['Col', 'Mex', 'Arg', 'Bra']\n"
     ]
    }
   ],
   "source": [
    "print(countries)"
   ]
  },
  {
   "cell_type": "code",
   "execution_count": 25,
   "id": "4058079d",
   "metadata": {},
   "outputs": [
    {
     "name": "stdout",
     "output_type": "stream",
     "text": [
      "{}\n"
     ]
    }
   ],
   "source": [
    "population_v2 = { country: random.randint(1, 100) for country in countries}\n",
    "\n",
    "result = {country: population for (country, population) in population_v2.items() if population > 50}\n",
    "print(result)"
   ]
  },
  {
   "cell_type": "markdown",
   "id": "c699fecf",
   "metadata": {},
   "source": [
    "## Listas, Tuplas y Conjuntos"
   ]
  },
  {
   "cell_type": "code",
   "execution_count": 26,
   "id": "223582e0",
   "metadata": {},
   "outputs": [
    {
     "name": "stdout",
     "output_type": "stream",
     "text": [
      "Lista: [1, 2, 3, 4, 5]\n",
      "Tupla: (1, 2, 3, 4, 5)\n",
      "Conjunto: {1, 2, 3, 4, 5}\n"
     ]
    }
   ],
   "source": [
    "lista = [1, 2, 3, 4, 5]\n",
    "tupla = (1, 2, 3, 4, 5)\n",
    "conjunto = {1, 2, 3, 4, 5}\n",
    "\n",
    "print(\"Lista:\", lista)\n",
    "print(\"Tupla:\", tupla)\n",
    "print(\"Conjunto:\", conjunto)"
   ]
  },
  {
   "cell_type": "markdown",
   "id": "5ced22df",
   "metadata": {},
   "source": [
    "## Funciones"
   ]
  },
  {
   "cell_type": "code",
   "execution_count": 27,
   "id": "5eb92cc0",
   "metadata": {},
   "outputs": [
    {
     "name": "stdout",
     "output_type": "stream",
     "text": [
      "Text Text Text Text Text Text Text Text Text Text \n"
     ]
    }
   ],
   "source": [
    "def my_print(text):\n",
    "    print(text * 10)\n",
    "\n",
    "my_print(\"Text \")"
   ]
  },
  {
   "cell_type": "code",
   "execution_count": 28,
   "id": "b0309aea",
   "metadata": {},
   "outputs": [
    {
     "data": {
      "text/plain": [
       "10"
      ]
     },
     "execution_count": 28,
     "metadata": {},
     "output_type": "execute_result"
    }
   ],
   "source": [
    "def suma (a, b):\n",
    "    return a + b\n",
    "\n",
    "suma(5, 5)"
   ]
  },
  {
   "cell_type": "markdown",
   "id": "fb315240",
   "metadata": {},
   "source": [
    "## Funciones con retorno"
   ]
  },
  {
   "cell_type": "code",
   "execution_count": 29,
   "id": "40405dd5",
   "metadata": {},
   "outputs": [
    {
     "data": {
      "text/plain": [
       "45"
      ]
     },
     "execution_count": 29,
     "metadata": {},
     "output_type": "execute_result"
    }
   ],
   "source": [
    "def sum_with_range(min, max):\n",
    "    sum = 0 \n",
    "    for x in range(min, max):\n",
    "        sum += x\n",
    "    return sum\n",
    "\n",
    "sum_with_range(1, 10)\n"
   ]
  },
  {
   "cell_type": "code",
   "execution_count": 30,
   "id": "179709a2",
   "metadata": {},
   "outputs": [
    {
     "data": {
      "text/plain": [
       "245"
      ]
     },
     "execution_count": 30,
     "metadata": {},
     "output_type": "execute_result"
    }
   ],
   "source": [
    "sum_with_range(20, 30)"
   ]
  },
  {
   "cell_type": "code",
   "execution_count": 31,
   "id": "311a8dad",
   "metadata": {},
   "outputs": [
    {
     "data": {
      "text/plain": [
       "4950"
      ]
     },
     "execution_count": 31,
     "metadata": {},
     "output_type": "execute_result"
    }
   ],
   "source": [
    "sum_with_range(1, 100)"
   ]
  },
  {
   "cell_type": "code",
   "execution_count": 32,
   "id": "ed4203e2",
   "metadata": {},
   "outputs": [
    {
     "data": {
      "text/plain": [
       "5"
      ]
     },
     "execution_count": 32,
     "metadata": {},
     "output_type": "execute_result"
    }
   ],
   "source": [
    "sum_with_range(5,6)"
   ]
  },
  {
   "cell_type": "markdown",
   "id": "bca93b3a",
   "metadata": {},
   "source": [
    "## Retorno múltiple"
   ]
  },
  {
   "cell_type": "code",
   "execution_count": 33,
   "id": "8004d3f6",
   "metadata": {},
   "outputs": [
    {
     "name": "stdout",
     "output_type": "stream",
     "text": [
      "10\n"
     ]
    }
   ],
   "source": [
    "def find_volume(length=1, width=1, depth=1):\n",
    "    return length * width * depth\n",
    "\n",
    "result = find_volume(width=10)\n",
    "print(result)"
   ]
  },
  {
   "cell_type": "markdown",
   "id": "ed585ae3",
   "metadata": {},
   "source": [
    "## scope"
   ]
  },
  {
   "cell_type": "code",
   "execution_count": 34,
   "id": "a565132e",
   "metadata": {},
   "outputs": [
    {
     "name": "stdout",
     "output_type": "stream",
     "text": [
      "100\n"
     ]
    },
    {
     "data": {
      "text/plain": [
       "210"
      ]
     },
     "execution_count": 34,
     "metadata": {},
     "output_type": "execute_result"
    }
   ],
   "source": [
    "price = 100 # Global contex\n",
    "\n",
    "def increment():\n",
    "    price = 200 # Local contex\n",
    "    price += 10\n",
    "    return price\n",
    "\n",
    "print(price)\n",
    "increment()"
   ]
  },
  {
   "cell_type": "markdown",
   "id": "a024065f",
   "metadata": {},
   "source": [
    "# Refactorizar juego por medio de funciones"
   ]
  },
  {
   "cell_type": "code",
   "execution_count": 35,
   "id": "3f4d1e02",
   "metadata": {},
   "outputs": [
    {
     "name": "stdout",
     "output_type": "stream",
     "text": [
      "**********\n",
      "ROUND 1\n",
      "**********\n",
      "computer_wins 0\n",
      "user_wins 0\n",
      "esa opcion no es valida\n",
      "Empate!\n",
      "**********\n",
      "ROUND 2\n",
      "**********\n",
      "computer_wins 0\n",
      "user_wins 0\n",
      "esa opcion no es valida\n",
      "Empate!\n",
      "**********\n",
      "ROUND 3\n",
      "**********\n",
      "computer_wins 0\n",
      "user_wins 0\n",
      "esa opcion no es valida\n",
      "Empate!\n",
      "**********\n",
      "ROUND 4\n",
      "**********\n",
      "computer_wins 0\n",
      "user_wins 0\n",
      "esa opcion no es valida\n",
      "Empate!\n",
      "**********\n",
      "ROUND 5\n",
      "**********\n",
      "computer_wins 0\n",
      "user_wins 0\n",
      "esa opcion no es valida\n",
      "Empate!\n",
      "**********\n",
      "ROUND 6\n",
      "**********\n",
      "computer_wins 0\n",
      "user_wins 0\n",
      "esa opcion no es valida\n",
      "Empate!\n",
      "**********\n",
      "ROUND 7\n",
      "**********\n",
      "computer_wins 0\n",
      "user_wins 0\n",
      "esa opcion no es valida\n",
      "Empate!\n",
      "**********\n",
      "ROUND 8\n",
      "**********\n",
      "computer_wins 0\n",
      "user_wins 0\n",
      "esa opcion no es valida\n",
      "Empate!\n",
      "**********\n",
      "ROUND 9\n",
      "**********\n",
      "computer_wins 0\n",
      "user_wins 0\n",
      "esa opcion no es valida\n",
      "Empate!\n",
      "**********\n",
      "ROUND 10\n",
      "**********\n",
      "computer_wins 0\n",
      "user_wins 0\n",
      "esa opcion no es valida\n",
      "Empate!\n",
      "**********\n",
      "ROUND 11\n",
      "**********\n",
      "computer_wins 0\n",
      "user_wins 0\n",
      "esa opcion no es valida\n",
      "Empate!\n",
      "**********\n",
      "ROUND 12\n",
      "**********\n",
      "computer_wins 0\n",
      "user_wins 0\n",
      "esa opcion no es valida\n",
      "Empate!\n",
      "**********\n",
      "ROUND 13\n",
      "**********\n",
      "computer_wins 0\n",
      "user_wins 0\n",
      "esa opcion no es valida\n",
      "Empate!\n",
      "**********\n",
      "ROUND 14\n",
      "**********\n",
      "computer_wins 0\n",
      "user_wins 0\n",
      "esa opcion no es valida\n",
      "Empate!\n",
      "**********\n",
      "ROUND 15\n",
      "**********\n",
      "computer_wins 0\n",
      "user_wins 0\n",
      "esa opcion no es valida\n",
      "Empate!\n",
      "**********\n",
      "ROUND 16\n",
      "**********\n",
      "computer_wins 0\n",
      "user_wins 0\n",
      "User option => papel\n",
      "Computer option => piedra\n",
      "papel gana a piedra\n",
      "user gano\n",
      "**********\n",
      "ROUND 17\n",
      "**********\n",
      "computer_wins 0\n",
      "user_wins 1\n",
      "User option => papel\n",
      "Computer option => tijera\n",
      "tijera gana a papel\n",
      "computer gano!\n",
      "**********\n",
      "ROUND 18\n",
      "**********\n",
      "computer_wins 1\n",
      "user_wins 1\n",
      "User option => papel\n",
      "Computer option => papel\n",
      "Empate!\n",
      "**********\n",
      "ROUND 19\n",
      "**********\n",
      "computer_wins 1\n",
      "user_wins 1\n",
      "User option => papel\n",
      "Computer option => tijera\n",
      "tijera gana a papel\n",
      "computer gano!\n",
      "El ganador es la computadora\n"
     ]
    }
   ],
   "source": [
    "import random\n",
    "\n",
    "\n",
    "def choose_options():\n",
    "  options = ('piedra', 'papel', 'tijera')\n",
    "  user_option = input('piedra, papel o tijera => ')\n",
    "  user_option = user_option.lower()\n",
    "\n",
    "  if not user_option in options:\n",
    "    print('esa opcion no es valida')\n",
    "    # continue\n",
    "    return None, None\n",
    "\n",
    "  computer_option = random.choice(options)\n",
    "\n",
    "  print('User option =>', user_option)\n",
    "  print('Computer option =>', computer_option)\n",
    "  return user_option, computer_option\n",
    "\n",
    "def check_rules(user_option, computer_option, user_wins, computer_wins):\n",
    "  if user_option == computer_option:\n",
    "    print('Empate!')\n",
    "  elif user_option == 'piedra':\n",
    "    if computer_option == 'tijera':\n",
    "      print('piedra gana a tijera')\n",
    "      print('user gano!')\n",
    "      user_wins += 1\n",
    "    else:\n",
    "      print('Papel gana a piedra')\n",
    "      print('computer gano!')\n",
    "      computer_wins += 1\n",
    "  elif user_option == 'papel':\n",
    "    if computer_option == 'piedra':\n",
    "      print('papel gana a piedra')\n",
    "      print('user gano')\n",
    "      user_wins += 1\n",
    "    else:\n",
    "      print('tijera gana a papel')\n",
    "      print('computer gano!')\n",
    "      computer_wins += 1\n",
    "  elif user_option == 'tijera':\n",
    "    if computer_option == 'papel':\n",
    "      print('tijera gana a papel')\n",
    "      print('user gano!')\n",
    "      user_wins += 1\n",
    "    else:\n",
    "      print('piedra gana a tijera')\n",
    "      print('computer gano!')\n",
    "      computer_wins += 1\n",
    "  return user_wins, computer_wins\n",
    "\n",
    "def run_game():\n",
    "  computer_wins = 0\n",
    "  user_wins = 0  \n",
    "  rounds = 1\n",
    "  while True:\n",
    "    print('*' * 10)\n",
    "    print('ROUND', rounds)\n",
    "    print('*' * 10)\n",
    "\n",
    "    print('computer_wins', computer_wins)\n",
    "    print('user_wins', user_wins)\n",
    "    rounds += 1\n",
    "\n",
    "    user_option, computer_option = choose_options()\n",
    "    user_wins, computer_wins = check_rules(user_option, computer_option, user_wins, computer_wins)\n",
    "\n",
    "    if computer_wins == 2:\n",
    "      print('El ganador es la computadora')\n",
    "      break\n",
    "\n",
    "    if user_wins == 2:\n",
    "      print('El ganador es el usuario')\n",
    "      break\n",
    "\n",
    "run_game()"
   ]
  },
  {
   "cell_type": "markdown",
   "id": "ac69bea5",
   "metadata": {},
   "source": [
    "## Funciones de Orden Superior"
   ]
  },
  {
   "cell_type": "code",
   "execution_count": 36,
   "id": "20b3248c",
   "metadata": {},
   "outputs": [
    {
     "name": "stdout",
     "output_type": "stream",
     "text": [
      "5\n"
     ]
    }
   ],
   "source": [
    "def increment(x):\n",
    "    return x + 1\n",
    "\n",
    "def high_ord_func(x, func):\n",
    "    return x + func(x)\n",
    "\n",
    "result = high_ord_func(2, increment)\n",
    "print(result)"
   ]
  },
  {
   "cell_type": "code",
   "execution_count": 37,
   "id": "8a86545e",
   "metadata": {},
   "outputs": [
    {
     "name": "stdout",
     "output_type": "stream",
     "text": [
      "5\n"
     ]
    }
   ],
   "source": [
    "# same with lambda\n",
    "increment_v2 = lambda x: x + 1\n",
    "high_ord_func_v2 = lambda x, func: x + func(x)\n",
    "\n",
    "result = high_ord_func_v2(2, increment_v2)\n",
    "print(result)"
   ]
  },
  {
   "cell_type": "markdown",
   "id": "567d152e",
   "metadata": {},
   "source": [
    "## Map\n",
    "\n",
    "#### Transformar elementos"
   ]
  },
  {
   "cell_type": "code",
   "execution_count": 1,
   "id": "1e1bfbfa",
   "metadata": {},
   "outputs": [
    {
     "name": "stdout",
     "output_type": "stream",
     "text": [
      "[1, 2, 3, 4, 5]\n",
      "[2, 4, 6, 8, 10]\n",
      "[2, 4, 6, 8, 10]\n"
     ]
    }
   ],
   "source": [
    "numbers = [1, 2, 3, 4, 5]\n",
    "numbers_v2 = []\n",
    "\n",
    "for i in numbers:\n",
    "    numbers_v2.append(i * 2)\n",
    "\n",
    "# Using map\n",
    "numbers_v3 = list(map(lambda i: i * 2, numbers))\n",
    "\n",
    "print(numbers)\n",
    "print(numbers_v2)\n",
    "print(numbers_v3)"
   ]
  },
  {
   "cell_type": "code",
   "execution_count": 3,
   "id": "d0e0725d",
   "metadata": {},
   "outputs": [
    {
     "name": "stdout",
     "output_type": "stream",
     "text": [
      "[6, 8, 10]\n"
     ]
    }
   ],
   "source": [
    "numbers_1 = [1, 2, 3, 4]\n",
    "numbers_2 = [5, 6, 7]\n",
    "\n",
    "result = list(map(lambda x, y: x + y, numbers_1, numbers_2))\n",
    "print(result)"
   ]
  },
  {
   "cell_type": "markdown",
   "id": "b8da988f",
   "metadata": {},
   "source": [
    "## Transformaciones con Map en Diccionarios Complexos"
   ]
  },
  {
   "cell_type": "code",
   "execution_count": 1,
   "id": "9acda0a1",
   "metadata": {},
   "outputs": [
    {
     "name": "stdout",
     "output_type": "stream",
     "text": [
      "[100, 300, 200]\n"
     ]
    }
   ],
   "source": [
    "items = [\n",
    "    {\n",
    "        'product': 'camisa',\n",
    "        'price': 100\n",
    "    },\n",
    "    {\n",
    "        'product': 'pantalones',\n",
    "        'price': 300\n",
    "    },\n",
    "    {\n",
    "        'product': 'pantalones 2',\n",
    "        'price': 200\n",
    "    }\n",
    "]\n",
    "\n",
    "prices = list(map(lambda item: item['price'], items))\n",
    "print(prices)"
   ]
  },
  {
   "cell_type": "code",
   "execution_count": 2,
   "id": "fd067036",
   "metadata": {},
   "outputs": [
    {
     "name": "stdout",
     "output_type": "stream",
     "text": [
      "[{'product': 'camisa', 'price': 100, 'taxes': 19.0}, {'product': 'pantalones', 'price': 300, 'taxes': 57.0}, {'product': 'pantalones 2', 'price': 200, 'taxes': 38.0}]\n"
     ]
    }
   ],
   "source": [
    "def add_taxes(item):\n",
    "    item['taxes'] = item['price'] * .19\n",
    "    return item\n",
    "\n",
    "new_items = list(map(add_taxes, items))\n",
    "print(new_items)"
   ]
  },
  {
   "cell_type": "markdown",
   "id": "9a53ac46",
   "metadata": {},
   "source": [
    "## Filter"
   ]
  },
  {
   "cell_type": "code",
   "execution_count": 2,
   "id": "60c9c231",
   "metadata": {},
   "outputs": [
    {
     "name": "stdout",
     "output_type": "stream",
     "text": [
      "[1, 2, 3, 4, 5]\n",
      "[2, 4]\n"
     ]
    }
   ],
   "source": [
    "numbers = [1, 2, 3, 4, 5]\n",
    "new_numbers = list(filter(lambda x: x % 2 == 0, numbers))\n",
    "print(numbers)\n",
    "print(new_numbers)"
   ]
  },
  {
   "cell_type": "markdown",
   "id": "0e52ad47",
   "metadata": {},
   "source": [
    "## Filter dict"
   ]
  },
  {
   "cell_type": "code",
   "execution_count": 5,
   "id": "d6e78c9a",
   "metadata": {},
   "outputs": [
    {
     "name": "stdout",
     "output_type": "stream",
     "text": [
      "3\n"
     ]
    }
   ],
   "source": [
    "matches = [\n",
    "  {\n",
    "    'home_team': 'Bolivia',\n",
    "    'away_team': 'Uruguay',\n",
    "    'home_team_score': 3,\n",
    "    'away_team_score': 1,\n",
    "    'home_team_result': 'Win'\n",
    "  },\n",
    "  {\n",
    "    'home_team': 'Brazil',\n",
    "    'away_team': 'Mexico',\n",
    "    'home_team_score': 1,\n",
    "    'away_team_score': 1,\n",
    "    'home_team_result': 'Draw'\n",
    "  },\n",
    "  {\n",
    "    'home_team': 'Ecuador',\n",
    "    'away_team': 'Venezuela',\n",
    "    'home_team_score': 5,\n",
    "    'away_team_score': 0,\n",
    "    'home_team_result': 'Win'\n",
    "  },\n",
    "]\n",
    "print(len(matches))"
   ]
  },
  {
   "cell_type": "code",
   "execution_count": 6,
   "id": "74651b88",
   "metadata": {},
   "outputs": [
    {
     "name": "stdout",
     "output_type": "stream",
     "text": [
      "2\n",
      "[{'home_team': 'Bolivia', 'away_team': 'Uruguay', 'home_team_score': 3, 'away_team_score': 1, 'home_team_result': 'Win'}, {'home_team': 'Ecuador', 'away_team': 'Venezuela', 'home_team_score': 5, 'away_team_score': 0, 'home_team_result': 'Win'}]\n"
     ]
    }
   ],
   "source": [
    "new_list = list(filter(lambda item: item['home_team_result'] == 'Win', matches))\n",
    "print(len(new_list))\n",
    "print(new_list)"
   ]
  },
  {
   "cell_type": "markdown",
   "id": "c31f6099",
   "metadata": {},
   "source": [
    "## Reduce"
   ]
  },
  {
   "cell_type": "code",
   "execution_count": 7,
   "id": "10c1b224",
   "metadata": {},
   "outputs": [],
   "source": [
    "import functools"
   ]
  },
  {
   "cell_type": "code",
   "execution_count": 10,
   "id": "2a069b19",
   "metadata": {},
   "outputs": [
    {
     "name": "stdout",
     "output_type": "stream",
     "text": [
      "10\n"
     ]
    }
   ],
   "source": [
    "result = functools.reduce(lambda counter, item: counter + item, numbers)\n",
    "print(result)"
   ]
  },
  {
   "cell_type": "markdown",
   "id": "e537e181",
   "metadata": {},
   "source": [
    "## Módulos "
   ]
  },
  {
   "cell_type": "code",
   "execution_count": 12,
   "id": "3667ec82",
   "metadata": {},
   "outputs": [
    {
     "name": "stdout",
     "output_type": "stream",
     "text": [
      "['C:\\\\Users\\\\david\\\\AppData\\\\Local\\\\Programs\\\\Python\\\\Python313\\\\python313.zip', 'C:\\\\Users\\\\david\\\\AppData\\\\Local\\\\Programs\\\\Python\\\\Python313\\\\DLLs', 'C:\\\\Users\\\\david\\\\AppData\\\\Local\\\\Programs\\\\Python\\\\Python313\\\\Lib', 'C:\\\\Users\\\\david\\\\AppData\\\\Local\\\\Programs\\\\Python\\\\Python313', 'd:\\\\david\\\\learning_platzi\\\\dataScientistPython\\\\manejoErroresPython\\\\.venv', '', 'd:\\\\david\\\\learning_platzi\\\\dataScientistPython\\\\manejoErroresPython\\\\.venv\\\\Lib\\\\site-packages', 'd:\\\\david\\\\learning_platzi\\\\dataScientistPython\\\\manejoErroresPython\\\\.venv\\\\Lib\\\\site-packages\\\\win32', 'd:\\\\david\\\\learning_platzi\\\\dataScientistPython\\\\manejoErroresPython\\\\.venv\\\\Lib\\\\site-packages\\\\win32\\\\lib', 'd:\\\\david\\\\learning_platzi\\\\dataScientistPython\\\\manejoErroresPython\\\\.venv\\\\Lib\\\\site-packages\\\\Pythonwin']\n",
      "['3017345355', '57']\n"
     ]
    }
   ],
   "source": [
    "import sys\n",
    "print(sys.path)\n",
    "\n",
    "import re\n",
    "text = 'Mi numero de tefono es 3017345355 y el numeor del pais es +57'\n",
    "result = re.findall('[0-9]+', text)\n",
    "print(result)"
   ]
  },
  {
   "cell_type": "code",
   "execution_count": 13,
   "id": "c0e7a930",
   "metadata": {},
   "outputs": [
    {
     "name": "stdout",
     "output_type": "stream",
     "text": [
      "1754958337.1870496\n",
      "Mon Aug 11 19:25:37 2025\n"
     ]
    }
   ],
   "source": [
    "import time\n",
    "timestamp = time.time()\n",
    "print(timestamp)\n",
    "\n",
    "local = time.localtime()\n",
    "result = time.asctime(local)\n",
    "print(result)"
   ]
  },
  {
   "cell_type": "code",
   "execution_count": 14,
   "id": "4e7fb1d7",
   "metadata": {},
   "outputs": [
    {
     "name": "stdout",
     "output_type": "stream",
     "text": [
      "Counter({1: 4, 3: 2, 2: 1, 22: 1, 4: 1, 5: 1, 21: 1})\n"
     ]
    }
   ],
   "source": [
    "import collections\n",
    "numbers = [1,1,2,1,22,1,4,5,3,3,21]\n",
    "counter = collections.Counter(numbers)\n",
    "print(counter)"
   ]
  },
  {
   "cell_type": "markdown",
   "id": "60c77744",
   "metadata": {},
   "source": [
    "## Iter - next"
   ]
  },
  {
   "cell_type": "code",
   "execution_count": 1,
   "id": "fae5db9d",
   "metadata": {},
   "outputs": [
    {
     "name": "stdout",
     "output_type": "stream",
     "text": [
      "1\n",
      "2\n",
      "3\n",
      "4\n",
      "5\n",
      "6\n",
      "7\n",
      "8\n",
      "9\n",
      "10\n"
     ]
    }
   ],
   "source": [
    "for i in range(1, 11):\n",
    "    print(i)"
   ]
  },
  {
   "cell_type": "code",
   "execution_count": 2,
   "id": "1b1295c3",
   "metadata": {},
   "outputs": [
    {
     "name": "stdout",
     "output_type": "stream",
     "text": [
      "<range_iterator object at 0x000002A4765CC550>\n"
     ]
    }
   ],
   "source": [
    "my_iter = iter(range(1, 11))\n",
    "print(my_iter)"
   ]
  },
  {
   "cell_type": "code",
   "execution_count": 3,
   "id": "90d701a6",
   "metadata": {},
   "outputs": [
    {
     "name": "stdout",
     "output_type": "stream",
     "text": [
      "1\n"
     ]
    }
   ],
   "source": [
    "print(next(my_iter))"
   ]
  },
  {
   "cell_type": "code",
   "execution_count": 4,
   "id": "f9ab17a6",
   "metadata": {},
   "outputs": [
    {
     "name": "stdout",
     "output_type": "stream",
     "text": [
      "2\n"
     ]
    }
   ],
   "source": [
    "print(next(my_iter))"
   ]
  },
  {
   "cell_type": "code",
   "execution_count": 5,
   "id": "a49f9b97",
   "metadata": {},
   "outputs": [
    {
     "name": "stdout",
     "output_type": "stream",
     "text": [
      "3\n"
     ]
    }
   ],
   "source": [
    "print(next(my_iter))"
   ]
  },
  {
   "cell_type": "code",
   "execution_count": 6,
   "id": "bbbc620a",
   "metadata": {},
   "outputs": [
    {
     "name": "stdout",
     "output_type": "stream",
     "text": [
      "4\n"
     ]
    }
   ],
   "source": [
    "print(next(my_iter))"
   ]
  },
  {
   "cell_type": "markdown",
   "id": "014dcad7",
   "metadata": {},
   "source": [
    "## Manejo de errores"
   ]
  },
  {
   "cell_type": "code",
   "execution_count": null,
   "id": "e1d68db6",
   "metadata": {},
   "outputs": [
    {
     "ename": "Exception",
     "evalue": "No eres mayor de edad",
     "output_type": "error",
     "traceback": [
      "\u001b[31m---------------------------------------------------------------------------\u001b[39m",
      "\u001b[31mException\u001b[39m                                 Traceback (most recent call last)",
      "\u001b[36mCell\u001b[39m\u001b[36m \u001b[39m\u001b[32mIn[7]\u001b[39m\u001b[32m, line 3\u001b[39m\n\u001b[32m      1\u001b[39m age = \u001b[32m10\u001b[39m\n\u001b[32m      2\u001b[39m \u001b[38;5;28;01mif\u001b[39;00m age < \u001b[32m18\u001b[39m:\n\u001b[32m----> \u001b[39m\u001b[32m3\u001b[39m     \u001b[38;5;28;01mraise\u001b[39;00m \u001b[38;5;167;01mException\u001b[39;00m(\u001b[33m'\u001b[39m\u001b[33mNo eres mayor de edad\u001b[39m\u001b[33m'\u001b[39m)\n",
      "\u001b[31mException\u001b[39m: No eres mayor de edad"
     ]
    }
   ],
   "source": [
    "age = 10\n",
    "if age < 18:\n",
    "    raise Exception('No eres mayor de edad')"
   ]
  },
  {
   "cell_type": "markdown",
   "id": "dbf145ad",
   "metadata": {},
   "source": [
    "# Try -exception"
   ]
  },
  {
   "cell_type": "code",
   "execution_count": 8,
   "id": "2c7432e7",
   "metadata": {},
   "outputs": [
    {
     "name": "stdout",
     "output_type": "stream",
     "text": [
      "division by zero\n",
      "Hola\n",
      "Hola 2\n"
     ]
    }
   ],
   "source": [
    "try:\n",
    "  print(0 / 0)\n",
    "  assert 1 != 1, 'Uno no es igual que uno'\n",
    "  age = 10\n",
    "  if age < 18:\n",
    "    raise Exception('No se permiten menores de edad')\n",
    "except ZeroDivisionError as error:\n",
    "  print(error)\n",
    "except AssertionError as error:\n",
    "  print(error)\n",
    "except Exception as error:\n",
    "  print(error)\n",
    "\n",
    "print('Hola')\n",
    "print('Hola 2')"
   ]
  }
 ],
 "metadata": {
  "kernelspec": {
   "display_name": ".venv",
   "language": "python",
   "name": "python3"
  },
  "language_info": {
   "codemirror_mode": {
    "name": "ipython",
    "version": 3
   },
   "file_extension": ".py",
   "mimetype": "text/x-python",
   "name": "python",
   "nbconvert_exporter": "python",
   "pygments_lexer": "ipython3",
   "version": "3.13.3"
  }
 },
 "nbformat": 4,
 "nbformat_minor": 5
}
