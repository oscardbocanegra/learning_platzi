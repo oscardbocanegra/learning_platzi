{
 "cells": [
  {
   "cell_type": "code",
   "execution_count": 5,
   "id": "fff45918",
   "metadata": {},
   "outputs": [],
   "source": [
    "import torch\n",
    "import torch.nn as nn\n",
    "import torch.optim as optim\n",
    "import numpy as np"
   ]
  },
  {
   "cell_type": "code",
   "execution_count": 6,
   "id": "e600854f",
   "metadata": {},
   "outputs": [],
   "source": [
    "X_np = np.random.rand(100, 4).astype(np.float32)\n",
    "y_np = np.random.randint(0, 2, size=(100)).astype(np.float32)\n",
    "\n",
    "X = torch.from_numpy(X_np)\n",
    "y = torch.from_numpy(y_np)"
   ]
  },
  {
   "cell_type": "code",
   "execution_count": 7,
   "id": "cd04dfd2",
   "metadata": {},
   "outputs": [],
   "source": [
    "class RedSimple(nn.Module):\n",
    "    def __init__(self, n_entradas, n_ocultas, n_salidas):\n",
    "        super().__init__()  \n",
    "        # 1. Capa oculta\n",
    "        self.hidden = nn.Linear(n_entradas, n_ocultas)\n",
    "        # 2. Capa de salida\n",
    "        self.output = nn.Linear(n_ocultas, n_salidas)\n",
    "        # 3. Función de activación ReLU\n",
    "        self.relu = nn.ReLU()\n",
    "        # 4. Sigmoide para la salida binaria\n",
    "        self.sigmoid = nn.Sigmoid()\n",
    "\n",
    "    def forward(self, x):\n",
    "        # 5. Paso hacia adelante: entrada → oculta → activación → salida → sigmoide\n",
    "        x = self.hidden(x)\n",
    "        x = self.relu(x)\n",
    "        x = self.output(x)\n",
    "        x = self.sigmoid(x).squeeze(1)\n",
    "        return x\n",
    "\n",
    "# 6. Creamos una instancia: 4 entradas → 8 neuronas ocultas → 1 salida\n",
    "modelo = RedSimple(n_entradas=4, n_ocultas=8, n_salidas=1)\n"
   ]
  },
  {
   "cell_type": "code",
   "execution_count": 8,
   "id": "48700e46",
   "metadata": {},
   "outputs": [],
   "source": [
    "# 1. Loss: entropía cruzada binaria para entradas de probabilidad\n",
    "criterion = nn.BCELoss()\n",
    "\n",
    "# 2. Optimizador Adam con tasa de aprendizaje por defecto\n",
    "optimizer = optim.Adam(modelo.parameters(), lr=0.001)"
   ]
  },
  {
   "cell_type": "code",
   "execution_count": 9,
   "id": "2da1c4cd",
   "metadata": {},
   "outputs": [
    {
     "name": "stdout",
     "output_type": "stream",
     "text": [
      "Epoch 1/10, Loss: 0.7291\n",
      "Epoch 2/10, Loss: 0.6936\n",
      "Epoch 3/10, Loss: 0.7118\n",
      "Epoch 4/10, Loss: 0.6905\n",
      "Epoch 5/10, Loss: 0.6644\n",
      "Epoch 6/10, Loss: 0.6948\n",
      "Epoch 7/10, Loss: 0.6899\n",
      "Epoch 8/10, Loss: 0.6865\n",
      "Epoch 9/10, Loss: 0.6952\n",
      "Epoch 10/10, Loss: 0.6872\n"
     ]
    }
   ],
   "source": [
    "n_epochs = 10\n",
    "batch_size = 10\n",
    "dataset = torch.utils.data.TensorDataset(X, y)\n",
    "loader = torch.utils.data.DataLoader(dataset, batch_size=batch_size, shuffle=True)\n",
    "\n",
    "for epoch in range(n_epochs):\n",
    "    for X_batch, y_batch in loader:\n",
    "        # 1. Forward\n",
    "        y_pred = modelo(X_batch)\n",
    "        # 2. Calcular pérdida\n",
    "        loss = criterion(y_pred, y_batch.float())\n",
    "        # 3. Backprop y optimización\n",
    "        optimizer.zero_grad()\n",
    "        loss.backward()\n",
    "        optimizer.step()\n",
    "    # 4. Mostrar progreso por época\n",
    "    print(f\"Epoch {epoch+1}/{n_epochs}, Loss: {loss.item():.4f}\")"
   ]
  },
  {
   "cell_type": "code",
   "execution_count": 10,
   "id": "bd07a24c",
   "metadata": {},
   "outputs": [
    {
     "name": "stdout",
     "output_type": "stream",
     "text": [
      "Precisión del modelo: 57.00%\n"
     ]
    }
   ],
   "source": [
    "with torch.no_grad():  \n",
    "    y_prob = modelo(X)             # 1. Predicciones de probabilidad\n",
    "    y_pred = (y_prob > 0.5).int()  # 2. Convertir a 0/1 con umbral 0.5\n",
    "    accuracy = (y_pred == y).float().mean()  # 3. Proporción de aciertos\n",
    "    print(f\"Precisión del modelo: {accuracy*100:.2f}%\")"
   ]
  },
  {
   "cell_type": "code",
   "execution_count": 11,
   "id": "b080bbfb",
   "metadata": {},
   "outputs": [
    {
     "name": "stdout",
     "output_type": "stream",
     "text": [
      "RedSimple(\n",
      "  (hidden): Linear(in_features=4, out_features=8, bias=True)\n",
      "  (output): Linear(in_features=8, out_features=1, bias=True)\n",
      "  (relu): ReLU()\n",
      "  (sigmoid): Sigmoid()\n",
      ")\n"
     ]
    }
   ],
   "source": [
    "print(modelo)  \n",
    "# Muestra las capas en orden y sus tamaños"
   ]
  },
  {
   "cell_type": "code",
   "execution_count": 12,
   "id": "431f2e6b",
   "metadata": {},
   "outputs": [
    {
     "data": {
      "application/vnd.jupyter.widget-view+json": {
       "model_id": "081f9675c1d74771a1512d01425a332f",
       "version_major": 2,
       "version_minor": 0
      },
      "text/plain": [
       "interactive(children=(IntSlider(value=1, description='Capas Ocultas:', max=5, min=1), Output()), _dom_classes=…"
      ]
     },
     "execution_count": 12,
     "metadata": {},
     "output_type": "execute_result"
    }
   ],
   "source": [
    "import ipywidgets as widgets\n",
    "\n",
    "capas_widget = widgets.IntSlider(min=1, max=5, description='Capas Ocultas:')\n",
    "\n",
    "def probar_pytorch(cap):\n",
    "    # 1. Creamos secuencia de capas según slider\n",
    "    class RedDyn(nn.Module):\n",
    "        def __init__(self, n_entradas, n_ocultas, n_capas):\n",
    "            super().__init__()\n",
    "            self.layers = nn.ModuleList()\n",
    "            self.layers.append(nn.Linear(n_entradas, n_ocultas))\n",
    "            for _ in range(n_capas-1):\n",
    "                self.layers.append(nn.Linear(n_ocultas, n_ocultas))\n",
    "            self.out = nn.Linear(n_ocultas, 1)\n",
    "            self.relu = nn.ReLU()\n",
    "            self.sig = nn.Sigmoid()\n",
    "        def forward(self, x):\n",
    "            for layer in self.layers:\n",
    "                x = self.relu(layer(x))\n",
    "            x = self.sig(self.out(x)).squeeze(1)\n",
    "            return x\n",
    "\n",
    "    model = RedDyn(4, 4, cap)  # 4 características, 4 neuronas por capa\n",
    "    crit = nn.BCELoss()\n",
    "    opt = optim.Adam(model.parameters(), lr=0.001)\n",
    "\n",
    "    # Entrenamiento rápido (3 épocas)\n",
    "    for _ in range(3):\n",
    "        y_p = model(X)\n",
    "        l = crit(y_p, y.float())\n",
    "        opt.zero_grad(); l.backward(); opt.step()\n",
    "\n",
    "    # Evaluación\n",
    "    with torch.no_grad():\n",
    "        y_p = model(X)\n",
    "        preds = (y_p>0.5).int()\n",
    "        acc = (preds==y).float().mean()\n",
    "    print(f\"Precisión con {cap} capas: {acc*100:.2f}%\")\n",
    "\n",
    "widgets.interactive(probar_pytorch, cap=capas_widget)"
   ]
  }
 ],
 "metadata": {
  "kernelspec": {
   "display_name": ".venv",
   "language": "python",
   "name": "python3"
  },
  "language_info": {
   "codemirror_mode": {
    "name": "ipython",
    "version": 3
   },
   "file_extension": ".py",
   "mimetype": "text/x-python",
   "name": "python",
   "nbconvert_exporter": "python",
   "pygments_lexer": "ipython3",
   "version": "3.13.5"
  }
 },
 "nbformat": 4,
 "nbformat_minor": 5
}
