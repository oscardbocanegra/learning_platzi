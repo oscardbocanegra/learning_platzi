{
 "cells": [
  {
   "cell_type": "code",
   "execution_count": 1,
   "id": "3ba41c55",
   "metadata": {},
   "outputs": [],
   "source": [
    "from sklearn.linear_model import LinearRegression\n",
    "from sklearn.model_selection import train_test_split\n",
    "import pandas as pd\n",
    "import numpy as np\n",
    "from sklearn.metrics import mean_squared_error, r2_score\n",
    "\n",
    "# Dataset\n",
    "df = pd.read_csv(\"../data/partidos_cebollitas.csv\")\n",
    "df['diferencia_goles'] = df['goles_local'] - df['goles_visitante']\n",
    "X = df[['posesion_local (%)', 'tiros_arco_local']]\n",
    "y = df['diferencia_goles']\n",
    "X_train, X_test, y_train, y_test = train_test_split(X, y, test_size=0.2, random_state=42)\n",
    "\n",
    "# Modelo base\n",
    "modelo = LinearRegression()\n",
    "modelo.fit(X_train, y_train)\n",
    "y_pred = modelo.predict(X_test)"
   ]
  },
  {
   "cell_type": "code",
   "execution_count": 2,
   "id": "f436bf42",
   "metadata": {},
   "outputs": [
    {
     "name": "stdout",
     "output_type": "stream",
     "text": [
      "RMSE: 2.23\n",
      "R²: -0.03\n"
     ]
    }
   ],
   "source": [
    "rmse = np.sqrt(mean_squared_error(y_test, y_pred))\n",
    "r2 = r2_score(y_test, y_pred)\n",
    "\n",
    "print(f\"RMSE: {rmse:.2f}\")\n",
    "print(f\"R²: {r2:.2f}\")"
   ]
  },
  {
   "cell_type": "code",
   "execution_count": 3,
   "id": "4d4aff14",
   "metadata": {},
   "outputs": [
    {
     "name": "stdout",
     "output_type": "stream",
     "text": [
      "❌ El modelo no explica la varianza. Peor que adivinar.\n"
     ]
    }
   ],
   "source": [
    "if r2 < 0:\n",
    "    print(\"❌ El modelo no explica la varianza. Peor que adivinar.\")\n",
    "elif r2 < 0.3:\n",
    "    print(\"⚠️ El modelo explica muy poco. Posible underfitting.\")\n",
    "else:\n",
    "    print(\"✅ El modelo tiene un poder explicativo aceptable.\")"
   ]
  },
  {
   "cell_type": "code",
   "execution_count": null,
   "id": "a13acc69",
   "metadata": {},
   "outputs": [],
   "source": [
    "import seaborn as sns\n",
    "import matplotlib.pyplot as plt\n",
    "\n",
    "sns.histplot(y_test - y_pred, bins=15, kde=True)\n",
    "plt.title(\"Distribución de errores de predicción\")\n",
    "plt.xlabel(\"Error (real - predicción)\")\n",
    "plt.grid(True)\n",
    "plt.show()"
   ]
  }
 ],
 "metadata": {
  "kernelspec": {
   "display_name": ".venv",
   "language": "python",
   "name": "python3"
  },
  "language_info": {
   "codemirror_mode": {
    "name": "ipython",
    "version": 3
   },
   "file_extension": ".py",
   "mimetype": "text/x-python",
   "name": "python",
   "nbconvert_exporter": "python",
   "pygments_lexer": "ipython3",
   "version": "3.13.5"
  }
 },
 "nbformat": 4,
 "nbformat_minor": 5
}
