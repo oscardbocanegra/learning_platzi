{
 "cells": [
  {
   "cell_type": "code",
   "execution_count": 1,
   "id": "654b1db3",
   "metadata": {},
   "outputs": [],
   "source": [
    "import pandas as pd\n",
    "\n",
    "from sklearn.neighbors import KNeighborsClassifier\n",
    "from sklearn.ensemble import BaggingClassifier\n",
    "\n",
    "from sklearn.model_selection import train_test_split\n",
    "from sklearn.metrics import accuracy_score"
   ]
  },
  {
   "cell_type": "code",
   "execution_count": 2,
   "id": "6f7ce9e9",
   "metadata": {},
   "outputs": [
    {
     "data": {
      "text/plain": [
       "count    1025.000000\n",
       "mean        0.513171\n",
       "std         0.500070\n",
       "min         0.000000\n",
       "25%         0.000000\n",
       "50%         1.000000\n",
       "75%         1.000000\n",
       "max         1.000000\n",
       "Name: target, dtype: float64"
      ]
     },
     "execution_count": 2,
     "metadata": {},
     "output_type": "execute_result"
    }
   ],
   "source": [
    "df = pd.read_csv('data/heart.csv')\n",
    "df['target'].describe()"
   ]
  },
  {
   "cell_type": "code",
   "execution_count": 3,
   "id": "c6d02fef",
   "metadata": {},
   "outputs": [],
   "source": [
    "X = df.drop('target', axis=1)\n",
    "y = df['target']\n",
    "\n",
    "X_train, X_test, y_train, y_test = train_test_split(X, y, test_size=0.35)"
   ]
  },
  {
   "cell_type": "code",
   "execution_count": 5,
   "id": "5d73f4e9",
   "metadata": {},
   "outputs": [
    {
     "name": "stdout",
     "output_type": "stream",
     "text": [
      "KNN Accuracy: 0.7214484679665738\n"
     ]
    }
   ],
   "source": [
    "knn_class = KNeighborsClassifier().fit(X_train, y_train)\n",
    "knn_pred = knn_class.predict(X_test)\n",
    "knn_acc = accuracy_score(y_test, knn_pred)\n",
    "print(f'KNN Accuracy: {knn_acc}')"
   ]
  },
  {
   "cell_type": "code",
   "execution_count": 7,
   "id": "981e3ea6",
   "metadata": {},
   "outputs": [
    {
     "name": "stdout",
     "output_type": "stream",
     "text": [
      "Bagging KNN Accuracy: 0.7576601671309192\n"
     ]
    }
   ],
   "source": [
    "bag_class = BaggingClassifier(estimator=KNeighborsClassifier(), n_estimators=50).fit(X_train, y_train)\n",
    "bag_pred = bag_class.predict(X_test)\n",
    "bag_acc = accuracy_score(y_test, bag_pred)\n",
    "print(f'Bagging KNN Accuracy: {bag_acc}')"
   ]
  },
  {
   "cell_type": "code",
   "execution_count": null,
   "id": "577d5e85",
   "metadata": {},
   "outputs": [],
   "source": []
  }
 ],
 "metadata": {
  "kernelspec": {
   "display_name": ".venv",
   "language": "python",
   "name": "python3"
  },
  "language_info": {
   "codemirror_mode": {
    "name": "ipython",
    "version": 3
   },
   "file_extension": ".py",
   "mimetype": "text/x-python",
   "name": "python",
   "nbconvert_exporter": "python",
   "pygments_lexer": "ipython3",
   "version": "3.13.3"
  }
 },
 "nbformat": 4,
 "nbformat_minor": 5
}
