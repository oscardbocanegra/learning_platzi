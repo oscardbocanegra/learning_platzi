{
 "cells": [
  {
   "cell_type": "code",
   "execution_count": 1,
   "id": "cc7e47e0",
   "metadata": {},
   "outputs": [],
   "source": [
    "import pandas as pd\n",
    "\n",
    "from sklearn.ensemble import GradientBoostingClassifier\n",
    "\n",
    "from sklearn.model_selection import train_test_split\n",
    "from sklearn.metrics import accuracy_score"
   ]
  },
  {
   "cell_type": "code",
   "execution_count": 2,
   "id": "2d9aa8ce",
   "metadata": {},
   "outputs": [],
   "source": [
    "dt_heart = pd.read_csv('data/heart.csv')\n",
    "X = dt_heart.drop('target', axis=1)\n",
    "y = dt_heart['target']"
   ]
  },
  {
   "cell_type": "code",
   "execution_count": 3,
   "id": "d688c50c",
   "metadata": {},
   "outputs": [],
   "source": [
    "X_train, X_test, y_train, y_test = train_test_split(X, y, test_size=0.35)"
   ]
  },
  {
   "cell_type": "code",
   "execution_count": 4,
   "id": "92e1ae33",
   "metadata": {},
   "outputs": [
    {
     "name": "stdout",
     "output_type": "stream",
     "text": [
      "Gradient Boosting Accuracy: 0.9331476323119777\n"
     ]
    }
   ],
   "source": [
    "boost = GradientBoostingClassifier(n_estimators=50).fit(X_train, y_train)\n",
    "boost_pred = boost.predict(X_test)\n",
    "boost_acc = accuracy_score(y_test, boost_pred)\n",
    "print(f'Gradient Boosting Accuracy: {boost_acc}')\n"
   ]
  },
  {
   "cell_type": "code",
   "execution_count": null,
   "id": "9963dac2",
   "metadata": {},
   "outputs": [],
   "source": []
  }
 ],
 "metadata": {
  "kernelspec": {
   "display_name": ".venv",
   "language": "python",
   "name": "python3"
  },
  "language_info": {
   "codemirror_mode": {
    "name": "ipython",
    "version": 3
   },
   "file_extension": ".py",
   "mimetype": "text/x-python",
   "name": "python",
   "nbconvert_exporter": "python",
   "pygments_lexer": "ipython3",
   "version": "3.13.3"
  }
 },
 "nbformat": 4,
 "nbformat_minor": 5
}
