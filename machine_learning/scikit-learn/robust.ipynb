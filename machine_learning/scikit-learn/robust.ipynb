{
 "cells": [
  {
   "cell_type": "code",
   "execution_count": 1,
   "id": "e85d0ee1",
   "metadata": {},
   "outputs": [],
   "source": [
    "import pandas as pd\n",
    "\n",
    "from sklearn.linear_model import (RANSACRegressor, HuberRegressor)\n",
    "from sklearn.svm import SVR\n",
    "\n",
    "from sklearn.model_selection import train_test_split\n",
    "from sklearn.metrics import mean_squared_error"
   ]
  },
  {
   "cell_type": "code",
   "execution_count": 7,
   "id": "5211bdb9",
   "metadata": {},
   "outputs": [
    {
     "name": "stdout",
     "output_type": "stream",
     "text": [
      "       country  rank  score  ...  generosity  corruption  dystopia\n",
      "0       Norway     1  7.537  ...    0.362012    0.315964  2.277027\n",
      "1      Denmark     2  7.522  ...    0.355280    0.400770  2.313707\n",
      "2      Iceland     3  7.504  ...    0.475540    0.153527  2.322715\n",
      "3  Switzerland     4  7.494  ...    0.290549    0.367007  2.276716\n",
      "4      Finland     5  7.469  ...    0.245483    0.382612  2.430182\n",
      "\n",
      "[5 rows x 12 columns]\n"
     ]
    }
   ],
   "source": [
    "dataset = pd.read_csv('data/felicidad.csv')\n",
    "print(dataset.head())"
   ]
  },
  {
   "cell_type": "code",
   "execution_count": 8,
   "id": "5d3f6479",
   "metadata": {},
   "outputs": [],
   "source": [
    "X = dataset.drop(['country', 'score'], axis=1)\n",
    "y = dataset['score']\n",
    "\n",
    "X_train, X_test, y_train, y_test = train_test_split(X, y, test_size=0.3, random_state=42)"
   ]
  },
  {
   "cell_type": "code",
   "execution_count": 10,
   "id": "40d0609a",
   "metadata": {},
   "outputs": [],
   "source": [
    "estiamadores = {\n",
    "    'RANSAC': RANSACRegressor(),\n",
    "    'Huber': HuberRegressor(epsilon=1.35),\n",
    "    'SVR': SVR(gamma= 'auto', C=1.0, epsilon=0.1)\n",
    "}"
   ]
  },
  {
   "cell_type": "code",
   "execution_count": 11,
   "id": "6cccee45",
   "metadata": {},
   "outputs": [
    {
     "name": "stdout",
     "output_type": "stream",
     "text": [
      "RANSAC MSE: 1.275639850374841e-19\n",
      "Huber MSE: 2.4824525977787797e-06\n",
      "SVR MSE: 0.07455771301888525\n"
     ]
    },
    {
     "name": "stderr",
     "output_type": "stream",
     "text": [
      "d:\\david\\learning_platzi\\machine_learning\\scikit-learn\\.venv\\Lib\\site-packages\\sklearn\\linear_model\\_huber.py:348: ConvergenceWarning: lbfgs failed to converge after 100 iteration(s) (status=1):\n",
      "STOP: TOTAL NO. OF ITERATIONS REACHED LIMIT\n",
      "\n",
      "Increase the number of iterations to improve the convergence (max_iter=100).\n",
      "You might also want to scale the data as shown in:\n",
      "    https://scikit-learn.org/stable/modules/preprocessing.html\n",
      "  self.n_iter_ = _check_optimize_result(\"lbfgs\", opt_res, self.max_iter)\n"
     ]
    }
   ],
   "source": [
    "for name, est in estiamadores.items():\n",
    "    est.fit(X_train, y_train)\n",
    "    y_pred = est.predict(X_test)\n",
    "    mse = mean_squared_error(y_test, y_pred)\n",
    "    print(f'{name} MSE: {mse}')"
   ]
  },
  {
   "cell_type": "code",
   "execution_count": null,
   "id": "aad3362c",
   "metadata": {},
   "outputs": [],
   "source": []
  }
 ],
 "metadata": {
  "kernelspec": {
   "display_name": ".venv",
   "language": "python",
   "name": "python3"
  },
  "language_info": {
   "codemirror_mode": {
    "name": "ipython",
    "version": 3
   },
   "file_extension": ".py",
   "mimetype": "text/x-python",
   "name": "python",
   "nbconvert_exporter": "python",
   "pygments_lexer": "ipython3",
   "version": "3.13.3"
  }
 },
 "nbformat": 4,
 "nbformat_minor": 5
}
