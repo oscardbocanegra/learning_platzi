{
 "cells": [
  {
   "cell_type": "code",
   "execution_count": 2,
   "id": "8623e7ca",
   "metadata": {},
   "outputs": [],
   "source": [
    "import numpy as np"
   ]
  },
  {
   "cell_type": "markdown",
   "id": "67ec865a",
   "metadata": {},
   "source": [
    "Scalar"
   ]
  },
  {
   "cell_type": "code",
   "execution_count": 3,
   "id": "8af962c7",
   "metadata": {},
   "outputs": [
    {
     "name": "stdout",
     "output_type": "stream",
     "text": [
      "()\n"
     ]
    },
    {
     "data": {
      "text/plain": [
       "0"
      ]
     },
     "execution_count": 3,
     "metadata": {},
     "output_type": "execute_result"
    }
   ],
   "source": [
    "x = np.array(42)\n",
    "print(x.shape)\n",
    "x.ndim"
   ]
  },
  {
   "cell_type": "markdown",
   "id": "a023084b",
   "metadata": {},
   "source": [
    "vector"
   ]
  },
  {
   "cell_type": "code",
   "execution_count": 4,
   "id": "da64ed4c",
   "metadata": {},
   "outputs": [
    {
     "name": "stdout",
     "output_type": "stream",
     "text": [
      "(6,)\n"
     ]
    },
    {
     "data": {
      "text/plain": [
       "1"
      ]
     },
     "execution_count": 4,
     "metadata": {},
     "output_type": "execute_result"
    }
   ],
   "source": [
    "x = np.array([42, 4, 5, 6, 7, 8])\n",
    "print(x.shape)\n",
    "x.ndim"
   ]
  },
  {
   "cell_type": "markdown",
   "id": "3d8f9dda",
   "metadata": {},
   "source": [
    "matriz"
   ]
  },
  {
   "cell_type": "code",
   "execution_count": 5,
   "id": "2caec26e",
   "metadata": {},
   "outputs": [
    {
     "name": "stdout",
     "output_type": "stream",
     "text": [
      "(2, 6)\n"
     ]
    },
    {
     "data": {
      "text/plain": [
       "2"
      ]
     },
     "execution_count": 5,
     "metadata": {},
     "output_type": "execute_result"
    }
   ],
   "source": [
    "x = np.array([[42, 4, 5, 6, 7, 8], [66, 7, 8, 9, 10, 11]])\n",
    "print(x.shape)\n",
    "x.ndim"
   ]
  },
  {
   "cell_type": "markdown",
   "id": "9ac34b67",
   "metadata": {},
   "source": [
    "tensor"
   ]
  },
  {
   "cell_type": "code",
   "execution_count": 6,
   "id": "414fe9ae",
   "metadata": {},
   "outputs": [
    {
     "name": "stdout",
     "output_type": "stream",
     "text": [
      "(3, 2, 6)\n"
     ]
    },
    {
     "data": {
      "text/plain": [
       "3"
      ]
     },
     "execution_count": 6,
     "metadata": {},
     "output_type": "execute_result"
    }
   ],
   "source": [
    "x = np.array([[[42, 4, 5, 6, 7, 8],\n",
    "               [66, 7, 8, 9, 10, 11]],\n",
    "              [[1, 2, 3, 4, 5, 6],\n",
    "               [7, 8, 9, 10, 11, 12]],\n",
    "              [ [13, 14, 15, 16, 17, 18],\n",
    "               [ 19, 20, 21, 22, 23, 24]]])\n",
    "print(x.shape)\n",
    "x.ndim"
   ]
  },
  {
   "cell_type": "markdown",
   "id": "365ebb33",
   "metadata": {},
   "source": [
    "Reshape"
   ]
  },
  {
   "cell_type": "code",
   "execution_count": 7,
   "id": "1aab45d6",
   "metadata": {},
   "outputs": [
    {
     "data": {
      "text/plain": [
       "(4, 2)"
      ]
     },
     "execution_count": 7,
     "metadata": {},
     "output_type": "execute_result"
    }
   ],
   "source": [
    "x = np.array([[0, 1],\n",
    "                [2, 3],\n",
    "                [4, 5],\n",
    "                [6, 7]            \n",
    "])\n",
    "x.shape"
   ]
  },
  {
   "cell_type": "code",
   "execution_count": 8,
   "id": "aefdd6e5",
   "metadata": {},
   "outputs": [
    {
     "data": {
      "text/plain": [
       "array([[0],\n",
       "       [1],\n",
       "       [2],\n",
       "       [3],\n",
       "       [4],\n",
       "       [5],\n",
       "       [6],\n",
       "       [7]])"
      ]
     },
     "execution_count": 8,
     "metadata": {},
     "output_type": "execute_result"
    }
   ],
   "source": [
    "x.reshape(8, 1)"
   ]
  },
  {
   "cell_type": "code",
   "execution_count": 9,
   "id": "846f4193",
   "metadata": {},
   "outputs": [
    {
     "data": {
      "text/plain": [
       "array([[0, 1, 2, 3, 4, 5, 6, 7]])"
      ]
     },
     "execution_count": 9,
     "metadata": {},
     "output_type": "execute_result"
    }
   ],
   "source": [
    "x.reshape(1, 8)"
   ]
  },
  {
   "cell_type": "code",
   "execution_count": 10,
   "id": "c44cacdf",
   "metadata": {},
   "outputs": [
    {
     "data": {
      "text/plain": [
       "array([[0, 1, 2, 3],\n",
       "       [4, 5, 6, 7]])"
      ]
     },
     "execution_count": 10,
     "metadata": {},
     "output_type": "execute_result"
    }
   ],
   "source": [
    "x.reshape(2, 4)"
   ]
  },
  {
   "cell_type": "code",
   "execution_count": null,
   "id": "95597d36",
   "metadata": {},
   "outputs": [],
   "source": []
  }
 ],
 "metadata": {
  "kernelspec": {
   "display_name": ".venv",
   "language": "python",
   "name": "python3"
  },
  "language_info": {
   "codemirror_mode": {
    "name": "ipython",
    "version": 3
   },
   "file_extension": ".py",
   "mimetype": "text/x-python",
   "name": "python",
   "nbconvert_exporter": "python",
   "pygments_lexer": "ipython3",
   "version": "3.13.3"
  }
 },
 "nbformat": 4,
 "nbformat_minor": 5
}
