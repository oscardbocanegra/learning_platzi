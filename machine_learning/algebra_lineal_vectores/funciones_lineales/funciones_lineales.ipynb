{
 "cells": [
  {
   "cell_type": "code",
   "execution_count": 2,
   "id": "998c997e",
   "metadata": {},
   "outputs": [],
   "source": [
    "import numpy as np"
   ]
  },
  {
   "cell_type": "markdown",
   "id": "a363e40f",
   "metadata": {},
   "source": [
    "## Funcion suma"
   ]
  },
  {
   "cell_type": "code",
   "execution_count": 3,
   "id": "71ba693c",
   "metadata": {},
   "outputs": [],
   "source": [
    "def f(x):\n",
    "    return np.sum(x)"
   ]
  },
  {
   "cell_type": "code",
   "execution_count": 4,
   "id": "81b5b384",
   "metadata": {},
   "outputs": [
    {
     "name": "stdout",
     "output_type": "stream",
     "text": [
      "f(0) =  0\n"
     ]
    }
   ],
   "source": [
    "print('f(0) = ', f( np.array([0, 0, 0, 0])))"
   ]
  },
  {
   "cell_type": "code",
   "execution_count": 5,
   "id": "df04fa99",
   "metadata": {},
   "outputs": [
    {
     "name": "stdout",
     "output_type": "stream",
     "text": [
      "f([1, 0, 0, 0]) =  1\n"
     ]
    }
   ],
   "source": [
    "print('f([1, 0, 0, 0]) = ', f( np.array([1, 0, 0, 0])))"
   ]
  },
  {
   "cell_type": "code",
   "execution_count": 6,
   "id": "67861d9d",
   "metadata": {},
   "outputs": [
    {
     "name": "stdout",
     "output_type": "stream",
     "text": [
      "f([1, 1, 1, 1]) =  4\n"
     ]
    }
   ],
   "source": [
    "print('f([1, 1, 1, 1]) = ', f( np.array([1, 1, 1, 1])))"
   ]
  },
  {
   "cell_type": "markdown",
   "id": "1c958d1c",
   "metadata": {},
   "source": [
    "## Proyeccion sobre x[0]"
   ]
  },
  {
   "cell_type": "code",
   "execution_count": 7,
   "id": "91fcd06d",
   "metadata": {},
   "outputs": [],
   "source": [
    "def g(x):\n",
    "    return x[0]"
   ]
  },
  {
   "cell_type": "code",
   "execution_count": 8,
   "id": "d17f5a9b",
   "metadata": {},
   "outputs": [
    {
     "name": "stdout",
     "output_type": "stream",
     "text": [
      "g(0) =  0\n"
     ]
    }
   ],
   "source": [
    "print('g(0) = ', g( np.array([0, 0, 0])))"
   ]
  },
  {
   "cell_type": "code",
   "execution_count": 9,
   "id": "77b87bd4",
   "metadata": {},
   "outputs": [
    {
     "name": "stdout",
     "output_type": "stream",
     "text": [
      "g([0, 0, 1]) =  0\n"
     ]
    }
   ],
   "source": [
    "print('g([0, 0, 1]) = ', g( np.array([0, 0, 1])))"
   ]
  },
  {
   "cell_type": "code",
   "execution_count": 10,
   "id": "9d7cdd8e",
   "metadata": {},
   "outputs": [
    {
     "name": "stdout",
     "output_type": "stream",
     "text": [
      "g([1, 0, 4]) =  1\n"
     ]
    }
   ],
   "source": [
    "print('g([1, 0, 4]) = ', g( np.array([1, 0, 4])))"
   ]
  },
  {
   "cell_type": "markdown",
   "id": "a214520d",
   "metadata": {},
   "source": [
    "## Funcion producto interno"
   ]
  },
  {
   "cell_type": "code",
   "execution_count": 11,
   "id": "340c78d9",
   "metadata": {},
   "outputs": [],
   "source": [
    "a = np.array([1, 1, 1, 1])\n",
    "b = np.array([1, 0, 1, 0])\n",
    "\n",
    "x, y = 1, -2"
   ]
  },
  {
   "cell_type": "code",
   "execution_count": 12,
   "id": "0b82acc7",
   "metadata": {},
   "outputs": [
    {
     "name": "stdout",
     "output_type": "stream",
     "text": [
      "f(x*a + y*b) =  0\n"
     ]
    }
   ],
   "source": [
    "print('f(x*a + y*b) = ', f(x*a + y*b))"
   ]
  },
  {
   "cell_type": "code",
   "execution_count": 13,
   "id": "9c263bc0",
   "metadata": {},
   "outputs": [
    {
     "name": "stdout",
     "output_type": "stream",
     "text": [
      "x*f(a) + y*f(b) =  0\n"
     ]
    }
   ],
   "source": [
    "print('x*f(a) + y*f(b) = ', x*f(a) + y*f(b))"
   ]
  },
  {
   "cell_type": "markdown",
   "id": "1a8c5f20",
   "metadata": {},
   "source": [
    "## Maximo"
   ]
  },
  {
   "cell_type": "code",
   "execution_count": 14,
   "id": "4b4475b5",
   "metadata": {},
   "outputs": [],
   "source": [
    "def MAX(x):\n",
    "    return np.max(x)"
   ]
  },
  {
   "cell_type": "code",
   "execution_count": 15,
   "id": "261ab9c0",
   "metadata": {},
   "outputs": [
    {
     "name": "stdout",
     "output_type": "stream",
     "text": [
      "MAX([1, 0, 2]) =  2\n"
     ]
    }
   ],
   "source": [
    "print('MAX([1, 0, 2]) = ', MAX(np.array([1, 0, 2])))"
   ]
  },
  {
   "cell_type": "code",
   "execution_count": 16,
   "id": "6f72ee56",
   "metadata": {},
   "outputs": [],
   "source": [
    "x = np.array([1, -1])\n",
    "y = np.array([-1, 1])\n",
    "a,b = 1/2, 1/2"
   ]
  },
  {
   "cell_type": "code",
   "execution_count": 17,
   "id": "e37186ae",
   "metadata": {},
   "outputs": [
    {
     "name": "stdout",
     "output_type": "stream",
     "text": [
      "MAX(a*x + b*y) = 0.0\n"
     ]
    }
   ],
   "source": [
    "print('MAX(a*x + b*y) =', MAX(a*x + b*y))"
   ]
  },
  {
   "cell_type": "code",
   "execution_count": 18,
   "id": "f1b6002b",
   "metadata": {},
   "outputs": [
    {
     "name": "stdout",
     "output_type": "stream",
     "text": [
      "a*MAX(x) + b*MAX(y) =  1.0\n"
     ]
    }
   ],
   "source": [
    "print('a*MAX(x) + b*MAX(y) = ', MAX(a*x) + MAX(b*y))"
   ]
  },
  {
   "cell_type": "code",
   "execution_count": null,
   "id": "09a12694",
   "metadata": {},
   "outputs": [],
   "source": []
  }
 ],
 "metadata": {
  "kernelspec": {
   "display_name": ".venv",
   "language": "python",
   "name": "python3"
  },
  "language_info": {
   "codemirror_mode": {
    "name": "ipython",
    "version": 3
   },
   "file_extension": ".py",
   "mimetype": "text/x-python",
   "name": "python",
   "nbconvert_exporter": "python",
   "pygments_lexer": "ipython3",
   "version": "3.13.3"
  }
 },
 "nbformat": 4,
 "nbformat_minor": 5
}
