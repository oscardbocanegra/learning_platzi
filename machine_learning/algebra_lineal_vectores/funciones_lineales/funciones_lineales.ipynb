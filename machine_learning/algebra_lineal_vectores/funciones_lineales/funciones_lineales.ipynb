{
 "cells": [
  {
   "cell_type": "code",
   "execution_count": 2,
   "id": "998c997e",
   "metadata": {},
   "outputs": [],
   "source": [
    "import numpy as np"
   ]
  },
  {
   "cell_type": "markdown",
   "id": "a363e40f",
   "metadata": {},
   "source": [
    "## Funcion suma"
   ]
  },
  {
   "cell_type": "code",
   "execution_count": 3,
   "id": "71ba693c",
   "metadata": {},
   "outputs": [],
   "source": [
    "def f(x):\n",
    "    return np.sum(x)"
   ]
  },
  {
   "cell_type": "code",
   "execution_count": 4,
   "id": "81b5b384",
   "metadata": {},
   "outputs": [
    {
     "name": "stdout",
     "output_type": "stream",
     "text": [
      "f(0) =  0\n"
     ]
    }
   ],
   "source": [
    "print('f(0) = ', f( np.array([0, 0, 0, 0])))"
   ]
  },
  {
   "cell_type": "code",
   "execution_count": 5,
   "id": "df04fa99",
   "metadata": {},
   "outputs": [
    {
     "name": "stdout",
     "output_type": "stream",
     "text": [
      "f([1, 0, 0, 0]) =  1\n"
     ]
    }
   ],
   "source": [
    "print('f([1, 0, 0, 0]) = ', f( np.array([1, 0, 0, 0])))"
   ]
  },
  {
   "cell_type": "code",
   "execution_count": 6,
   "id": "67861d9d",
   "metadata": {},
   "outputs": [
    {
     "name": "stdout",
     "output_type": "stream",
     "text": [
      "f([1, 1, 1, 1]) =  4\n"
     ]
    }
   ],
   "source": [
    "print('f([1, 1, 1, 1]) = ', f( np.array([1, 1, 1, 1])))"
   ]
  },
  {
   "cell_type": "markdown",
   "id": "1c958d1c",
   "metadata": {},
   "source": [
    "## Proyeccion sobre x[0]"
   ]
  },
  {
   "cell_type": "code",
   "execution_count": 7,
   "id": "91fcd06d",
   "metadata": {},
   "outputs": [],
   "source": [
    "def g(x):\n",
    "    return x[0]"
   ]
  },
  {
   "cell_type": "code",
   "execution_count": 8,
   "id": "d17f5a9b",
   "metadata": {},
   "outputs": [
    {
     "name": "stdout",
     "output_type": "stream",
     "text": [
      "g(0) =  0\n"
     ]
    }
   ],
   "source": [
    "print('g(0) = ', g( np.array([0, 0, 0])))"
   ]
  },
  {
   "cell_type": "code",
   "execution_count": 9,
   "id": "77b87bd4",
   "metadata": {},
   "outputs": [
    {
     "name": "stdout",
     "output_type": "stream",
     "text": [
      "g([0, 0, 1]) =  0\n"
     ]
    }
   ],
   "source": [
    "print('g([0, 0, 1]) = ', g( np.array([0, 0, 1])))"
   ]
  },
  {
   "cell_type": "code",
   "execution_count": 10,
   "id": "9d7cdd8e",
   "metadata": {},
   "outputs": [
    {
     "name": "stdout",
     "output_type": "stream",
     "text": [
      "g([1, 0, 4]) =  1\n"
     ]
    }
   ],
   "source": [
    "print('g([1, 0, 4]) = ', g( np.array([1, 0, 4])))"
   ]
  },
  {
   "cell_type": "markdown",
   "id": "a214520d",
   "metadata": {},
   "source": [
    "## Funcion producto interno"
   ]
  },
  {
   "cell_type": "code",
   "execution_count": 11,
   "id": "340c78d9",
   "metadata": {},
   "outputs": [],
   "source": [
    "a = np.array([1, 1, 1, 1])\n",
    "b = np.array([1, 0, 1, 0])\n",
    "\n",
    "x, y = 1, -2"
   ]
  },
  {
   "cell_type": "code",
   "execution_count": 12,
   "id": "0b82acc7",
   "metadata": {},
   "outputs": [
    {
     "name": "stdout",
     "output_type": "stream",
     "text": [
      "f(x*a + y*b) =  0\n"
     ]
    }
   ],
   "source": [
    "print('f(x*a + y*b) = ', f(x*a + y*b))"
   ]
  },
  {
   "cell_type": "code",
   "execution_count": 13,
   "id": "9c263bc0",
   "metadata": {},
   "outputs": [
    {
     "name": "stdout",
     "output_type": "stream",
     "text": [
      "x*f(a) + y*f(b) =  0\n"
     ]
    }
   ],
   "source": [
    "print('x*f(a) + y*f(b) = ', x*f(a) + y*f(b))"
   ]
  },
  {
   "cell_type": "markdown",
   "id": "1a8c5f20",
   "metadata": {},
   "source": [
    "## Maximo"
   ]
  },
  {
   "cell_type": "code",
   "execution_count": 14,
   "id": "4b4475b5",
   "metadata": {},
   "outputs": [],
   "source": [
    "def MAX(x):\n",
    "    return np.max(x)"
   ]
  },
  {
   "cell_type": "code",
   "execution_count": 15,
   "id": "261ab9c0",
   "metadata": {},
   "outputs": [
    {
     "name": "stdout",
     "output_type": "stream",
     "text": [
      "MAX([1, 0, 2]) =  2\n"
     ]
    }
   ],
   "source": [
    "print('MAX([1, 0, 2]) = ', MAX(np.array([1, 0, 2])))"
   ]
  },
  {
   "cell_type": "code",
   "execution_count": 16,
   "id": "6f72ee56",
   "metadata": {},
   "outputs": [],
   "source": [
    "x = np.array([1, -1])\n",
    "y = np.array([-1, 1])\n",
    "a,b = 1/2, 1/2"
   ]
  },
  {
   "cell_type": "code",
   "execution_count": 17,
   "id": "e37186ae",
   "metadata": {},
   "outputs": [
    {
     "name": "stdout",
     "output_type": "stream",
     "text": [
      "MAX(a*x + b*y) = 0.0\n"
     ]
    }
   ],
   "source": [
    "print('MAX(a*x + b*y) =', MAX(a*x + b*y))"
   ]
  },
  {
   "cell_type": "code",
   "execution_count": 18,
   "id": "f1b6002b",
   "metadata": {},
   "outputs": [
    {
     "name": "stdout",
     "output_type": "stream",
     "text": [
      "a*MAX(x) + b*MAX(y) =  1.0\n"
     ]
    }
   ],
   "source": [
    "print('a*MAX(x) + b*MAX(y) = ', MAX(a*x) + MAX(b*y))"
   ]
  },
  {
   "cell_type": "markdown",
   "id": "7a9067a7",
   "metadata": {},
   "source": [
    "## Aproximaciones de taylor"
   ]
  },
  {
   "cell_type": "code",
   "execution_count": 1,
   "id": "09a12694",
   "metadata": {},
   "outputs": [],
   "source": [
    "import numpy as np"
   ]
  },
  {
   "cell_type": "code",
   "execution_count": 4,
   "id": "58f7a378",
   "metadata": {},
   "outputs": [],
   "source": [
    "def gradF(z):\n",
    "    return np.array([1-np.exp(z[1]-z[0]), np.exp(z[1]-z[0])])"
   ]
  },
  {
   "cell_type": "code",
   "execution_count": 5,
   "id": "4532cc2b",
   "metadata": {},
   "outputs": [
    {
     "name": "stdout",
     "output_type": "stream",
     "text": [
      "rgadF([1, 2]) =  [-1.71828183  2.71828183]\n"
     ]
    }
   ],
   "source": [
    "z = np.array([1, 2])\n",
    "print('rgadF([1, 2]) = ', gradF(z))"
   ]
  },
  {
   "cell_type": "code",
   "execution_count": 6,
   "id": "72faabca",
   "metadata": {},
   "outputs": [],
   "source": [
    "def F(x):\n",
    "    return x[0] + np.exp(x[1]-x[0])"
   ]
  },
  {
   "cell_type": "code",
   "execution_count": 7,
   "id": "5ad4d7d8",
   "metadata": {},
   "outputs": [
    {
     "name": "stdout",
     "output_type": "stream",
     "text": [
      "f([1, 2]) =  3.718281828459045\n"
     ]
    }
   ],
   "source": [
    "print('f([1, 2]) = ', F(z))"
   ]
  },
  {
   "cell_type": "code",
   "execution_count": 8,
   "id": "0cafa1cc",
   "metadata": {},
   "outputs": [],
   "source": [
    "def taylor_F(x, z):\n",
    "    fz = F(z)\n",
    "    gz = gradF(z)\n",
    "    return fz + gz@(x - z)"
   ]
  },
  {
   "cell_type": "code",
   "execution_count": 9,
   "id": "525182ee",
   "metadata": {},
   "outputs": [
    {
     "name": "stdout",
     "output_type": "stream",
     "text": [
      "taylor_F([1, 2], [1, 2]) =  3.718281828459045\n"
     ]
    }
   ],
   "source": [
    "print('taylor_F([1, 2], [1, 2]) = ', taylor_F(z, z))"
   ]
  },
  {
   "cell_type": "markdown",
   "id": "5b43152c",
   "metadata": {},
   "source": [
    "## Se aproxima z = 0.4"
   ]
  },
  {
   "cell_type": "code",
   "execution_count": 10,
   "id": "91dc7bde",
   "metadata": {},
   "outputs": [],
   "source": [
    "def df(z):\n",
    "    return 2*z - 3*z**2"
   ]
  },
  {
   "cell_type": "code",
   "execution_count": 11,
   "id": "0ff5a894",
   "metadata": {},
   "outputs": [],
   "source": [
    "def tf(x, z):\n",
    "    return f(z) + df(z)*(x-z)"
   ]
  },
  {
   "cell_type": "code",
   "execution_count": 12,
   "id": "6c2954a2",
   "metadata": {},
   "outputs": [],
   "source": [
    "def f(x):\n",
    "    return x**2 - x**3"
   ]
  },
  {
   "cell_type": "code",
   "execution_count": 13,
   "id": "4f07bdd5",
   "metadata": {},
   "outputs": [
    {
     "name": "stdout",
     "output_type": "stream",
     "text": [
      "f(0.4) =  0.09600000000000002\n"
     ]
    }
   ],
   "source": [
    "print('f(0.4) = ', f(0.4))"
   ]
  },
  {
   "cell_type": "code",
   "execution_count": 14,
   "id": "64521312",
   "metadata": {},
   "outputs": [
    {
     "name": "stdout",
     "output_type": "stream",
     "text": [
      "Df(0.4) =  0.31999999999999995\n"
     ]
    }
   ],
   "source": [
    "print('Df(0.4) = ', df(0.4))"
   ]
  },
  {
   "cell_type": "code",
   "execution_count": 16,
   "id": "73fc8da8",
   "metadata": {},
   "outputs": [
    {
     "name": "stdout",
     "output_type": "stream",
     "text": [
      "Collecting matplotlib\n",
      "  Using cached matplotlib-3.10.6-cp313-cp313-win_amd64.whl.metadata (11 kB)\n",
      "Collecting contourpy>=1.0.1 (from matplotlib)\n",
      "  Using cached contourpy-1.3.3-cp313-cp313-win_amd64.whl.metadata (5.5 kB)\n",
      "Collecting cycler>=0.10 (from matplotlib)\n",
      "  Using cached cycler-0.12.1-py3-none-any.whl.metadata (3.8 kB)\n",
      "Collecting fonttools>=4.22.0 (from matplotlib)\n",
      "  Downloading fonttools-4.60.1-cp313-cp313-win_amd64.whl.metadata (114 kB)\n",
      "Collecting kiwisolver>=1.3.1 (from matplotlib)\n",
      "  Using cached kiwisolver-1.4.9-cp313-cp313-win_amd64.whl.metadata (6.4 kB)\n",
      "Requirement already satisfied: numpy>=1.23 in d:\\david\\learning_platzi\\machine_learning\\algebra_lineal_vectores\\.venv\\lib\\site-packages (from matplotlib) (2.3.2)\n",
      "Requirement already satisfied: packaging>=20.0 in d:\\david\\learning_platzi\\machine_learning\\algebra_lineal_vectores\\.venv\\lib\\site-packages (from matplotlib) (25.0)\n",
      "Collecting pillow>=8 (from matplotlib)\n",
      "  Using cached pillow-11.3.0-cp313-cp313-win_amd64.whl.metadata (9.2 kB)\n",
      "Collecting pyparsing>=2.3.1 (from matplotlib)\n",
      "  Downloading pyparsing-3.2.5-py3-none-any.whl.metadata (5.0 kB)\n",
      "Requirement already satisfied: python-dateutil>=2.7 in d:\\david\\learning_platzi\\machine_learning\\algebra_lineal_vectores\\.venv\\lib\\site-packages (from matplotlib) (2.9.0.post0)\n",
      "Requirement already satisfied: six>=1.5 in d:\\david\\learning_platzi\\machine_learning\\algebra_lineal_vectores\\.venv\\lib\\site-packages (from python-dateutil>=2.7->matplotlib) (1.17.0)\n",
      "Using cached matplotlib-3.10.6-cp313-cp313-win_amd64.whl (8.1 MB)\n",
      "Using cached contourpy-1.3.3-cp313-cp313-win_amd64.whl (226 kB)\n",
      "Using cached cycler-0.12.1-py3-none-any.whl (8.3 kB)\n",
      "Downloading fonttools-4.60.1-cp313-cp313-win_amd64.whl (2.3 MB)\n",
      "   ---------------------------------------- 0.0/2.3 MB ? eta -:--:--\n",
      "   ---------------------------------------- 2.3/2.3 MB 18.0 MB/s  0:00:00\n",
      "Using cached kiwisolver-1.4.9-cp313-cp313-win_amd64.whl (73 kB)\n",
      "Using cached pillow-11.3.0-cp313-cp313-win_amd64.whl (7.0 MB)\n",
      "Downloading pyparsing-3.2.5-py3-none-any.whl (113 kB)\n",
      "Installing collected packages: pyparsing, pillow, kiwisolver, fonttools, cycler, contourpy, matplotlib\n",
      "\n",
      "   ---------------------------------------- 0/7 [pyparsing]\n",
      "   ----- ---------------------------------- 1/7 [pillow]\n",
      "   ----- ---------------------------------- 1/7 [pillow]\n",
      "   ----- ---------------------------------- 1/7 [pillow]\n",
      "   ----- ---------------------------------- 1/7 [pillow]\n",
      "   ----- ---------------------------------- 1/7 [pillow]\n",
      "   ----- ---------------------------------- 1/7 [pillow]\n",
      "   ----- ---------------------------------- 1/7 [pillow]\n",
      "   ----- ---------------------------------- 1/7 [pillow]\n",
      "   ----- ---------------------------------- 1/7 [pillow]\n",
      "   ----------- ---------------------------- 2/7 [kiwisolver]\n",
      "   ----------------- ---------------------- 3/7 [fonttools]\n",
      "   ----------------- ---------------------- 3/7 [fonttools]\n",
      "   ----------------- ---------------------- 3/7 [fonttools]\n",
      "   ----------------- ---------------------- 3/7 [fonttools]\n",
      "   ----------------- ---------------------- 3/7 [fonttools]\n",
      "   ----------------- ---------------------- 3/7 [fonttools]\n",
      "   ----------------- ---------------------- 3/7 [fonttools]\n",
      "   ----------------- ---------------------- 3/7 [fonttools]\n",
      "   ----------------- ---------------------- 3/7 [fonttools]\n",
      "   ----------------- ---------------------- 3/7 [fonttools]\n",
      "   ----------------- ---------------------- 3/7 [fonttools]\n",
      "   ----------------- ---------------------- 3/7 [fonttools]\n",
      "   ----------------- ---------------------- 3/7 [fonttools]\n",
      "   ----------------- ---------------------- 3/7 [fonttools]\n",
      "   ----------------- ---------------------- 3/7 [fonttools]\n",
      "   ----------------- ---------------------- 3/7 [fonttools]\n",
      "   ----------------- ---------------------- 3/7 [fonttools]\n",
      "   ----------------- ---------------------- 3/7 [fonttools]\n",
      "   ----------------- ---------------------- 3/7 [fonttools]\n",
      "   ----------------- ---------------------- 3/7 [fonttools]\n",
      "   ----------------- ---------------------- 3/7 [fonttools]\n",
      "   ----------------- ---------------------- 3/7 [fonttools]\n",
      "   ----------------- ---------------------- 3/7 [fonttools]\n",
      "   ----------------- ---------------------- 3/7 [fonttools]\n",
      "   ----------------- ---------------------- 3/7 [fonttools]\n",
      "   ----------------- ---------------------- 3/7 [fonttools]\n",
      "   ---------------------- ----------------- 4/7 [cycler]\n",
      "   ---------------------------- ----------- 5/7 [contourpy]\n",
      "   ---------------------------- ----------- 5/7 [contourpy]\n",
      "   ---------------------------------- ----- 6/7 [matplotlib]\n",
      "   ---------------------------------- ----- 6/7 [matplotlib]\n",
      "   ---------------------------------- ----- 6/7 [matplotlib]\n",
      "   ---------------------------------- ----- 6/7 [matplotlib]\n",
      "   ---------------------------------- ----- 6/7 [matplotlib]\n",
      "   ---------------------------------- ----- 6/7 [matplotlib]\n",
      "   ---------------------------------- ----- 6/7 [matplotlib]\n",
      "   ---------------------------------- ----- 6/7 [matplotlib]\n",
      "   ---------------------------------- ----- 6/7 [matplotlib]\n",
      "   ---------------------------------- ----- 6/7 [matplotlib]\n",
      "   ---------------------------------- ----- 6/7 [matplotlib]\n",
      "   ---------------------------------- ----- 6/7 [matplotlib]\n",
      "   ---------------------------------- ----- 6/7 [matplotlib]\n",
      "   ---------------------------------- ----- 6/7 [matplotlib]\n",
      "   ---------------------------------- ----- 6/7 [matplotlib]\n",
      "   ---------------------------------- ----- 6/7 [matplotlib]\n",
      "   ---------------------------------- ----- 6/7 [matplotlib]\n",
      "   ---------------------------------- ----- 6/7 [matplotlib]\n",
      "   ---------------------------------- ----- 6/7 [matplotlib]\n",
      "   ---------------------------------- ----- 6/7 [matplotlib]\n",
      "   ---------------------------------- ----- 6/7 [matplotlib]\n",
      "   ---------------------------------- ----- 6/7 [matplotlib]\n",
      "   ---------------------------------- ----- 6/7 [matplotlib]\n",
      "   ---------------------------------- ----- 6/7 [matplotlib]\n",
      "   ---------------------------------- ----- 6/7 [matplotlib]\n",
      "   ---------------------------------- ----- 6/7 [matplotlib]\n",
      "   ---------------------------------- ----- 6/7 [matplotlib]\n",
      "   ---------------------------------- ----- 6/7 [matplotlib]\n",
      "   ---------------------------------------- 7/7 [matplotlib]\n",
      "\n",
      "Successfully installed contourpy-1.3.3 cycler-0.12.1 fonttools-4.60.1 kiwisolver-1.4.9 matplotlib-3.10.6 pillow-11.3.0 pyparsing-3.2.5\n",
      "Note: you may need to restart the kernel to use updated packages.\n"
     ]
    }
   ],
   "source": [
    "%pip install matplotlib\n",
    "import matplotlib.pyplot as plt"
   ]
  },
  {
   "cell_type": "code",
   "execution_count": 17,
   "id": "fe7d4a66",
   "metadata": {},
   "outputs": [
    {
     "data": {
      "image/png": "[encoded data removed]",
      "text/plain": [
       "<Figure size 960x720 with 1 Axes>"
      ]
     },
     "metadata": {},
     "output_type": "display_data"
    }
   ],
   "source": [
    "%matplotlib inline\n",
    "fig, ax = plt.subplots(1, 1, figsize=(8, 6), dpi=120)\n",
    "\n",
    "x = np.linspace(0, 1, 1000)\n",
    "taf = lambda x:tf(x, 0.4)\n",
    "\n",
    "ax.plot(x, f(x), label='original')\n",
    "ax.plot(x, taf(x), label='aproximacion')\n",
    "ax.scatter(0.4, f(0.4), color='red')\n",
    "ax.legend()\n",
    "plt.show()"
   ]
  },
  {
   "cell_type": "code",
   "execution_count": null,
   "id": "1f383acd",
   "metadata": {},
   "outputs": [],
   "source": []
  }
 ],
 "metadata": {
  "kernelspec": {
   "display_name": ".venv",
   "language": "python",
   "name": "python3"
  },
  "language_info": {
   "codemirror_mode": {
    "name": "ipython",
    "version": 3
   },
   "file_extension": ".py",
   "mimetype": "text/x-python",
   "name": "python",
   "nbconvert_exporter": "python",
   "pygments_lexer": "ipython3",
   "version": "3.13.3"
  }
 },
 "nbformat": 4,
 "nbformat_minor": 5
}
